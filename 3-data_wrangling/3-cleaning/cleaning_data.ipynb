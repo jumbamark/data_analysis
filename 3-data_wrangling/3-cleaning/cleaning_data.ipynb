{
 "cells": [
  {
   "cell_type": "markdown",
   "metadata": {},
   "source": [
    "# The Final Step: Cleaning data\n",
    "- This is where the quality and tidiness issues identified in the assessing step are remedied\n",
    "\n",
    "- While there are many ways to clean data manually using spreadsheet programs and text editors, the best way to clean data is to code it . This requires three steps;\n",
    "    1. Define - define how you will clean the issue in words\n",
    "    2. Code - convert your definitions into executable code\n",
    "    3. Test - test your data to ensure your code was implemented correctly\n",
    "\n",
    "- We'll take the assessments for the last lesson and define, code, and test cleaning operations for each."
   ]
  },
  {
   "cell_type": "code",
   "execution_count": null,
   "metadata": {},
   "outputs": [],
   "source": []
  }
 ],
 "metadata": {
  "kernelspec": {
   "display_name": "Python 3.8.10 64-bit",
   "language": "python",
   "name": "python3"
  },
  "language_info": {
   "name": "python",
   "version": "3.8.10"
  },
  "orig_nbformat": 4,
  "vscode": {
   "interpreter": {
    "hash": "916dbcbb3f70747c44a77c7bcd40155683ae19c65e1c03b4aa3499c5328201f1"
   }
  }
 },
 "nbformat": 4,
 "nbformat_minor": 2
}
