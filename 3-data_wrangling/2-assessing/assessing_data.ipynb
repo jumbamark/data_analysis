{
 "cells": [
  {
   "cell_type": "markdown",
   "metadata": {},
   "source": [
    "# Assessing Data\n",
    "- Assessing data is the second step in the data wrangling process. When assessing you're inspecting your data set for two things;\n",
    "    * __Data quality issues__ - Data tha has quality issues have issues with content like missing, duplicate or incorrect data. This is called dirty data\n",
    "    * __Lack of tidiness__ - Data that has specific structural issues that slow you down when cleaning and analyzing, visualizing or modelling your data later\n",
    "\n",
    "- You can search for these issues in two ways; visually by scrolling, programmatically using code\n",
    "- When you detect an issue document it to make cleaning easier"
   ]
  },
  {
   "cell_type": "markdown",
   "metadata": {},
   "source": [
    "- When you are assessing you are like a detective at work inspecting your dataset for two things; data quality issues(i.e content issues) and lack of tidiness (structural issues)\n",
    "\n",
    "- Assessing is the precursor of cleaning. You can't clean something that you don't know exists"
   ]
  },
  {
   "cell_type": "markdown",
   "metadata": {},
   "source": [
    "## Dataset: Oral InsulinPhase II Clinical Trial Data\n",
    "### Learning About Our Dataset\n",
    "#### Diabetes\n",
    "- Increasing prevelance of diabetes in the 21st century is a problem. Patients have symptoms like;\n",
    "    * unusual thirst\n",
    "    * frequent urination\n",
    "    * extreme fatigue\n",
    "\n",
    "- Diabetes can also lead to more serious complications like stroke, blindness, loss of limbs, kidney failure and even heart attack\n",
    "\n",
    "### Discovery Of Insulin\n",
    "- Insulin was discovered in the 1920s by Frederick Banting\n",
    "- Most of the food we eat is turned in glucose or sugar for our bodies to use for energy. The pancrease, an organ near the stomach makes a hormone called insulin to help glucose get into the cells of our bodies. When you have diabetes the body either doesn't make enough insulin or can't use its own insulin as well as it should and it causes the sugars to build up in the body\n",
    "\n",
    "- With the discovery of insulin pharmaceutical companies began its production on a large scale. Although it doesn't cure diabetes, its one of the biggest discoveries in medicine\n",
    "\n",
    "### Challenges with insulin\n",
    "- Default administration is by needle, multiply times a day. Insulin pumps are a recent invention. They are insulin delivering devices that are semi permanently connected to a diabetics body.\n",
    "\n",
    "### The Future: Oral Insulin?\n",
    "- Wouldn't it be great if diabetics could take insulin orally? This is an active area of research but historically the roadblock is getting insulin through the stomach's thick lining\n",
    "\n",
    "## Our Dataset: Auralian and Novodra Trials\n",
    "- We willbe looking at the phase 2 clinical trial data of 350 patients for a new innovative oral insulin called Auralian - a propriety capsule that can solve this stomach lining problem \n",
    "\n",
    "- Phase 2 trials are intended to;\n",
    "    * Test the efficacy and the dose response of a drug\n",
    "    * Identify adverse reactions\n",
    "\n",
    "- In this trial half of the pateints are being treated with Auralian and the other 175 being treated with a popular injectible insulin called Novodra\n",
    "- By comparing key metrics between these two drugs, we can determine if Auralin is effective\n",
    "- The most important metric HbA1c levels and specifically HbA1c change. HbA1c is a property of the blood that measures how well your blood sugar levels have been controlled over the past few months with higher levels being bad. If auralin, the new oral insulin can reduce HbA1c levels at a similar standard as the injectable insulin novodra from some standard petrial baseline like say they both decrease HbA1c_levels from `7.9%` to `7.4%`, a `.5%` drop..if we even get a `.4%` drop we've got ourselves a major medical breakthrough in the dramatic quality of life improvement for diabetics all over the world"
   ]
  },
  {
   "cell_type": "markdown",
   "metadata": {},
   "source": [
    "## Why do we need data cleaning?\n",
    "- Healthcare data is notorious for its erros and disorganization\n",
    "- For example, human errors during the patient registration means we can have;\n",
    "    * duplicate data\n",
    "    * missing data\n",
    "    * inaccurate data\n",
    "\n",
    "- We'll take the first step in fixing these issues by assessing this datasets quality and tidiness and then cleaning all of these issues using Python and Pandas\n",
    "\n",
    "__DISCLAIMER: This Data Isn't \"Real\"__"
   ]
  },
  {
   "cell_type": "markdown",
   "metadata": {},
   "source": [
    "## Unclean Data: Dirty vs Messy\n",
    "- __Dirty data__ which has issues with its content is often called __low quality__ data and can include things like inaccurate data, corrupted data and duplicate data\n",
    "- __Messy data__ has issues with its structure. It is often referred to as __untidy__\n",
    "\n",
    "- Tidy data means each variable forms a column, each observation forms a row and each type of observational unit forms a table. Any other arrangement is messy\n",
    "- We will assess both dirty and messy data. The goal is to start distinguishing between the two"
   ]
  },
  {
   "cell_type": "code",
   "execution_count": null,
   "metadata": {},
   "outputs": [],
   "source": []
  }
 ],
 "metadata": {
  "language_info": {
   "name": "python"
  },
  "orig_nbformat": 4
 },
 "nbformat": 4,
 "nbformat_minor": 2
}
