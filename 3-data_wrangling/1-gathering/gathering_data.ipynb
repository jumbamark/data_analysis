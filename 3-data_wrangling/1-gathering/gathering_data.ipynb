{
 "cells": [
  {
   "cell_type": "markdown",
   "metadata": {},
   "source": [
    "# Gathering data\n"
   ]
  },
  {
   "cell_type": "markdown",
   "metadata": {},
   "source": [
    "- Gathering data is the first step in data wrangling\n",
    "- It varies from project to project. Sometimes you are given data or pointed to it. Sometimes you need to search for the right data for your project\n",
    "- Sometimes the data you need isn't readily available and you need to generate it yourself somehow"
   ]
  },
  {
   "cell_type": "markdown",
   "metadata": {},
   "source": [
    "## Dataset: Finding the best movies?\n",
    "#### How to find the best movies\n",
    "- You may check movie rating websites like Rotten tomatoes or IMDB to help you choose. These sites contain a number of different metrics which are used to evaluate whether or not you will like a movie.\n",
    "- However because the metrics don't show on the same page,figuring out the best movie can get confusing\n",
    "\n",
    "### Use a scatter plot\n",
    "- We can start with [Rotten Tomatoes: Top 100 Movies of All Time](https://www.rottentomatoes.com/browse/movies_at_home/critics:certified_fresh?page=1)\n",
    "- We can use a scatter plot to look at auddience scores vs critic scores for each movie\n",
    "\n",
    "- If we put audience scores on the horizontal axis and critic scores on the vertical axis, movies in the top right quadrant are amazing movies with high audience and critic scores\n",
    "- Movies in the bottom right quadrant are critically underrated with high audience scores and low critic scores\n",
    "\n",
    "### Generate a Word Cloud\n",
    "- For lot's of people, Rodger Ebert's movie review was the only review they needed because he explained the movie in such away that they would know whether they would like it or not\n",
    "- Wouldn't it be neat if we had a word cloud for each of the movies in the top 100 list at [RodgerEbert.com](https://www.rogerebert.com/)?\n",
    "- We can use a Andreas Mueller's [Word Cloud Generator in Python](https://amueller.github.io/word_cloud/) to help.\n",
    "\n",
    "- To create both of these visualizations, the data is in different spots and it will require some craftiness to gather it all"
   ]
  },
  {
   "cell_type": "markdown",
   "metadata": {},
   "source": [
    "## Using a Pre-Gathered Dataset\n",
    "- The dataset has four columns; Rank, Title, Rating, Number of Reviews\n",
    "- The file is in **TSV**, tab separated values"
   ]
  },
  {
   "cell_type": "markdown",
   "metadata": {},
   "source": [
    "### Flat File Structure\n",
    "- Flat files contain tabular data in plain text format with one data recorded per line and each record or line having one or more fields\n",
    "- Thee fields are separated with delimiters like commas, tabs or colons\n",
    "\n",
    "#### Advantages of flat files\n",
    "- They are text files and therefore human readable\n",
    "- Lightweight\n",
    "- Simple to understand\n",
    "- Great for small dataset\n",
    "\n",
    "#### Disadvantages\n",
    "- Lack of standards\n",
    "- Data redundancy\n",
    "- Sharing data can be cumbersome\n",
    "- Not great for large datasets"
   ]
  },
  {
   "cell_type": "markdown",
   "metadata": {},
   "source": [
    "### Flat Files in Python\n",
    "- Because flat files are human readable you can easily write your own code to parse or understand these files using python\n",
    "- Open the file, read the text by line, Separate each lines content by the delimeter, store everything in your data structure of choice\n",
    "\n",
    "\n",
    "###### Reading comma separated data\n",
    "- We use `read_csv` function to bring csv data into a DataFrame"
   ]
  },
  {
   "cell_type": "code",
   "execution_count": 1,
   "metadata": {},
   "outputs": [],
   "source": [
    "import pandas as pd"
   ]
  },
  {
   "cell_type": "code",
   "execution_count": 2,
   "metadata": {},
   "outputs": [],
   "source": [
    "# importing the Rotten Tomatoes bestofrt TSV file into a data frame\n",
    "df = pd.read_csv(\"bestofrt.tsv\", sep=\"\\t\")"
   ]
  },
  {
   "cell_type": "code",
   "execution_count": 3,
   "metadata": {},
   "outputs": [
    {
     "data": {
      "text/html": [
       "<div>\n",
       "<style scoped>\n",
       "    .dataframe tbody tr th:only-of-type {\n",
       "        vertical-align: middle;\n",
       "    }\n",
       "\n",
       "    .dataframe tbody tr th {\n",
       "        vertical-align: top;\n",
       "    }\n",
       "\n",
       "    .dataframe thead th {\n",
       "        text-align: right;\n",
       "    }\n",
       "</style>\n",
       "<table border=\"1\" class=\"dataframe\">\n",
       "  <thead>\n",
       "    <tr style=\"text-align: right;\">\n",
       "      <th></th>\n",
       "      <th>ranking</th>\n",
       "      <th>critic_score</th>\n",
       "      <th>title</th>\n",
       "      <th>number_of_critic_ratings</th>\n",
       "    </tr>\n",
       "  </thead>\n",
       "  <tbody>\n",
       "    <tr>\n",
       "      <th>0</th>\n",
       "      <td>1</td>\n",
       "      <td>99</td>\n",
       "      <td>The Wizard of Oz (1939)</td>\n",
       "      <td>110</td>\n",
       "    </tr>\n",
       "    <tr>\n",
       "      <th>1</th>\n",
       "      <td>2</td>\n",
       "      <td>100</td>\n",
       "      <td>Citizen Kane (1941)</td>\n",
       "      <td>75</td>\n",
       "    </tr>\n",
       "    <tr>\n",
       "      <th>2</th>\n",
       "      <td>3</td>\n",
       "      <td>100</td>\n",
       "      <td>The Third Man (1949)</td>\n",
       "      <td>77</td>\n",
       "    </tr>\n",
       "    <tr>\n",
       "      <th>3</th>\n",
       "      <td>4</td>\n",
       "      <td>99</td>\n",
       "      <td>Get Out (2017)</td>\n",
       "      <td>282</td>\n",
       "    </tr>\n",
       "    <tr>\n",
       "      <th>4</th>\n",
       "      <td>5</td>\n",
       "      <td>97</td>\n",
       "      <td>Mad Max: Fury Road (2015)</td>\n",
       "      <td>370</td>\n",
       "    </tr>\n",
       "  </tbody>\n",
       "</table>\n",
       "</div>"
      ],
      "text/plain": [
       "   ranking  critic_score                      title  number_of_critic_ratings\n",
       "0        1            99    The Wizard of Oz (1939)                       110\n",
       "1        2           100        Citizen Kane (1941)                        75\n",
       "2        3           100       The Third Man (1949)                        77\n",
       "3        4            99             Get Out (2017)                       282\n",
       "4        5            97  Mad Max: Fury Road (2015)                       370"
      ]
     },
     "execution_count": 3,
     "metadata": {},
     "output_type": "execute_result"
    }
   ],
   "source": [
    "# checking to see if the file was imported correctly\n",
    "df.head()"
   ]
  },
  {
   "cell_type": "markdown",
   "metadata": {},
   "source": [
    "## Source: Web Scrapping\n",
    "### Data isn't always easy to access\n",
    "- We want to get Rotten Tomatoes audience scores and the number of audience reviews to add to our dataset\n",
    "- Since its not easily accessible from the website, we need to do **web scrapping** which allows us to extract data from website using code\n",
    "\n",
    "### How does web scrapping work\n",
    "- Website data is written in **HTML** which uses tags to structure the page. Because HTML and its tags are just text, the text can be accesses using parsers\n",
    "- We'll be using a python parser called **[Beautiful Soup](https://www.crummy.com/software/BeautifulSoup/)**\n",
    "- Start by exploring the structure of HTML files\n",
    "\n",
    "### Saving HTML\n",
    "#### Accessing the HTML\n",
    "- __Manual Access__\n",
    "- The quick way to get HTML data is by saving the HTML file to your computer manually. You can do it by clicking **Save** on your browser.\n",
    "\n",
    "* __Programmatic Access__\n",
    "- Programmatic access is preffrered for scalability and reproducibility. Two options include;\n",
    "1. Downloading HTML file programmatically\n",
    "\n",
    "    ```python\n",
    "    import requests\n",
    "    url = 'https://www.rottentomatoes.com/m/et_the_extraterrestrial'\n",
    "    response = requests.get(url)\n",
    "\n",
    "    # saving HTML to file\n",
    "    with open('et_the_extraterrestrial.html', 'w') as file:\n",
    "        file.write(response.content)\n",
    "    # This is code to download 1 file, to download all 100 files we'll have to put it in a loop\n",
    "    ```\n",
    "2. Working with the response content live in your computers memory using the  BeautifulSoup HTML parser (doesn't require saving a file to your computer at all)\n",
    "\n",
    "    ```python\n",
    "    from bs4 import BeautifulSoup\n",
    "    soup = BeautifulSoup(response.content, 'lxml')\n",
    "    ```"
   ]
  },
  {
   "cell_type": "markdown",
   "metadata": {},
   "source": [
    "### Accessing HTML in this lesson\n",
    "- Open the pre gathered htm folder (rt_html) which contains the rotten tomatoes HTMl for each of the Top 100 Movies Of All Time"
   ]
  },
  {
   "cell_type": "code",
   "execution_count": null,
   "metadata": {},
   "outputs": [],
   "source": []
  }
 ],
 "metadata": {
  "interpreter": {
   "hash": "8dc482c6d0e28c8f5d20d44b11c27cb87684a7eac92217e9d475a001f9707366"
  },
  "kernelspec": {
   "display_name": "Python 3.9.12 ('data_analysis')",
   "language": "python",
   "name": "python3"
  },
  "language_info": {
   "codemirror_mode": {
    "name": "ipython",
    "version": 3
   },
   "file_extension": ".py",
   "mimetype": "text/x-python",
   "name": "python",
   "nbconvert_exporter": "python",
   "pygments_lexer": "ipython3",
   "version": "3.9.12"
  },
  "orig_nbformat": 4
 },
 "nbformat": 4,
 "nbformat_minor": 2
}
