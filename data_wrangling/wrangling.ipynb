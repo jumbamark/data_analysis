{
 "cells": [
  {
   "cell_type": "markdown",
   "metadata": {},
   "source": [
    "# Introduction\n",
    "- Data wrangling is the process of gathering your data, accessing its quality and structure and cleaning it before you do things like analysis, visualizations or build perspective models using machine learning"
   ]
  },
  {
   "cell_type": "markdown",
   "metadata": {},
   "source": [
    "# Course Outline\n",
    "1. Lesson 1: The Walkthrough\n",
    "2. Lesson 2-4: Gathering Assesing and Cleaning Data (in detail)"
   ]
  },
  {
   "cell_type": "markdown",
   "metadata": {},
   "source": [
    "# Why wrangle data?\n",
    "- Data is being produced in large amounts so data savviness will only become more and more important in the future"
   ]
  },
  {
   "cell_type": "markdown",
   "metadata": {},
   "source": [
    "# Data Wrangling Examples\n",
    "- Data Wrangling is serious business. The consequences from a lack of data wrangling can have a major impact\n",
    "    * __Financial Analyst__ - If you are creating models to make million dollar trades, your data better be clean or you'll go broke\n",
    "    * __Drug Company Scientist__ - If your company is about to start human trials for a life saving new drug and you need to determine the right dosage for humans based on your lab and animal tests, your data needs to be clean or your drug might not work and you could seriously hurt people"
   ]
  },
  {
   "cell_type": "markdown",
   "metadata": {},
   "source": [
    "# Walkthrough and dataset\n",
    "- We start with brief introuductions to gathering, then assessing and then cleaning our data which are our three core steps in the data wrangling process\n",
    "- The dataset to be wrangled is a [dataset of 19000 online job posts from 2004 to 2015](https://www.kaggle.com/datasets/udacity/armenian-online-job-postings) that were posted through an Armenian human resource portal\n",
    "- The dataset is dirty and messy enough that you'll have wrangling work to do but alo clean enough that it wont give you a headache."
   ]
  },
  {
   "cell_type": "markdown",
   "metadata": {},
   "source": [
    "## Gather(Intro)\n",
    "__What is data gathering?__ \n",
    "- Gathering is sometimes called acquiring or collecting data.\n",
    "- Data sources; **Files, Database, scrapped off a website, API**"
   ]
  }
 ],
 "metadata": {
  "language_info": {
   "name": "python"
  },
  "orig_nbformat": 4
 },
 "nbformat": 4,
 "nbformat_minor": 2
}
