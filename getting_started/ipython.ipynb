{
 "cells": [
  {
   "cell_type": "markdown",
   "metadata": {},
   "source": [
    "# About Ipython\n",
    "\n",
    "- Ipython is what provides the interactive python kernel we use in jupyter notebook\n",
    "- We can use Ipython outside of jupyter notebook with its command line interface in our terminal\n",
    "- This is very convenient and awesome for quick modifications, exploration, experimentation, and even running Python script\n",
    "- [Documentation](https://ipython.readthedocs.io/en/stable/)\n",
    "\n",
    "- To use ipython's command line interface just type `ipython` in your terminal. It should work if you have jupyter notebook installed\n",
    "- Just like in jupyter notebook, import packages and use datasets"
   ]
  },
  {
   "cell_type": "markdown",
   "metadata": {},
   "source": [
    "# Scripting your analysis\n",
    "- Being able to write and run scripts is an invaluable for programming tasks and projects\n",
    "- You can write your code in a text editor and then run the file in your terminal\n",
    "- If you save your file as `demo.py` you can run it in termianl with `python demo.py`\n",
    "- Ideally, you'd group your analysis into functions and run them in your main function. This helps you organize your code and generalize if possible."
   ]
  },
  {
   "cell_type": "markdown",
   "metadata": {},
   "source": []
  }
 ],
 "metadata": {
  "interpreter": {
   "hash": "8dc482c6d0e28c8f5d20d44b11c27cb87684a7eac92217e9d475a001f9707366"
  },
  "kernelspec": {
   "display_name": "Python 3.9.12 ('data_analysis')",
   "language": "python",
   "name": "python3"
  },
  "language_info": {
   "name": "python",
   "version": "3.9.12"
  },
  "orig_nbformat": 4
 },
 "nbformat": 4,
 "nbformat_minor": 2
}
