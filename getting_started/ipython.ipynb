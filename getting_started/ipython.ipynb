{
 "cells": [
  {
   "cell_type": "markdown",
   "metadata": {},
   "source": [
    "# About Ipython\n",
    "\n",
    "- Ipython is what provides the interactive python kernel we use in jupyter notebook\n",
    "- We can use Ipython outside of jupyter notebook with its command line interface in our terminal\n",
    "- This is very convenient and awesome for quick modifications, exploration, experimentation, and even running Python script\n",
    "- [Documentation](https://ipython.readthedocs.io/en/stable/)\n",
    "\n",
    "- To use ipython's command line interface just type `ipython` in your terminal. It should work if you have jupyter notebook installed\n",
    "- Just like in jupyter notebook, import packages and use datasets"
   ]
  },
  {
   "cell_type": "markdown",
   "metadata": {},
   "source": [
    "# Scripting your analysis\n",
    "- "
   ]
  }
 ],
 "metadata": {
  "language_info": {
   "name": "python"
  },
  "orig_nbformat": 4
 },
 "nbformat": 4,
 "nbformat_minor": 2
}
