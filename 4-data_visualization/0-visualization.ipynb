{
 "cells": [
  {
   "cell_type": "markdown",
   "metadata": {},
   "source": [
    "# Concept 01:\n",
    "# Introduction to Data Visualization\n",
    "- Two main topoics will be covered:\n",
    "    1. __Exploratory Data Visualization__ - used to understand the structure of your data faster than statistics would be able to load. This visualization is used once you are ready to start investigating your gathered data\n",
    "    \n",
    "    2. __Explanatory Data Visualization__ - created at the end of your analysis, used to convey your findings to others or to tell a story."
   ]
  },
  {
   "cell_type": "markdown",
   "metadata": {},
   "source": [
    "### Prerequisite\n",
    "1. You can use Anaconda to manage packages and environments for use with python\n",
    "2. You can use Jupyter notebook to combine explanatory text, math equations, code and visualizations in one sharable document\n",
    "3. Basic python skills: use Numoy and Pandas to wrangle, explore analyze and visualize data\n",
    "4. Basic statics and probability concepts such as linear regression, the normal distribution"
   ]
  },
  {
   "cell_type": "markdown",
   "metadata": {},
   "source": [
    "## Summary Statistics vs Visualizations\n",
    "- Summary statistics like  mean and standard and standard deviation can be great for attempting to quickly understand aspects of a dataset but they can also be too misleading if you make too many assumptions about how the data distribution looks\n",
    "\n",
    "### Motivation\n",
    "- the four data sets of X, Y pairs in `data/anscombes-quartet.xlsx` all share the same mean, variance, correlation, standard deviation and line of best fit\n"
   ]
  },
  {
   "cell_type": "code",
   "execution_count": 1,
   "metadata": {},
   "outputs": [],
   "source": [
    "import numpy as np\n",
    "import pandas as pd\n",
    "import matplotlib.pyplot as plt\n",
    "import seaborn as sb\n",
    "\n",
    "# rendering plots directly in notebook\n",
    "%matplotlib inline"
   ]
  },
  {
   "cell_type": "code",
   "execution_count": 2,
   "metadata": {},
   "outputs": [],
   "source": [
    "df = pd.read_excel(\"data/anscombes-quartet.xlsx\")"
   ]
  },
  {
   "cell_type": "code",
   "execution_count": 3,
   "metadata": {},
   "outputs": [
    {
     "data": {
      "text/html": [
       "<div>\n",
       "<style scoped>\n",
       "    .dataframe tbody tr th:only-of-type {\n",
       "        vertical-align: middle;\n",
       "    }\n",
       "\n",
       "    .dataframe tbody tr th {\n",
       "        vertical-align: top;\n",
       "    }\n",
       "\n",
       "    .dataframe thead th {\n",
       "        text-align: right;\n",
       "    }\n",
       "</style>\n",
       "<table border=\"1\" class=\"dataframe\">\n",
       "  <thead>\n",
       "    <tr style=\"text-align: right;\">\n",
       "      <th></th>\n",
       "      <th>X</th>\n",
       "      <th>Y</th>\n",
       "      <th>X.1</th>\n",
       "      <th>Y.1</th>\n",
       "      <th>X.2</th>\n",
       "      <th>Y.2</th>\n",
       "      <th>X.3</th>\n",
       "      <th>Y.3</th>\n",
       "    </tr>\n",
       "  </thead>\n",
       "  <tbody>\n",
       "    <tr>\n",
       "      <th>0</th>\n",
       "      <td>10</td>\n",
       "      <td>8.04</td>\n",
       "      <td>10</td>\n",
       "      <td>9.14</td>\n",
       "      <td>10</td>\n",
       "      <td>7.46</td>\n",
       "      <td>8</td>\n",
       "      <td>6.58</td>\n",
       "    </tr>\n",
       "    <tr>\n",
       "      <th>1</th>\n",
       "      <td>8</td>\n",
       "      <td>6.95</td>\n",
       "      <td>8</td>\n",
       "      <td>8.14</td>\n",
       "      <td>8</td>\n",
       "      <td>6.77</td>\n",
       "      <td>8</td>\n",
       "      <td>5.76</td>\n",
       "    </tr>\n",
       "    <tr>\n",
       "      <th>2</th>\n",
       "      <td>13</td>\n",
       "      <td>7.58</td>\n",
       "      <td>13</td>\n",
       "      <td>8.74</td>\n",
       "      <td>13</td>\n",
       "      <td>12.74</td>\n",
       "      <td>8</td>\n",
       "      <td>7.71</td>\n",
       "    </tr>\n",
       "    <tr>\n",
       "      <th>3</th>\n",
       "      <td>9</td>\n",
       "      <td>8.81</td>\n",
       "      <td>9</td>\n",
       "      <td>8.77</td>\n",
       "      <td>9</td>\n",
       "      <td>7.11</td>\n",
       "      <td>8</td>\n",
       "      <td>8.84</td>\n",
       "    </tr>\n",
       "    <tr>\n",
       "      <th>4</th>\n",
       "      <td>11</td>\n",
       "      <td>8.33</td>\n",
       "      <td>11</td>\n",
       "      <td>9.26</td>\n",
       "      <td>11</td>\n",
       "      <td>7.81</td>\n",
       "      <td>8</td>\n",
       "      <td>8.47</td>\n",
       "    </tr>\n",
       "    <tr>\n",
       "      <th>5</th>\n",
       "      <td>14</td>\n",
       "      <td>9.96</td>\n",
       "      <td>14</td>\n",
       "      <td>8.10</td>\n",
       "      <td>14</td>\n",
       "      <td>8.84</td>\n",
       "      <td>8</td>\n",
       "      <td>7.04</td>\n",
       "    </tr>\n",
       "    <tr>\n",
       "      <th>6</th>\n",
       "      <td>6</td>\n",
       "      <td>7.24</td>\n",
       "      <td>6</td>\n",
       "      <td>6.13</td>\n",
       "      <td>6</td>\n",
       "      <td>6.08</td>\n",
       "      <td>8</td>\n",
       "      <td>5.25</td>\n",
       "    </tr>\n",
       "    <tr>\n",
       "      <th>7</th>\n",
       "      <td>4</td>\n",
       "      <td>4.26</td>\n",
       "      <td>4</td>\n",
       "      <td>3.10</td>\n",
       "      <td>4</td>\n",
       "      <td>5.39</td>\n",
       "      <td>19</td>\n",
       "      <td>12.50</td>\n",
       "    </tr>\n",
       "    <tr>\n",
       "      <th>8</th>\n",
       "      <td>12</td>\n",
       "      <td>10.84</td>\n",
       "      <td>12</td>\n",
       "      <td>9.13</td>\n",
       "      <td>12</td>\n",
       "      <td>8.15</td>\n",
       "      <td>8</td>\n",
       "      <td>5.56</td>\n",
       "    </tr>\n",
       "    <tr>\n",
       "      <th>9</th>\n",
       "      <td>7</td>\n",
       "      <td>4.82</td>\n",
       "      <td>7</td>\n",
       "      <td>7.26</td>\n",
       "      <td>7</td>\n",
       "      <td>6.42</td>\n",
       "      <td>8</td>\n",
       "      <td>7.91</td>\n",
       "    </tr>\n",
       "    <tr>\n",
       "      <th>10</th>\n",
       "      <td>5</td>\n",
       "      <td>5.68</td>\n",
       "      <td>5</td>\n",
       "      <td>4.74</td>\n",
       "      <td>5</td>\n",
       "      <td>5.73</td>\n",
       "      <td>8</td>\n",
       "      <td>6.89</td>\n",
       "    </tr>\n",
       "  </tbody>\n",
       "</table>\n",
       "</div>"
      ],
      "text/plain": [
       "     X      Y  X.1   Y.1  X.2    Y.2  X.3    Y.3\n",
       "0   10   8.04   10  9.14   10   7.46    8   6.58\n",
       "1    8   6.95    8  8.14    8   6.77    8   5.76\n",
       "2   13   7.58   13  8.74   13  12.74    8   7.71\n",
       "3    9   8.81    9  8.77    9   7.11    8   8.84\n",
       "4   11   8.33   11  9.26   11   7.81    8   8.47\n",
       "5   14   9.96   14  8.10   14   8.84    8   7.04\n",
       "6    6   7.24    6  6.13    6   6.08    8   5.25\n",
       "7    4   4.26    4  3.10    4   5.39   19  12.50\n",
       "8   12  10.84   12  9.13   12   8.15    8   5.56\n",
       "9    7   4.82    7  7.26    7   6.42    8   7.91\n",
       "10   5   5.68    5  4.74    5   5.73    8   6.89"
      ]
     },
     "execution_count": 3,
     "metadata": {},
     "output_type": "execute_result"
    }
   ],
   "source": [
    "df"
   ]
  },
  {
   "cell_type": "code",
   "execution_count": 4,
   "metadata": {},
   "outputs": [
    {
     "data": {
      "text/plain": [
       "<matplotlib.collections.PathCollection at 0x7f2dc86aa040>"
      ]
     },
     "execution_count": 4,
     "metadata": {},
     "output_type": "execute_result"
    },
    {
     "data": {
      "image/png": "[encoded data removed]",
      "text/plain": [
       "<Figure size 432x288 with 1 Axes>"
      ]
     },
     "metadata": {
      "needs_background": "light"
     },
     "output_type": "display_data"
    }
   ],
   "source": [
    "list1 = df['X']\n",
    "list2 = df['Y']\n",
    "\n",
    "# scatter plot\n",
    "plt.scatter(list1, list2)"
   ]
  },
  {
   "cell_type": "code",
   "execution_count": 5,
   "metadata": {},
   "outputs": [
    {
     "data": {
      "text/plain": [
       "<matplotlib.collections.PathCollection at 0x7f2dc861e2e0>"
      ]
     },
     "execution_count": 5,
     "metadata": {},
     "output_type": "execute_result"
    },
    {
     "data": {
      "image/png": "[encoded data removed]",
      "text/plain": [
       "<Figure size 432x288 with 1 Axes>"
      ]
     },
     "metadata": {
      "needs_background": "light"
     },
     "output_type": "display_data"
    }
   ],
   "source": [
    "list3 = df['X.2']\n",
    "list4 = df['Y.2']\n",
    "\n",
    "# plot\n",
    "plt.scatter(list3, list4)"
   ]
  },
  {
   "cell_type": "code",
   "execution_count": 6,
   "metadata": {},
   "outputs": [
    {
     "data": {
      "text/plain": [
       "<matplotlib.collections.PathCollection at 0x7f2dc8586a30>"
      ]
     },
     "execution_count": 6,
     "metadata": {},
     "output_type": "execute_result"
    },
    {
     "data": {
      "image/png": "[encoded data removed]",
      "text/plain": [
       "<Figure size 432x288 with 1 Axes>"
      ]
     },
     "metadata": {
      "needs_background": "light"
     },
     "output_type": "display_data"
    }
   ],
   "source": [
    "list5 = df['X.1']\n",
    "list6 = df['Y.1']\n",
    "\n",
    "# plot\n",
    "plt.scatter(list5, list6)"
   ]
  },
  {
   "cell_type": "code",
   "execution_count": 7,
   "metadata": {},
   "outputs": [
    {
     "data": {
      "text/plain": [
       "<matplotlib.collections.PathCollection at 0x7f2dc84f43a0>"
      ]
     },
     "execution_count": 7,
     "metadata": {},
     "output_type": "execute_result"
    },
    {
     "data": {
      "image/png": "[encoded data removed]",
      "text/plain": [
       "<Figure size 432x288 with 1 Axes>"
      ]
     },
     "metadata": {
      "needs_background": "light"
     },
     "output_type": "display_data"
    }
   ],
   "source": [
    "list7 = df['X.3']\n",
    "list8 = df['Y.3']\n",
    "\n",
    "# plot\n",
    "plt.scatter(list7, list8)"
   ]
  },
  {
   "cell_type": "markdown",
   "metadata": {},
   "source": [
    "## Exploratory vs Explanatory Analyses\n",
    "- Visualizations can be used for two main purposes when analyzing data;\n",
    "    - __1. Exploratory analysis__\n",
    "        - Done behind the scenes. It's the type of analysis where you're searching for relationships in the data or hidden insights.\n",
    "        - Once you've collected the data, you can start asking questions about it. The way you analyze data to try and answer this questions is known as exploratory.\n",
    "        - Visualizations built for this purpose do not need to perfect.\n",
    "\n",
    "    \n",
    "    - __2. Explanatory analysis__\n",
    "        - Done after you find an insight.\n",
    "        - Visualizations need to be sorrounded by a story that point the reader to an insight that answers the question\n",
    "        - Many times these explanatory visuals were found during the exploratory process (Do not include unneeded information)\n",
    "\n",
    "- Extract -> Clean -> Explore -> Analyze -> Share\n",
    "- The visuals used for cleaning, exploring and analyzing your data are part of the explaratory data analysis. They don't need to be super pretty or clear in their message. They are for the analyst to determine what's going on in the data.\n",
    "\n",
    "- When you find an insight to share the visuals used for sharing this insight are part of the explanatory visuals. They tell the story of the finding and what it means"
   ]
  },
  {
   "cell_type": "markdown",
   "metadata": {},
   "source": [
    "## Visualization in Python.\n",
    "- Visualization libraries - ``matplotlib`` and ``seaborn``\n",
    "- Plotting functions built into the `pandas` library - general data analysis package not explicitly just for data visualization\n",
    "- Often when choosing a tool to work with there is a trade off between flexibility and productivity. Onone end there are tools with a high amount of flexibility - `matplotlib`. It's versatility allows it to be used for nearly any kind of visualization you care to create. This versatility can come with alot of verbosity.\n",
    "- There are common plots like `bar charts` that require a large amount of code to be written\n",
    "- If you are looking to be productive and generate many plots with little code libraries like `seaborn` and `pandas` come in handy. They contain alot of convenient functions to quickly generate plots of your data.\n",
    "- However the plot types generated are not exhaustive, so on their own they are not as flexible as matplotlib\n",
    "- Together, the strengths of these libraries are complementary."
   ]
  },
  {
   "cell_type": "markdown",
   "metadata": {},
   "source": [
    "# Course Structure\n",
    "- __Lesson 2: Design of Visualizations.__\n",
    "    - Data types and ways of encoding data\n",
    "    - properties of visualizations that can impact both the clarity of messaging as well as their accuracy\n",
    "- __Lesson 3-5: Exploration of Data__\n",
    "    - core visualizations in exploratory analysis\n",
    "    - Exploration starts with **univariate visualizations** to identify trends in distributions and outliers in single variables\n",
    "    - **Bivariate visualizations** follow to show relationships between variables in the data\n",
    "    - Finally **multivaraite visualization** techniques are presented to identify complex relationships between three or more variables at the same time\n",
    "- __Lesson 6: Explanatory Visualizations__\n",
    "    - considerations that should be made when moving from exploratory to explanatory analysis.\n",
    "    - considering what findings to focus on and how to use visualization techniques to highlight your main story when polishing visualizations to present to others\n",
    "    - tips on presentation of results and how to iterate on your presentations\n",
    "- __Lesson 7: Visualization Case study__"
   ]
  },
  {
   "cell_type": "markdown",
   "metadata": {},
   "source": [
    "# 2. Design of Visualizations\n",
    "- How are visualizations designed and what makes a visualization good or bad?\n",
    "- Explanatory visualizations utilize specific design principles in order to clearly and accurately convey findings\n",
    "- Design principles can also be useful in the exploratory phase of the data anlysis process.\n",
    "- Related topics:\n",
    "    1. What makes a bad visual\n",
    "    2. Levels of measurement and types of data\n",
    "    3. Continuos vs Discreet data\n",
    "    4. Identifying data types\n",
    "    5. What experts say about visual encodings\n",
    "    6. Chart Junk\n",
    "    7. Data to ink ratio\n",
    "    8. Design integrity\n",
    "    9. Using color and designing for color blindness\n",
    "    8. Shape, size and other tools"
   ]
  },
  {
   "cell_type": "markdown",
   "metadata": {},
   "source": [
    "### What makes a bad visual?\n",
    "- Bad data visualizations can be summed up as visuals that do not convey your message well.\n",
    "- If a visualizations is misleading or hides and distracts your message, you need to consider changes to your visualization\n",
    "- Visualizations become more useful as the amount of information we need to convey increases. At the same time adding extra elements to the visuals that do not convey the message in your data should be avoided."
   ]
  },
  {
   "cell_type": "markdown",
   "metadata": {},
   "source": [
    "### Levels of Measurement and Types of Data\n",
    "- You need to understand the types of data you have in order to choose an appropriate plot type or method of analysis\n",
    "- One common method divides the data into four levels of measurement:\n",
    "    - __Qualitative__ or categorical types (non-numeric types)\n",
    "        1. _Nominal data_ - pure labels without inherent order (no label is intrinsically greater or less than the other)\n",
    "        2. _Ordinal data_ - labels with an intrinsic order or ranking (comparison operations can be made between values but the magnitude of differences are not well defined)\n",
    "        \n",
    "    - __Quantitative__ or numeric types\n",
    "        * _Interval data_ - numeric values where absolute differences are meaningful (addition and subtraction operations can be made)\n",
    "        4. _Ratio data_ - numeric values where relative differences are meaningful (division and multiplication operations can be made)\n",
    "    \n",
    "- All quantitative-type variables also come in one of two varieties:\n",
    "   - **Discreet** quantitative varaibles can only take on a specific set values at some maximum level of precision\n",
    "   - **Continuous** quantitative variables can (hypothetically) take on values to any level of precision\n",
    "\n",
    "#### Discreet vs continuous\n",
    "- If there are few levels and values can't be subdivided into further units then it is discreet,otherwise it is continuous\n",
    "- If you have a scale that can only take natural numbers between 1 and 5 that's discreet\n",
    "- A quantity that can be measured to two digits i.e `2.72` is best characterized as continuous since we might hypothetically be able to measure to even more digits e.g `2.178`\n",
    "- A tricky case like test scores measured between `0` and `100` can only be divided down to single integers, making it initially seem discreete but since there are so many values, such a feature is usually considered s continuous\n",
    "- When exploring your data the most important thing to consider first is whether your data is qualitative or quantitative\n",
    "\n",
    "#### Likert Scale\n",
    "- One form of data you might encounter is response data to a __Likert scale__ like the ones below:\n",
    "\n",
    "    ![likert](data/likertscale.png)\n",
    "    - _This likert scale which happens to be graphical has five points allowing for neutrality_\n",
    "\n",
    "    ![Likert](data/6-point-likert-scale-even-survey.png)\n",
    "    -  _This likert scale has six points, not allowing for neutrality_ \n",
    "\n",
    "- What level of measurement should you consider for this kind of data?\n",
    "- Technically, responses on this kind of data should be considered _ordinal_ in nature. There is a clear order in response values, but it may not be the case that the differences between consecutive levels are consistent in size\n",
    "- The criteria to move between Strongly Disagree and Disagree might be different from the criteria between Agree and Strongly Agree\n",
    "- However, Likert data is often treated as _interval_ to simplify analyses (if you have such data you want to make sure that you use exploratory data visualizations to make a good judgement on how your data should be treated later on in the analysis process)"
   ]
  },
  {
   "cell_type": "markdown",
   "metadata": {},
   "source": [
    "### Recap\n",
    "#### Data Types\n",
    "1. Quantitative:\n",
    "    - Continuous - Height, Age, Income\n",
    "    - Discreet - Pages in a book, Trees in Yard, Dogs at a coffee shop\n",
    "\n",
    "2. Categorical:\n",
    "    - Ordinal - Letter Grade, Survey Rating\n",
    "    - Nominal - Gender, Marital Status, Breakfast items.\n",
    "\n",
    "#### Quantitative vs Categorical\n",
    "- __Height__, __Age__, the __Number of pages in a book__ and __Annual income__ all take on values that we can add, subtract and perform other operations with to gain useful insights. They are therefore `quantitative`\n",
    "- **Gender**, **Letter Grade**, **Breakfast Type**, **Marital Status** and **Zip Code** can be thought of as labels for a group of items or individuals. These are therefore `categorical`\n",
    "\n",
    "#### Continuous vs Discrete\n",
    "- Continuous data types are those that can take on decimal values, where discrete data types are those that are countable.\n",
    "- if we have continous or discreet data, we should see if we can split our data into smaller and smaller units\n",
    "- Consider time - we could measure an event in years, months, days, hours, minutes or even seconds, and even at seconds we know there are smaller units we could measure time in. Therefore we know this data type is continuous.\n",
    "- __Height__, __Age__ and __income__ are all examples of `continuous data`\n",
    "- Alternatively, the __number of pages in a book__, __dogs I count outside a coffee shop__ or __trees in a yard__ are `discreet` data. We wouldn't want to split our dogs in half.\n",
    "\n",
    "#### Ordinal vs Nominal\n",
    "- __Gender__, __Marital Status__, __Zip Code__ and your __Breakfast items__ are `nominal variables` where there is no order ranking associated with this type of data\n",
    "- Whether you ate cereal, toast, eggs or only coffee for breakfast there is no rank ordering associated with your breakfast\n",
    "- Alternatively the __Letter Grade__ or __Survey Ratings__ have a rank ordering associated with it as `ordinal data`\n",
    "- If you receive an A, this is higher than an A-. Ordinal variables frequently occur on rating scales from very poor to very good"
   ]
  },
  {
   "cell_type": "markdown",
   "metadata": {},
   "source": [
    "### Visual Encodings\n",
    "- Visual encodings are mapping from data to display elements.\n",
    "- Display elements include positions on the `x` or `y` axis, the size of points of bars, the shape of points, texture, angle, length and many more\n",
    "- How to take our data and best display it to our audience using these elements?\n",
    "- Two of the most effective methods of showing quantitative data are positions along an axis and length\n",
    "- Color should be reserved for drawing the eye of your audence to a key finding and not for differing the bars of a bar chart with no message."
   ]
  },
  {
   "cell_type": "markdown",
   "metadata": {},
   "source": [
    "### Chart Junk\n",
    "- Refers to all visual elements in charts and graphs that are not necessary to comprehend the information represented on the graph or that distract the viewer from this information.\n",
    "- Markings and visual elements canbe called chart junk if they are not a part of the minimum set of visuals necessary to communicate clearly\n",
    "- Examples of chart junk;\n",
    "    1. Heavy grid lines\n",
    "    2. Unnecessary text\n",
    "    3. Pictures sorrounding the visual\n",
    "    4. Shading or 3D elements\n",
    "    5. Ornameted chart axes"
   ]
  },
  {
   "cell_type": "markdown",
   "metadata": {},
   "source": [
    "### Data Ink Ratio\n",
    "- We've seen how we can better improve our visualizations by removing extraneous elements. We can conceptualize this relationship using the __data-to-ink ratio__\n",
    "- It is the ratio of the amount of ink used to describe the data to the total amount of ink in the visual.\n",
    "- The higher the data to ink ratio, the better, this means a large amount of ink in the visual is being used to actually describe the data while low data ink ratio suggests that you are using ink that is added for other purposes rather than describing the data"
   ]
  },
  {
   "cell_type": "markdown",
   "metadata": {},
   "source": [
    "### Design Integrity\n",
    "- It is key that when you build plots you maintain integrity for the underlying data\n",
    "- One of the main ways for looking at data integrity is the __lie factor__\n",
    "- Lie factor depicts a degree to which a visualization distorts or misintepretes the data values being plotted.\n",
    "- It's calculated in the following way;\n",
    "\n",
    "$$\n",
    "lie factor = \\frac{\\Delta visual/visual_{start}}{\\Delta data/data_{start}}\n",
    "$$\n",
    "\n",
    "- The delta symbol stands for difference or change.\n",
    "- Lie factor is therefore the relative change shown in the graohic divided by the actual relative change in the data\n",
    "- Ideally the lie factor should be `1`: any other value means there is a mismatch in the ratio of depicted change to actual change.\n",
    "- [How to Spot Visualization Lies](https://flowingdata.com/2017/02/09/how-to-spot-visualization-lies/)"
   ]
  },
  {
   "cell_type": "markdown",
   "metadata": {},
   "source": [
    "### Using Color\n",
    "- Color is an important tool in designing visualizations. It allows you to encode another variable or split your data into groups\n",
    "- There are alot of issues to consider when choosing which colors to use and how to apply them\n",
    "- Color tips:\n",
    "    1. Get it right in black and white\n",
    "        - before you begin adding color to your data visualization you should determine if you need color in the first place.\n",
    "        - Many times black, white and shades of grey will be enough to effectively convey your information\n",
    "    2. Less intense colors\n",
    "        - if you are going to use color consider using less intense colors such as natural colors or pastels.\n",
    "        - You can also add some gray value to bright colors to make them less vibrant.\n",
    "        - Colors with higher gray values have a softer feel and the eye can concentrate on them for longer periods of time\n",
    "        - Rainbow colors, primary colors and other bright bold colors create noisy visualizations that strain the eye\n",
    "    3. Make color selections that facilitate communication\n",
    "\n",
    "- Color can be a tricky component of visualization but can also encode data, lead the eye and help viewers see the most important information of a graphic "
   ]
  },
  {
   "cell_type": "markdown",
   "metadata": {},
   "source": [
    "### Designing for Color Blindness\n",
    "- Humans perceive color through signals produced by cells in the retina called cones. Light comes into the eye, hits the cones and the cones set off electrical signals to the brain\n",
    "- There are three types of connes **S**, **M** and **L** (short, medium and long). They are sensitive to different frequencies or colors of light\n",
    "- _Short cones_ prefer **blue**, _medium_ prefer **green** and _long_ cones prefer **red**\n",
    "- However around `10%` of men and `1%` of women have mutations that affect this cones and produce what is known as **colorblindness**\n",
    "- The most common form is the red green color blindness typically caused by the medium cone shifting sensitivity towards red light. People with this condition can't distinguish between red and green\n",
    "- There's actually a pretty large fraction of people that are colorblind so you should design your visualizations to include them\n",
    "- Try to stay away from red green palletes and use blue orange instead. "
   ]
  },
  {
   "cell_type": "markdown",
   "metadata": {},
   "source": [
    "### Shape, Size and Other tools\n",
    "- Sometimes you'll need additional encodings to distinguish data in a visual. For these cases you might wanna use different encodings such as shape or size\n",
    "- In a scatter plot we might change the sahpe or size of the markers\n",
    "- Data can also be encoded using different shapes but we dont encode quantitative data with shapes as we probably run out of the number of shapes to encode our values\n",
    "- You would instead need to change your data to a categorical ordinal variable and encoding quantitative data with color can be confusing\n",
    "- In general color and shape are best used for categorical variables while the size of the marker can assist in adding additional quantitative data.\n",
    "- Rather than adding additional encodings, try to break up your visual into parts where each part of your message can be conveyed\n",
    "- **Color, shape, size, and other tools of data visualization** - These are tools, but to dig most holes, you only need a shovel. Think of these additional tools as a [skid loader](https://en.wikipedia.org/wiki/Skid-steer_loader). You might need to use it, but it isn't good for digging every hole. Most data visualizations used for explanatory purposes should not use all (or any) of these tools."
   ]
  },
  {
   "cell_type": "markdown",
   "metadata": {},
   "source": [
    "### Summary\n",
    "#### Design Topics\n",
    "1. Levels of measurement\n",
    "2. Visual encodings\n",
    "3. Design integrity"
   ]
  },
  {
   "cell_type": "markdown",
   "metadata": {},
   "source": [
    "# 3. Univariate Exploration of Data.\n",
    "## Introduction\n",
    "- We've used `numpy` and `pandas` to read and manipulate data from a statistical and mathematical standpoint.\n",
    "- We'll now visualize our data in the form of graphs/charts to get insights that statistics alone may not completely convey\n",
    "- We start our exploration of any data set with univariate visualizations or visualizations of single variables\n",
    "- By looking at one varaible at a time we can build an intuition for how each variable is distributed before moving on to more complicated interactions between variables\n",
    "- When you start looking at any dataset, keep in mind the goals of your investigation and explore the variables that will be key to answering your research questions.\n",
    "- If we observe any oddities in the data such as outliers or missing values this can point us to areas where we need to do more cleaning or otherwise perform further inspection, it often makes sense to integrate this part of the exploration process into parts of the data wrangling process\n",
    "- This lesson focuses on two different plot types;\n",
    "    1. Barcharts for qualitative variables.\n",
    "    2. Histograms for quantitative variables\n",
    "- While both of these plot types take the appearence of rectangles on a pair of axes, you will see how data types makes these plots distinct\n",
    "- How to use code to create the plots as well as how to use the plots to gain an understanding of the data.\n",
    "\n",
    "#### Lesson objectives \n",
    "1. Create bar charts for qualitative variables i.e the number of eggs consumed in a meal(categories: {breakfast, lunch, dinner}). In general bar charts map categories to numbers\n",
    "2. Create pie charts - a pie chart is a common univariate plot type that is used to depict _relative_ frequencies for levels of a categorical variable. A pie chart is preferrably used when the number of categories is less and you'd like to see the proportion of each category.\n",
    "3. Create histograms for quantitative variables - a histogram splits the (tabular) data into evenly sized intervals and displays the count of rows in each interval with bars. A histogram is similar to a bar chart except that the category here is a range of values.\n",
    "4. Analyze bar charts and histograms.\n",
    "\n",
    "- After gaining the foundational knowledge of `matplotlib` and `seaborn` -> advanced visualizations such as heat map, scatter plot, violin plots, box plots, clustered bar charts etc."
   ]
  },
  {
   "cell_type": "markdown",
   "metadata": {},
   "source": [
    "## Tidy Data\n",
    "- A tidy dataset is a tabular dataset where:\n",
    "    1. each variable is a column.\n",
    "    2. each observation is a row.\n",
    "    3. each type of observational unit is a table.\n",
    "\n",
    "    ![column](data/tidy-data-one.png)\n",
    "\n",
    "    ![row](data/tidy-data-two.png)\n",
    "\n",
    "    ![table](data/tidy-data-three.png)\n",
    "\n",
    "- Tidying needs to be done before exploration but this is not to say that tidy data is the only useful form that data can take. In fact as you work with a dataset you might need to summarize it in a non tidy form in order to generate appropriate visualizations."
   ]
  },
  {
   "cell_type": "markdown",
   "metadata": {},
   "source": [
    "## Bar charts\n",
    "- A bar chart depicts the distribution of a categorical variable.\n",
    "- In a bar chart each level of categorical variable is depicted with a bar whose heights indicates the frequency of data points that take on that level.\n",
    "    * For nominal data the bars can be orderd by frequency to easily see which category is the most common\n",
    "    * Oedinal data should not be reordered because the inherent ordering of the levels is typically more important to display."
   ]
  },
  {
   "cell_type": "markdown",
   "metadata": {},
   "source": [
    "#### Bar chart Demo\n",
    "- `Numpy` and `pandas` to store our data\n",
    "- `matplotlib` and `seaborn` to create our visualizations"
   ]
  },
  {
   "cell_type": "code",
   "execution_count": 8,
   "metadata": {},
   "outputs": [
    {
     "name": "stdout",
     "output_type": "stream",
     "text": [
      "(807, 14)\n"
     ]
    },
    {
     "data": {
      "text/html": [
       "<div>\n",
       "<style scoped>\n",
       "    .dataframe tbody tr th:only-of-type {\n",
       "        vertical-align: middle;\n",
       "    }\n",
       "\n",
       "    .dataframe tbody tr th {\n",
       "        vertical-align: top;\n",
       "    }\n",
       "\n",
       "    .dataframe thead th {\n",
       "        text-align: right;\n",
       "    }\n",
       "</style>\n",
       "<table border=\"1\" class=\"dataframe\">\n",
       "  <thead>\n",
       "    <tr style=\"text-align: right;\">\n",
       "      <th></th>\n",
       "      <th>id</th>\n",
       "      <th>species</th>\n",
       "      <th>generation_id</th>\n",
       "      <th>height</th>\n",
       "      <th>weight</th>\n",
       "      <th>base_experience</th>\n",
       "      <th>type_1</th>\n",
       "      <th>type_2</th>\n",
       "      <th>hp</th>\n",
       "      <th>attack</th>\n",
       "      <th>defense</th>\n",
       "      <th>speed</th>\n",
       "      <th>special-attack</th>\n",
       "      <th>special-defense</th>\n",
       "    </tr>\n",
       "  </thead>\n",
       "  <tbody>\n",
       "    <tr>\n",
       "      <th>0</th>\n",
       "      <td>1</td>\n",
       "      <td>bulbasaur</td>\n",
       "      <td>1</td>\n",
       "      <td>0.7</td>\n",
       "      <td>6.9</td>\n",
       "      <td>64</td>\n",
       "      <td>grass</td>\n",
       "      <td>poison</td>\n",
       "      <td>45</td>\n",
       "      <td>49</td>\n",
       "      <td>49</td>\n",
       "      <td>45</td>\n",
       "      <td>65</td>\n",
       "      <td>65</td>\n",
       "    </tr>\n",
       "    <tr>\n",
       "      <th>1</th>\n",
       "      <td>2</td>\n",
       "      <td>ivysaur</td>\n",
       "      <td>1</td>\n",
       "      <td>1.0</td>\n",
       "      <td>13.0</td>\n",
       "      <td>142</td>\n",
       "      <td>grass</td>\n",
       "      <td>poison</td>\n",
       "      <td>60</td>\n",
       "      <td>62</td>\n",
       "      <td>63</td>\n",
       "      <td>60</td>\n",
       "      <td>80</td>\n",
       "      <td>80</td>\n",
       "    </tr>\n",
       "    <tr>\n",
       "      <th>2</th>\n",
       "      <td>3</td>\n",
       "      <td>venusaur</td>\n",
       "      <td>1</td>\n",
       "      <td>2.0</td>\n",
       "      <td>100.0</td>\n",
       "      <td>236</td>\n",
       "      <td>grass</td>\n",
       "      <td>poison</td>\n",
       "      <td>80</td>\n",
       "      <td>82</td>\n",
       "      <td>83</td>\n",
       "      <td>80</td>\n",
       "      <td>100</td>\n",
       "      <td>100</td>\n",
       "    </tr>\n",
       "    <tr>\n",
       "      <th>3</th>\n",
       "      <td>4</td>\n",
       "      <td>charmander</td>\n",
       "      <td>1</td>\n",
       "      <td>0.6</td>\n",
       "      <td>8.5</td>\n",
       "      <td>62</td>\n",
       "      <td>fire</td>\n",
       "      <td>NaN</td>\n",
       "      <td>39</td>\n",
       "      <td>52</td>\n",
       "      <td>43</td>\n",
       "      <td>65</td>\n",
       "      <td>60</td>\n",
       "      <td>50</td>\n",
       "    </tr>\n",
       "    <tr>\n",
       "      <th>4</th>\n",
       "      <td>5</td>\n",
       "      <td>charmeleon</td>\n",
       "      <td>1</td>\n",
       "      <td>1.1</td>\n",
       "      <td>19.0</td>\n",
       "      <td>142</td>\n",
       "      <td>fire</td>\n",
       "      <td>NaN</td>\n",
       "      <td>58</td>\n",
       "      <td>64</td>\n",
       "      <td>58</td>\n",
       "      <td>80</td>\n",
       "      <td>80</td>\n",
       "      <td>65</td>\n",
       "    </tr>\n",
       "    <tr>\n",
       "      <th>5</th>\n",
       "      <td>6</td>\n",
       "      <td>charizard</td>\n",
       "      <td>1</td>\n",
       "      <td>1.7</td>\n",
       "      <td>90.5</td>\n",
       "      <td>240</td>\n",
       "      <td>fire</td>\n",
       "      <td>flying</td>\n",
       "      <td>78</td>\n",
       "      <td>84</td>\n",
       "      <td>78</td>\n",
       "      <td>100</td>\n",
       "      <td>109</td>\n",
       "      <td>85</td>\n",
       "    </tr>\n",
       "    <tr>\n",
       "      <th>6</th>\n",
       "      <td>7</td>\n",
       "      <td>squirtle</td>\n",
       "      <td>1</td>\n",
       "      <td>0.5</td>\n",
       "      <td>9.0</td>\n",
       "      <td>63</td>\n",
       "      <td>water</td>\n",
       "      <td>NaN</td>\n",
       "      <td>44</td>\n",
       "      <td>48</td>\n",
       "      <td>65</td>\n",
       "      <td>43</td>\n",
       "      <td>50</td>\n",
       "      <td>64</td>\n",
       "    </tr>\n",
       "    <tr>\n",
       "      <th>7</th>\n",
       "      <td>8</td>\n",
       "      <td>wartortle</td>\n",
       "      <td>1</td>\n",
       "      <td>1.0</td>\n",
       "      <td>22.5</td>\n",
       "      <td>142</td>\n",
       "      <td>water</td>\n",
       "      <td>NaN</td>\n",
       "      <td>59</td>\n",
       "      <td>63</td>\n",
       "      <td>80</td>\n",
       "      <td>58</td>\n",
       "      <td>65</td>\n",
       "      <td>80</td>\n",
       "    </tr>\n",
       "    <tr>\n",
       "      <th>8</th>\n",
       "      <td>9</td>\n",
       "      <td>blastoise</td>\n",
       "      <td>1</td>\n",
       "      <td>1.6</td>\n",
       "      <td>85.5</td>\n",
       "      <td>239</td>\n",
       "      <td>water</td>\n",
       "      <td>NaN</td>\n",
       "      <td>79</td>\n",
       "      <td>83</td>\n",
       "      <td>100</td>\n",
       "      <td>78</td>\n",
       "      <td>85</td>\n",
       "      <td>105</td>\n",
       "    </tr>\n",
       "    <tr>\n",
       "      <th>9</th>\n",
       "      <td>10</td>\n",
       "      <td>caterpie</td>\n",
       "      <td>1</td>\n",
       "      <td>0.3</td>\n",
       "      <td>2.9</td>\n",
       "      <td>39</td>\n",
       "      <td>bug</td>\n",
       "      <td>NaN</td>\n",
       "      <td>45</td>\n",
       "      <td>30</td>\n",
       "      <td>35</td>\n",
       "      <td>45</td>\n",
       "      <td>20</td>\n",
       "      <td>20</td>\n",
       "    </tr>\n",
       "  </tbody>\n",
       "</table>\n",
       "</div>"
      ],
      "text/plain": [
       "   id     species  generation_id  height  weight  base_experience type_1  \\\n",
       "0   1   bulbasaur              1     0.7     6.9               64  grass   \n",
       "1   2     ivysaur              1     1.0    13.0              142  grass   \n",
       "2   3    venusaur              1     2.0   100.0              236  grass   \n",
       "3   4  charmander              1     0.6     8.5               62   fire   \n",
       "4   5  charmeleon              1     1.1    19.0              142   fire   \n",
       "5   6   charizard              1     1.7    90.5              240   fire   \n",
       "6   7    squirtle              1     0.5     9.0               63  water   \n",
       "7   8   wartortle              1     1.0    22.5              142  water   \n",
       "8   9   blastoise              1     1.6    85.5              239  water   \n",
       "9  10    caterpie              1     0.3     2.9               39    bug   \n",
       "\n",
       "   type_2  hp  attack  defense  speed  special-attack  special-defense  \n",
       "0  poison  45      49       49     45              65               65  \n",
       "1  poison  60      62       63     60              80               80  \n",
       "2  poison  80      82       83     80             100              100  \n",
       "3     NaN  39      52       43     65              60               50  \n",
       "4     NaN  58      64       58     80              80               65  \n",
       "5  flying  78      84       78    100             109               85  \n",
       "6     NaN  44      48       65     43              50               64  \n",
       "7     NaN  59      63       80     58              65               80  \n",
       "8     NaN  79      83      100     78              85              105  \n",
       "9     NaN  45      30       35     45              20               20  "
      ]
     },
     "execution_count": 8,
     "metadata": {},
     "output_type": "execute_result"
    }
   ],
   "source": [
    "\n",
    "# attributes of creatures in the video game series Pokemon\n",
    "pokemon = pd.read_csv('data/pokemon.csv')\n",
    "print(pokemon.shape)\n",
    "pokemon.head(10)"
   ]
  },
  {
   "cell_type": "markdown",
   "metadata": {},
   "source": [
    "- Bar chart on one of the categorical variables in the data set(generation_id)\n",
    "- Even though the values look numeric they are categorical variables indicating when each piece of species was introduced to the series from first to 7th generation."
   ]
  },
  {
   "cell_type": "code",
   "execution_count": 9,
   "metadata": {},
   "outputs": [
    {
     "data": {
      "image/png": "[encoded data removed]",
      "text/plain": [
       "<Figure size 432x288 with 1 Axes>"
      ]
     },
     "metadata": {
      "needs_background": "light"
     },
     "output_type": "display_data"
    }
   ],
   "source": [
    "# Create a vertical bar chart using Seaborn, with default colors\n",
    "sb.countplot(data=pokemon, x='generation_id');"
   ]
  },
  {
   "cell_type": "markdown",
   "metadata": {},
   "source": [
    "- The most Pokemkon were introduced in generation 1, 3 and 5 with the fewest in generation 6 and 7\n",
    "- Each bar is illustrated using a different color, the generation number is already encoded by position on the x-axis and we don't have a good reason right now to associate each generation with a different color"
   ]
  },
  {
   "cell_type": "code",
   "execution_count": 10,
   "metadata": {},
   "outputs": [],
   "source": [
    "# obtaining color values\n",
    "base_color = sb.color_palette() [0]"
   ]
  },
  {
   "cell_type": "code",
   "execution_count": 11,
   "metadata": {},
   "outputs": [
    {
     "data": {
      "image/png": "[encoded data removed]",
      "text/plain": [
       "<Figure size 432x288 with 1 Axes>"
      ]
     },
     "metadata": {
      "needs_background": "light"
     },
     "output_type": "display_data"
    }
   ],
   "source": [
    "# Create a vertical bar chart using Seaborn, with a uniform single color\n",
    "sb.countplot(data=pokemon, x='generation_id', color=base_color);"
   ]
  },
  {
   "cell_type": "code",
   "execution_count": 12,
   "metadata": {},
   "outputs": [
    {
     "name": "stdout",
     "output_type": "stream",
     "text": [
      "Int64Index([5, 1, 3, 4, 2, 7, 6], dtype='int64')\n"
     ]
    }
   ],
   "source": [
    "# sort the generations in order by number of Pokemon species that were introduced\n",
    "gen_order = pokemon['generation_id'].value_counts().index\n",
    "# pokemon_sorted = pokemon['generation_id'].value_counts().sort_index\n",
    "print(gen_order)"
   ]
  },
  {
   "cell_type": "code",
   "execution_count": 13,
   "metadata": {},
   "outputs": [
    {
     "data": {
      "image/png": "[encoded data removed]",
      "text/plain": [
       "<Figure size 432x288 with 1 Axes>"
      ]
     },
     "metadata": {
      "needs_background": "light"
     },
     "output_type": "display_data"
    }
   ],
   "source": [
    "# Static-ordering the bars\n",
    "sb.countplot(data=pokemon, x='generation_id', color=base_color, order=[5, 1, 3, 4, 2, 7, 6])\n",
    "\n",
    "# Dynamic-ordering the bars\n",
    "# The order of the display of the bars can be computed with the following logic.\n",
    "# Count the frequency of each unique value in the 'generation_id' column, and sort it in descending order\n",
    "# Returns a Series\n",
    "freq = pokemon['generation_id'].value_counts()\n",
    "\n",
    "# Get the indexes of the Series\n",
    "gen_order = freq.index\n",
    "\n",
    "# Plot the bar chart in the decreasing order of the frequency of the `generation_id`\n",
    "sb.countplot(data=pokemon, x='generation_id', color=base_color, order=gen_order);"
   ]
  },
  {
   "cell_type": "markdown",
   "metadata": {},
   "source": [
    "- Moving on to a different categorical variable, `pokeman type` \n",
    "- Each species has one or two types that play a part in each creatures offensive and defensive capabilities\n",
    "- Distribution of first pokemon's types"
   ]
  },
  {
   "cell_type": "code",
   "execution_count": 14,
   "metadata": {},
   "outputs": [
    {
     "data": {
      "image/png": "[encoded data removed]",
      "text/plain": [
       "<Figure size 432x288 with 1 Axes>"
      ]
     },
     "metadata": {
      "needs_background": "light"
     },
     "output_type": "display_data"
    }
   ],
   "source": [
    "sb.countplot(data=pokemon, x='type_1', color=base_color);"
   ]
  },
  {
   "cell_type": "markdown",
   "metadata": {},
   "source": [
    "- The bar labels on the x-axis are almost unreadable due to overlap\n",
    "- Make use of `matplotlib`'s `xticks` function to rotate the category labels"
   ]
  },
  {
   "cell_type": "code",
   "execution_count": 15,
   "metadata": {},
   "outputs": [
    {
     "data": {
      "image/png": "[encoded data removed]",
      "text/plain": [
       "<Figure size 432x288 with 1 Axes>"
      ]
     },
     "metadata": {
      "needs_background": "light"
     },
     "output_type": "display_data"
    }
   ],
   "source": [
    "sb.countplot(data=pokemon, x=\"type_1\", color=base_color)\n",
    "plt.xticks(rotation=90);"
   ]
  },
  {
   "cell_type": "markdown",
   "metadata": {},
   "source": [
    "- An alternative sstrategy is to create a horizontal bar chart\n",
    "- In `seaborn` it's as simple as changing the `x` parameter into a `Y`"
   ]
  },
  {
   "cell_type": "code",
   "execution_count": 16,
   "metadata": {},
   "outputs": [
    {
     "data": {
      "image/png": "[encoded data removed]",
      "text/plain": [
       "<Figure size 432x288 with 1 Axes>"
      ]
     },
     "metadata": {
      "needs_background": "light"
     },
     "output_type": "display_data"
    }
   ],
   "source": [
    "type_order = pokemon['type_1'].value_counts().index\n",
    "sb.countplot(data=pokemon, y=\"type_1\", color=base_color, order = type_order);"
   ]
  },
  {
   "cell_type": "markdown",
   "metadata": {},
   "source": [
    "- Water and normal types are the most common first types taken by pokemon while flying is the least common first type"
   ]
  },
  {
   "cell_type": "markdown",
   "metadata": {},
   "source": [
    "## Absolute vs Relative Frequency\n",
    "- In the above concept all bar charts were encoded with _absolute frequency_ which is the total number of data points for each category\n",
    "- In some cases you might instead be interested in the relative frequency or what proportion of the data falls in each category (the frequency of a category as it relates to the total number of data points, _relative frequency_)\n",
    "- Changing the count axis to reflect relative proportions makes it easier to see how much each category contributes to the whole"
   ]
  },
  {
   "cell_type": "markdown",
   "metadata": {},
   "source": [
    "- By default seaborn's `countplot` will summarize and plot the data in terms of **absolute frequency**  or pure counts.\n",
    "- In certain cases you might want to understand the distribution of data or want to compare levels in terms of the proportion of the whole. In this case you will want to plot the data in terms of **relative frequency** where the height indicates the proportion of data taking each level, rather than the absolute count.\n",
    "- One method of plotting data in terms of relative frequency on a bar chart is to just relabel the count's axis in terms of proportions. The underlying data will be the same, it will simply be the scale of the axis ticks that will be changed."
   ]
  },
  {
   "cell_type": "markdown",
   "metadata": {},
   "source": [
    "- Clubbing the rows of `type_1` and `type_2` so that the resulting data frame has a new column `type_level`\n",
    "- This operation will double the number of rows from `807` to `1614`\n",
    "- Parameters:\n",
    "    * `id_vars`: tuple representing the columns to use as identifier variables\n",
    "    * `value_vars`: tuple representing the columns to unpivot(remove,out of place)\n",
    "    * `var_name`: name of the **New** column\n",
    "    * `value_name`: name to use for the value of the columns that are unpivoted\n",
    "- [Documentation](https://pandas.pydata.org/pandas-docs/stable/reference/api/pandas.DataFrame.melt.html)"
   ]
  },
  {
   "cell_type": "code",
   "execution_count": 17,
   "metadata": {},
   "outputs": [],
   "source": [
    "pkmn_types = pokemon.melt(\n",
    "    id_vars = ['id', 'species'],\n",
    "    value_vars = ['type_1', 'type_2'],\n",
    "    var_name = 'type_level',\n",
    "    value_name = 'type'\n",
    "    ).dropna()"
   ]
  },
  {
   "cell_type": "markdown",
   "metadata": {},
   "source": [
    "- The function above;\n",
    "    - selects the `id` and `species` columns from `pokeman`\n",
    "    - removes `type_1` and `type_2` columns from `pokema`\n",
    "    - adds a new column `type_level` that can have a value either `type_1` or `type_2`\n",
    "    - adds another column `type` that will contain the actual value contained in the `type_1` and `type_2` columns"
   ]
  },
  {
   "cell_type": "code",
   "execution_count": 18,
   "metadata": {},
   "outputs": [
    {
     "data": {
      "text/html": [
       "<div>\n",
       "<style scoped>\n",
       "    .dataframe tbody tr th:only-of-type {\n",
       "        vertical-align: middle;\n",
       "    }\n",
       "\n",
       "    .dataframe tbody tr th {\n",
       "        vertical-align: top;\n",
       "    }\n",
       "\n",
       "    .dataframe thead th {\n",
       "        text-align: right;\n",
       "    }\n",
       "</style>\n",
       "<table border=\"1\" class=\"dataframe\">\n",
       "  <thead>\n",
       "    <tr style=\"text-align: right;\">\n",
       "      <th></th>\n",
       "      <th>id</th>\n",
       "      <th>species</th>\n",
       "      <th>type_level</th>\n",
       "      <th>type</th>\n",
       "    </tr>\n",
       "  </thead>\n",
       "  <tbody>\n",
       "    <tr>\n",
       "      <th>802</th>\n",
       "      <td>803</td>\n",
       "      <td>poipole</td>\n",
       "      <td>type_1</td>\n",
       "      <td>poison</td>\n",
       "    </tr>\n",
       "    <tr>\n",
       "      <th>803</th>\n",
       "      <td>804</td>\n",
       "      <td>naganadel</td>\n",
       "      <td>type_1</td>\n",
       "      <td>poison</td>\n",
       "    </tr>\n",
       "    <tr>\n",
       "      <th>804</th>\n",
       "      <td>805</td>\n",
       "      <td>stakataka</td>\n",
       "      <td>type_1</td>\n",
       "      <td>rock</td>\n",
       "    </tr>\n",
       "    <tr>\n",
       "      <th>805</th>\n",
       "      <td>806</td>\n",
       "      <td>blacephalon</td>\n",
       "      <td>type_1</td>\n",
       "      <td>fire</td>\n",
       "    </tr>\n",
       "    <tr>\n",
       "      <th>806</th>\n",
       "      <td>807</td>\n",
       "      <td>zeraora</td>\n",
       "      <td>type_1</td>\n",
       "      <td>electric</td>\n",
       "    </tr>\n",
       "    <tr>\n",
       "      <th>807</th>\n",
       "      <td>1</td>\n",
       "      <td>bulbasaur</td>\n",
       "      <td>type_2</td>\n",
       "      <td>poison</td>\n",
       "    </tr>\n",
       "    <tr>\n",
       "      <th>808</th>\n",
       "      <td>2</td>\n",
       "      <td>ivysaur</td>\n",
       "      <td>type_2</td>\n",
       "      <td>poison</td>\n",
       "    </tr>\n",
       "    <tr>\n",
       "      <th>809</th>\n",
       "      <td>3</td>\n",
       "      <td>venusaur</td>\n",
       "      <td>type_2</td>\n",
       "      <td>poison</td>\n",
       "    </tr>\n",
       "    <tr>\n",
       "      <th>812</th>\n",
       "      <td>6</td>\n",
       "      <td>charizard</td>\n",
       "      <td>type_2</td>\n",
       "      <td>flying</td>\n",
       "    </tr>\n",
       "    <tr>\n",
       "      <th>818</th>\n",
       "      <td>12</td>\n",
       "      <td>butterfree</td>\n",
       "      <td>type_2</td>\n",
       "      <td>flying</td>\n",
       "    </tr>\n",
       "  </tbody>\n",
       "</table>\n",
       "</div>"
      ],
      "text/plain": [
       "      id      species type_level      type\n",
       "802  803      poipole     type_1    poison\n",
       "803  804    naganadel     type_1    poison\n",
       "804  805    stakataka     type_1      rock\n",
       "805  806  blacephalon     type_1      fire\n",
       "806  807      zeraora     type_1  electric\n",
       "807    1    bulbasaur     type_2    poison\n",
       "808    2      ivysaur     type_2    poison\n",
       "809    3     venusaur     type_2    poison\n",
       "812    6    charizard     type_2    flying\n",
       "818   12   butterfree     type_2    flying"
      ]
     },
     "execution_count": 18,
     "metadata": {},
     "output_type": "execute_result"
    }
   ],
   "source": [
    "pkmn_types[802:812]"
   ]
  },
  {
   "cell_type": "markdown",
   "metadata": {},
   "source": [
    "Finding the frequency of unique values in the `type` column"
   ]
  },
  {
   "cell_type": "code",
   "execution_count": 19,
   "metadata": {},
   "outputs": [
    {
     "data": {
      "text/plain": [
       "water       131\n",
       "normal      109\n",
       "flying       98\n",
       "grass        97\n",
       "psychic      82\n",
       "bug          77\n",
       "poison       66\n",
       "ground       64\n",
       "fire         64\n",
       "rock         60\n",
       "fighting     54\n",
       "electric     48\n",
       "fairy        47\n",
       "steel        47\n",
       "dark         46\n",
       "dragon       45\n",
       "ghost        43\n",
       "ice          34\n",
       "Name: type, dtype: int64"
      ]
     },
     "execution_count": 19,
     "metadata": {},
     "output_type": "execute_result"
    }
   ],
   "source": [
    "type_counts = pkmn_types['type'].value_counts()\n",
    "type_counts"
   ]
  },
  {
   "cell_type": "code",
   "execution_count": 20,
   "metadata": {},
   "outputs": [
    {
     "data": {
      "text/plain": [
       "Index(['water', 'normal', 'flying', 'grass', 'psychic', 'bug', 'poison',\n",
       "       'ground', 'fire', 'rock', 'fighting', 'electric', 'fairy', 'steel',\n",
       "       'dark', 'dragon', 'ghost', 'ice'],\n",
       "      dtype='object')"
      ]
     },
     "execution_count": 20,
     "metadata": {},
     "output_type": "execute_result"
    }
   ],
   "source": [
    "type_order = type_counts.index\n",
    "type_order"
   ]
  },
  {
   "cell_type": "markdown",
   "metadata": {},
   "source": [
    "- Plotting the horizontal bar charts"
   ]
  },
  {
   "cell_type": "code",
   "execution_count": 21,
   "metadata": {},
   "outputs": [
    {
     "data": {
      "image/png": "[encoded data removed]",
      "text/plain": [
       "<Figure size 432x288 with 1 Axes>"
      ]
     },
     "metadata": {
      "needs_background": "light"
     },
     "output_type": "display_data"
    }
   ],
   "source": [
    "base_color = sb.color_palette()[0]\n",
    "sb.countplot(data=pkmn_types, y='type', color=base_color, order=type_order);"
   ]
  },
  {
   "cell_type": "markdown",
   "metadata": {},
   "source": [
    "#### Plot a bar chart having the proportions instead of the actual counts on one of the axes"
   ]
  },
  {
   "cell_type": "code",
   "execution_count": 22,
   "metadata": {},
   "outputs": [],
   "source": [
    "# returns the sum of all not null values in `type` column\n",
    "n_pokemon = pkmn_types['type'].value_counts().sum()\n",
    "\n",
    "# return the highest frequency in the type column\n",
    "max_type_count = type_counts[0]"
   ]
  },
  {
   "cell_type": "markdown",
   "metadata": {},
   "source": [
    "- Returnin the maximum proportion (computing the length of the longest bar in terms of proportion)"
   ]
  },
  {
   "cell_type": "code",
   "execution_count": 23,
   "metadata": {},
   "outputs": [
    {
     "name": "stdout",
     "output_type": "stream",
     "text": [
      "0.10808580858085809\n"
     ]
    }
   ],
   "source": [
    "max_prop = max_type_count/n_pokemon\n",
    "print(max_prop)"
   ]
  },
  {
   "cell_type": "markdown",
   "metadata": {},
   "source": [
    "##### Create an aray of evenly spaced proportioned values"
   ]
  },
  {
   "cell_type": "code",
   "execution_count": 24,
   "metadata": {},
   "outputs": [
    {
     "data": {
      "text/plain": [
       "array([0.  , 0.02, 0.04, 0.06, 0.08, 0.1 ])"
      ]
     },
     "execution_count": 24,
     "metadata": {},
     "output_type": "execute_result"
    }
   ],
   "source": [
    "# use numpy.arange() function to produce a set of evenly spaced proportioned values between 0 and max_prop with a step size 2%\n",
    "tick_props = np.arange(0, max_prop, 0.02)\n",
    "tick_props"
   ]
  },
  {
   "cell_type": "markdown",
   "metadata": {},
   "source": [
    "- We need x-tick labels that must be evenly spaced on the x-axis.\n",
    "- For this purpose we must have a list of labels ready with us, before using it with `plt.xticks()` function\n",
    "\n",
    "##### Create a list of string values that can be used as tick labels\n",
    "- Use a list comprehension to create tick names that will apply to the tick labels\n",
    "- Pick each element `v` from the `tick_props` and convert it into a formatted string\n",
    "- `{0.2f}` denotes that before formating we need 2 digits of precision and `f` is used to represent floating point\n",
    "-  [Docs](https://docs.python.org/2/library/string.html#format-string-syntax)"
   ]
  },
  {
   "cell_type": "code",
   "execution_count": 25,
   "metadata": {},
   "outputs": [
    {
     "data": {
      "text/plain": [
       "['0.00', '0.02', '0.04', '0.06', '0.08', '0.10']"
      ]
     },
     "execution_count": 25,
     "metadata": {},
     "output_type": "execute_result"
    }
   ],
   "source": [
    "tick_names = ['{:0.2f}'.format(v) for v in tick_props]\n",
    "tick_names"
   ]
  },
  {
   "cell_type": "markdown",
   "metadata": {},
   "source": [
    "- The `xticks` and `yticks` functions aren't only about rotating labels. You can also get and set their locations and labels as well\n",
    "- The first argument takes the tick locations: in this case the tick proportions multiplied back to be on the scale of counts\n",
    "- The second argument takes the tick names, in this case the tick proportions formatted as strings to two decimal places.\n",
    "\n",
    "##### Plotting the bar chart with new x-tick labels"
   ]
  },
  {
   "cell_type": "code",
   "execution_count": 26,
   "metadata": {},
   "outputs": [
    {
     "data": {
      "image/png": "[encoded data removed]",
      "text/plain": [
       "<Figure size 432x288 with 1 Axes>"
      ]
     },
     "metadata": {
      "needs_background": "light"
     },
     "output_type": "display_data"
    }
   ],
   "source": [
    "sb.countplot(data=pkmn_types, y='type', color=base_color, order=type_order)\n",
    "# change the tick locations and labels\n",
    "plt.xticks(tick_props * n_pokemon, tick_names)\n",
    "plt.xlabel('proportion');"
   ]
  },
  {
   "cell_type": "markdown",
   "metadata": {},
   "source": [
    "### Additional Variation\n",
    "- Rather than plotting the data on a relative frequency scale you might use text annotations to label the frequencies on bars instead\n",
    "- This requires looping over the tick locations and labels and adding one text element for each bar\n",
    "\n",
    "#### Print the text (proportion) on the bars of a horizontal plot\n",
    "[text function](https://matplotlib.org/3.1.1/api/_as_gen/matplotlib.pyplot.text.html)"
   ]
  },
  {
   "cell_type": "code",
   "execution_count": 27,
   "metadata": {},
   "outputs": [
    {
     "data": {
      "image/png": "[encoded data removed]",
      "text/plain": [
       "<Figure size 432x288 with 1 Axes>"
      ]
     },
     "metadata": {
      "needs_background": "light"
     },
     "output_type": "display_data"
    }
   ],
   "source": [
    "base_color = sb.color_palette()[0]\n",
    "sb.countplot(data=pkmn_types, y='type', color=base_color, order=type_order);\n",
    "\n",
    "for i in range(type_counts.shape[0]):\n",
    "    count = type_counts[i]\n",
    "    pct_string = '{:0.1f}'.format(100*count/n_pokemon)\n",
    "    plt.text(count + 1, i, pct_string, va='center')"
   ]
  },
  {
   "cell_type": "markdown",
   "metadata": {},
   "source": [
    "#### Print the text(proportion) below the bars of a vertical plot\n",
    "- `.get_text()` method is used to obtain category name so I can get the count of each category level\n",
    "- Use `text` function at the end to print each percentage with the x-position, y-position and string as the three main parameters to the function\n",
    "- changing the size of the plot to make text on the bars readable\n",
    "- Specify the figure size in inches for both X and Y axes"
   ]
  },
  {
   "cell_type": "code",
   "execution_count": 28,
   "metadata": {},
   "outputs": [
    {
     "data": {
      "image/png": "[encoded data removed]",
      "text/plain": [
       "<Figure size 432x288 with 1 Axes>"
      ]
     },
     "metadata": {
      "needs_background": "light"
     },
     "output_type": "display_data"
    }
   ],
   "source": [
    "from matplotlib import rcParams\n",
    "\n",
    "base_color = sb.color_palette()[0]\n",
    "sb.countplot(data=pkmn_types, x='type', color=base_color, order=type_order)\n",
    "type_counts = pkmn_types['type'].value_counts()\n",
    "# get the current tick locations and labels\n",
    "locs, labels = plt.xticks(rotation=90)\n",
    "# loop through each pair of locations and labels\n",
    "for loc, label in zip(locs, labels):\n",
    "    # get the text property for the label to get the correct count\n",
    "    count = type_counts[label.get_text()]\n",
    "    pct_string = '{:0.1f}%'.format(100*count/n_pokemon)\n",
    "    # print the annotation just below the top of the bar\n",
    "    plt.text(loc, count+2, pct_string, ha='center', color='black')\n",
    "\n",
    "rcParams['figure.figsize'] = 12, 4"
   ]
  },
  {
   "cell_type": "markdown",
   "metadata": {},
   "source": [
    "## Counting Missing Data\n",
    "- If you have a data frame that contains missing values (`numpy.NaN`, or `None`), you can find the count of across the given label;\n",
    "    1. [pandas.Dataframe.isna()](https://pandas.pydata.org/pandas-docs/stable/reference/api/pandas.DataFrame.isna.html)\n",
    "    2. [pandas.Dataframe.isnull()](https://pandas.pydata.org/pandas-docs/stable/reference/api/pandas.DataFrame.isnull.html#pandas.DataFrame.isnull)\n",
    "- The functions are aliases of each other and return the same sized object as that of the calling dataframe, made up of Boolean True or False"
   ]
  },
  {
   "cell_type": "markdown",
   "metadata": {},
   "source": [
    "#### Load the dataset"
   ]
  },
  {
   "cell_type": "code",
   "execution_count": 29,
   "metadata": {},
   "outputs": [
    {
     "data": {
      "text/html": [
       "<div>\n",
       "<style scoped>\n",
       "    .dataframe tbody tr th:only-of-type {\n",
       "        vertical-align: middle;\n",
       "    }\n",
       "\n",
       "    .dataframe tbody tr th {\n",
       "        vertical-align: top;\n",
       "    }\n",
       "\n",
       "    .dataframe thead th {\n",
       "        text-align: right;\n",
       "    }\n",
       "</style>\n",
       "<table border=\"1\" class=\"dataframe\">\n",
       "  <thead>\n",
       "    <tr style=\"text-align: right;\">\n",
       "      <th></th>\n",
       "      <th>Store</th>\n",
       "      <th>Date</th>\n",
       "      <th>Temperature</th>\n",
       "      <th>Fuel_Price</th>\n",
       "      <th>MarkDown1</th>\n",
       "      <th>MarkDown2</th>\n",
       "      <th>MarkDown3</th>\n",
       "      <th>MarkDown4</th>\n",
       "      <th>MarkDown5</th>\n",
       "      <th>CPI</th>\n",
       "      <th>Unemployment</th>\n",
       "      <th>IsHoliday</th>\n",
       "    </tr>\n",
       "  </thead>\n",
       "  <tbody>\n",
       "    <tr>\n",
       "      <th>0</th>\n",
       "      <td>1</td>\n",
       "      <td>05/02/2010</td>\n",
       "      <td>42.31</td>\n",
       "      <td>2.572</td>\n",
       "      <td>NaN</td>\n",
       "      <td>NaN</td>\n",
       "      <td>NaN</td>\n",
       "      <td>NaN</td>\n",
       "      <td>NaN</td>\n",
       "      <td>211.096358</td>\n",
       "      <td>8.106</td>\n",
       "      <td>False</td>\n",
       "    </tr>\n",
       "    <tr>\n",
       "      <th>1</th>\n",
       "      <td>1</td>\n",
       "      <td>12/02/2010</td>\n",
       "      <td>38.51</td>\n",
       "      <td>2.548</td>\n",
       "      <td>NaN</td>\n",
       "      <td>NaN</td>\n",
       "      <td>NaN</td>\n",
       "      <td>NaN</td>\n",
       "      <td>NaN</td>\n",
       "      <td>211.242170</td>\n",
       "      <td>8.106</td>\n",
       "      <td>True</td>\n",
       "    </tr>\n",
       "    <tr>\n",
       "      <th>2</th>\n",
       "      <td>1</td>\n",
       "      <td>19/02/2010</td>\n",
       "      <td>39.93</td>\n",
       "      <td>2.514</td>\n",
       "      <td>NaN</td>\n",
       "      <td>NaN</td>\n",
       "      <td>NaN</td>\n",
       "      <td>NaN</td>\n",
       "      <td>NaN</td>\n",
       "      <td>211.289143</td>\n",
       "      <td>8.106</td>\n",
       "      <td>False</td>\n",
       "    </tr>\n",
       "    <tr>\n",
       "      <th>3</th>\n",
       "      <td>1</td>\n",
       "      <td>26/02/2010</td>\n",
       "      <td>46.63</td>\n",
       "      <td>2.561</td>\n",
       "      <td>NaN</td>\n",
       "      <td>NaN</td>\n",
       "      <td>NaN</td>\n",
       "      <td>NaN</td>\n",
       "      <td>NaN</td>\n",
       "      <td>211.319643</td>\n",
       "      <td>8.106</td>\n",
       "      <td>False</td>\n",
       "    </tr>\n",
       "    <tr>\n",
       "      <th>4</th>\n",
       "      <td>1</td>\n",
       "      <td>05/03/2010</td>\n",
       "      <td>46.50</td>\n",
       "      <td>2.625</td>\n",
       "      <td>NaN</td>\n",
       "      <td>NaN</td>\n",
       "      <td>NaN</td>\n",
       "      <td>NaN</td>\n",
       "      <td>NaN</td>\n",
       "      <td>211.350143</td>\n",
       "      <td>8.106</td>\n",
       "      <td>False</td>\n",
       "    </tr>\n",
       "    <tr>\n",
       "      <th>5</th>\n",
       "      <td>1</td>\n",
       "      <td>12/03/2010</td>\n",
       "      <td>57.79</td>\n",
       "      <td>2.667</td>\n",
       "      <td>NaN</td>\n",
       "      <td>NaN</td>\n",
       "      <td>NaN</td>\n",
       "      <td>NaN</td>\n",
       "      <td>NaN</td>\n",
       "      <td>211.380643</td>\n",
       "      <td>8.106</td>\n",
       "      <td>False</td>\n",
       "    </tr>\n",
       "    <tr>\n",
       "      <th>6</th>\n",
       "      <td>1</td>\n",
       "      <td>19/03/2010</td>\n",
       "      <td>54.58</td>\n",
       "      <td>2.720</td>\n",
       "      <td>NaN</td>\n",
       "      <td>NaN</td>\n",
       "      <td>NaN</td>\n",
       "      <td>NaN</td>\n",
       "      <td>NaN</td>\n",
       "      <td>211.215635</td>\n",
       "      <td>8.106</td>\n",
       "      <td>False</td>\n",
       "    </tr>\n",
       "    <tr>\n",
       "      <th>7</th>\n",
       "      <td>1</td>\n",
       "      <td>26/03/2010</td>\n",
       "      <td>51.45</td>\n",
       "      <td>2.732</td>\n",
       "      <td>NaN</td>\n",
       "      <td>NaN</td>\n",
       "      <td>NaN</td>\n",
       "      <td>NaN</td>\n",
       "      <td>NaN</td>\n",
       "      <td>211.018042</td>\n",
       "      <td>8.106</td>\n",
       "      <td>False</td>\n",
       "    </tr>\n",
       "    <tr>\n",
       "      <th>8</th>\n",
       "      <td>1</td>\n",
       "      <td>02/04/2010</td>\n",
       "      <td>62.27</td>\n",
       "      <td>2.719</td>\n",
       "      <td>NaN</td>\n",
       "      <td>NaN</td>\n",
       "      <td>NaN</td>\n",
       "      <td>NaN</td>\n",
       "      <td>NaN</td>\n",
       "      <td>210.820450</td>\n",
       "      <td>7.808</td>\n",
       "      <td>False</td>\n",
       "    </tr>\n",
       "    <tr>\n",
       "      <th>9</th>\n",
       "      <td>1</td>\n",
       "      <td>09/04/2010</td>\n",
       "      <td>65.86</td>\n",
       "      <td>2.770</td>\n",
       "      <td>NaN</td>\n",
       "      <td>NaN</td>\n",
       "      <td>NaN</td>\n",
       "      <td>NaN</td>\n",
       "      <td>NaN</td>\n",
       "      <td>210.622857</td>\n",
       "      <td>7.808</td>\n",
       "      <td>False</td>\n",
       "    </tr>\n",
       "  </tbody>\n",
       "</table>\n",
       "</div>"
      ],
      "text/plain": [
       "   Store        Date  Temperature  Fuel_Price  MarkDown1  MarkDown2  \\\n",
       "0      1  05/02/2010        42.31       2.572        NaN        NaN   \n",
       "1      1  12/02/2010        38.51       2.548        NaN        NaN   \n",
       "2      1  19/02/2010        39.93       2.514        NaN        NaN   \n",
       "3      1  26/02/2010        46.63       2.561        NaN        NaN   \n",
       "4      1  05/03/2010        46.50       2.625        NaN        NaN   \n",
       "5      1  12/03/2010        57.79       2.667        NaN        NaN   \n",
       "6      1  19/03/2010        54.58       2.720        NaN        NaN   \n",
       "7      1  26/03/2010        51.45       2.732        NaN        NaN   \n",
       "8      1  02/04/2010        62.27       2.719        NaN        NaN   \n",
       "9      1  09/04/2010        65.86       2.770        NaN        NaN   \n",
       "\n",
       "   MarkDown3  MarkDown4  MarkDown5         CPI  Unemployment  IsHoliday  \n",
       "0        NaN        NaN        NaN  211.096358         8.106      False  \n",
       "1        NaN        NaN        NaN  211.242170         8.106       True  \n",
       "2        NaN        NaN        NaN  211.289143         8.106      False  \n",
       "3        NaN        NaN        NaN  211.319643         8.106      False  \n",
       "4        NaN        NaN        NaN  211.350143         8.106      False  \n",
       "5        NaN        NaN        NaN  211.380643         8.106      False  \n",
       "6        NaN        NaN        NaN  211.215635         8.106      False  \n",
       "7        NaN        NaN        NaN  211.018042         8.106      False  \n",
       "8        NaN        NaN        NaN  210.820450         7.808      False  \n",
       "9        NaN        NaN        NaN  210.622857         7.808      False  "
      ]
     },
     "execution_count": 29,
     "metadata": {},
     "output_type": "execute_result"
    }
   ],
   "source": [
    "sales_data = pd.read_csv('data/sales-data.csv')\n",
    "sales_data.head(10)\n"
   ]
  },
  {
   "cell_type": "code",
   "execution_count": 30,
   "metadata": {},
   "outputs": [
    {
     "data": {
      "text/plain": [
       "(8190, 12)"
      ]
     },
     "execution_count": 30,
     "metadata": {},
     "output_type": "execute_result"
    }
   ],
   "source": [
    "sales_data.shape"
   ]
  },
  {
   "cell_type": "code",
   "execution_count": 31,
   "metadata": {},
   "outputs": [
    {
     "data": {
      "text/html": [
       "<div>\n",
       "<style scoped>\n",
       "    .dataframe tbody tr th:only-of-type {\n",
       "        vertical-align: middle;\n",
       "    }\n",
       "\n",
       "    .dataframe tbody tr th {\n",
       "        vertical-align: top;\n",
       "    }\n",
       "\n",
       "    .dataframe thead th {\n",
       "        text-align: right;\n",
       "    }\n",
       "</style>\n",
       "<table border=\"1\" class=\"dataframe\">\n",
       "  <thead>\n",
       "    <tr style=\"text-align: right;\">\n",
       "      <th></th>\n",
       "      <th>Store</th>\n",
       "      <th>Date</th>\n",
       "      <th>Temperature</th>\n",
       "      <th>Fuel_Price</th>\n",
       "      <th>MarkDown1</th>\n",
       "      <th>MarkDown2</th>\n",
       "      <th>MarkDown3</th>\n",
       "      <th>MarkDown4</th>\n",
       "      <th>MarkDown5</th>\n",
       "      <th>CPI</th>\n",
       "      <th>Unemployment</th>\n",
       "      <th>IsHoliday</th>\n",
       "    </tr>\n",
       "  </thead>\n",
       "  <tbody>\n",
       "    <tr>\n",
       "      <th>0</th>\n",
       "      <td>False</td>\n",
       "      <td>False</td>\n",
       "      <td>False</td>\n",
       "      <td>False</td>\n",
       "      <td>True</td>\n",
       "      <td>True</td>\n",
       "      <td>True</td>\n",
       "      <td>True</td>\n",
       "      <td>True</td>\n",
       "      <td>False</td>\n",
       "      <td>False</td>\n",
       "      <td>False</td>\n",
       "    </tr>\n",
       "    <tr>\n",
       "      <th>1</th>\n",
       "      <td>False</td>\n",
       "      <td>False</td>\n",
       "      <td>False</td>\n",
       "      <td>False</td>\n",
       "      <td>True</td>\n",
       "      <td>True</td>\n",
       "      <td>True</td>\n",
       "      <td>True</td>\n",
       "      <td>True</td>\n",
       "      <td>False</td>\n",
       "      <td>False</td>\n",
       "      <td>False</td>\n",
       "    </tr>\n",
       "    <tr>\n",
       "      <th>2</th>\n",
       "      <td>False</td>\n",
       "      <td>False</td>\n",
       "      <td>False</td>\n",
       "      <td>False</td>\n",
       "      <td>True</td>\n",
       "      <td>True</td>\n",
       "      <td>True</td>\n",
       "      <td>True</td>\n",
       "      <td>True</td>\n",
       "      <td>False</td>\n",
       "      <td>False</td>\n",
       "      <td>False</td>\n",
       "    </tr>\n",
       "    <tr>\n",
       "      <th>3</th>\n",
       "      <td>False</td>\n",
       "      <td>False</td>\n",
       "      <td>False</td>\n",
       "      <td>False</td>\n",
       "      <td>True</td>\n",
       "      <td>True</td>\n",
       "      <td>True</td>\n",
       "      <td>True</td>\n",
       "      <td>True</td>\n",
       "      <td>False</td>\n",
       "      <td>False</td>\n",
       "      <td>False</td>\n",
       "    </tr>\n",
       "    <tr>\n",
       "      <th>4</th>\n",
       "      <td>False</td>\n",
       "      <td>False</td>\n",
       "      <td>False</td>\n",
       "      <td>False</td>\n",
       "      <td>True</td>\n",
       "      <td>True</td>\n",
       "      <td>True</td>\n",
       "      <td>True</td>\n",
       "      <td>True</td>\n",
       "      <td>False</td>\n",
       "      <td>False</td>\n",
       "      <td>False</td>\n",
       "    </tr>\n",
       "    <tr>\n",
       "      <th>...</th>\n",
       "      <td>...</td>\n",
       "      <td>...</td>\n",
       "      <td>...</td>\n",
       "      <td>...</td>\n",
       "      <td>...</td>\n",
       "      <td>...</td>\n",
       "      <td>...</td>\n",
       "      <td>...</td>\n",
       "      <td>...</td>\n",
       "      <td>...</td>\n",
       "      <td>...</td>\n",
       "      <td>...</td>\n",
       "    </tr>\n",
       "    <tr>\n",
       "      <th>8185</th>\n",
       "      <td>False</td>\n",
       "      <td>False</td>\n",
       "      <td>False</td>\n",
       "      <td>False</td>\n",
       "      <td>False</td>\n",
       "      <td>False</td>\n",
       "      <td>False</td>\n",
       "      <td>False</td>\n",
       "      <td>False</td>\n",
       "      <td>True</td>\n",
       "      <td>True</td>\n",
       "      <td>False</td>\n",
       "    </tr>\n",
       "    <tr>\n",
       "      <th>8186</th>\n",
       "      <td>False</td>\n",
       "      <td>False</td>\n",
       "      <td>False</td>\n",
       "      <td>False</td>\n",
       "      <td>False</td>\n",
       "      <td>False</td>\n",
       "      <td>False</td>\n",
       "      <td>False</td>\n",
       "      <td>False</td>\n",
       "      <td>True</td>\n",
       "      <td>True</td>\n",
       "      <td>False</td>\n",
       "    </tr>\n",
       "    <tr>\n",
       "      <th>8187</th>\n",
       "      <td>False</td>\n",
       "      <td>False</td>\n",
       "      <td>False</td>\n",
       "      <td>False</td>\n",
       "      <td>False</td>\n",
       "      <td>False</td>\n",
       "      <td>False</td>\n",
       "      <td>False</td>\n",
       "      <td>False</td>\n",
       "      <td>True</td>\n",
       "      <td>True</td>\n",
       "      <td>False</td>\n",
       "    </tr>\n",
       "    <tr>\n",
       "      <th>8188</th>\n",
       "      <td>False</td>\n",
       "      <td>False</td>\n",
       "      <td>False</td>\n",
       "      <td>False</td>\n",
       "      <td>False</td>\n",
       "      <td>False</td>\n",
       "      <td>False</td>\n",
       "      <td>False</td>\n",
       "      <td>False</td>\n",
       "      <td>True</td>\n",
       "      <td>True</td>\n",
       "      <td>False</td>\n",
       "    </tr>\n",
       "    <tr>\n",
       "      <th>8189</th>\n",
       "      <td>False</td>\n",
       "      <td>False</td>\n",
       "      <td>False</td>\n",
       "      <td>False</td>\n",
       "      <td>False</td>\n",
       "      <td>False</td>\n",
       "      <td>False</td>\n",
       "      <td>False</td>\n",
       "      <td>False</td>\n",
       "      <td>True</td>\n",
       "      <td>True</td>\n",
       "      <td>False</td>\n",
       "    </tr>\n",
       "  </tbody>\n",
       "</table>\n",
       "<p>8190 rows × 12 columns</p>\n",
       "</div>"
      ],
      "text/plain": [
       "      Store   Date  Temperature  Fuel_Price  MarkDown1  MarkDown2  MarkDown3  \\\n",
       "0     False  False        False       False       True       True       True   \n",
       "1     False  False        False       False       True       True       True   \n",
       "2     False  False        False       False       True       True       True   \n",
       "3     False  False        False       False       True       True       True   \n",
       "4     False  False        False       False       True       True       True   \n",
       "...     ...    ...          ...         ...        ...        ...        ...   \n",
       "8185  False  False        False       False      False      False      False   \n",
       "8186  False  False        False       False      False      False      False   \n",
       "8187  False  False        False       False      False      False      False   \n",
       "8188  False  False        False       False      False      False      False   \n",
       "8189  False  False        False       False      False      False      False   \n",
       "\n",
       "      MarkDown4  MarkDown5    CPI  Unemployment  IsHoliday  \n",
       "0          True       True  False         False      False  \n",
       "1          True       True  False         False      False  \n",
       "2          True       True  False         False      False  \n",
       "3          True       True  False         False      False  \n",
       "4          True       True  False         False      False  \n",
       "...         ...        ...    ...           ...        ...  \n",
       "8185      False      False   True          True      False  \n",
       "8186      False      False   True          True      False  \n",
       "8187      False      False   True          True      False  \n",
       "8188      False      False   True          True      False  \n",
       "8189      False      False   True          True      False  \n",
       "\n",
       "[8190 rows x 12 columns]"
      ]
     },
     "execution_count": 31,
     "metadata": {},
     "output_type": "execute_result"
    }
   ],
   "source": [
    "# sales_data.isna()\n",
    "sales_data.isnull()"
   ]
  },
  {
   "cell_type": "markdown",
   "metadata": {},
   "source": [
    "- Finding the number of missing values in each column"
   ]
  },
  {
   "cell_type": "code",
   "execution_count": 32,
   "metadata": {},
   "outputs": [
    {
     "data": {
      "text/plain": [
       "Store              0\n",
       "Date               0\n",
       "Temperature        0\n",
       "Fuel_Price         0\n",
       "MarkDown1       4158\n",
       "MarkDown2       5269\n",
       "MarkDown3       4577\n",
       "MarkDown4       4726\n",
       "MarkDown5       4140\n",
       "CPI              585\n",
       "Unemployment     585\n",
       "IsHoliday          0\n",
       "dtype: int64"
      ]
     },
     "execution_count": 32,
     "metadata": {},
     "output_type": "execute_result"
    }
   ],
   "source": [
    "sales_data.isna().sum()"
   ]
  },
  {
   "cell_type": "markdown",
   "metadata": {},
   "source": [
    "_Visualizing the missing value counts_\n",
    "- One way to apply bar charts is through the visualization of missing data\n",
    "- We could treat the variable name as levels of a category variable and create a resulting bar plot\n",
    "- Since the data is not in its tidy, unsummarized form, we need to make use of a different plotting function\n",
    "- Seaborn's `barplot` function is built to depict a summary of one quantitative variable against levels of a second qualitative variable but can be used here"
   ]
  },
  {
   "cell_type": "markdown",
   "metadata": {},
   "source": [
    "### NaN tabular data\n",
    "- Drop the columns that do not have anay `NaN` / `None` values"
   ]
  },
  {
   "cell_type": "code",
   "execution_count": 33,
   "metadata": {},
   "outputs": [],
   "source": [
    "na_counts = sales_data.drop(['Date', \"Temperature\", 'Fuel_Price'], axis=1).isnull().sum()"
   ]
  },
  {
   "cell_type": "code",
   "execution_count": 34,
   "metadata": {},
   "outputs": [
    {
     "data": {
      "text/plain": [
       "Store              0\n",
       "MarkDown1       4158\n",
       "MarkDown2       5269\n",
       "MarkDown3       4577\n",
       "MarkDown4       4726\n",
       "MarkDown5       4140\n",
       "CPI              585\n",
       "Unemployment     585\n",
       "IsHoliday          0\n",
       "dtype: int64"
      ]
     },
     "execution_count": 34,
     "metadata": {},
     "output_type": "execute_result"
    }
   ],
   "source": [
    "na_counts"
   ]
  },
  {
   "cell_type": "code",
   "execution_count": 35,
   "metadata": {},
   "outputs": [
    {
     "data": {
      "text/plain": [
       "Index(['Store', 'MarkDown1', 'MarkDown2', 'MarkDown3', 'MarkDown4',\n",
       "       'MarkDown5', 'CPI', 'Unemployment', 'IsHoliday'],\n",
       "      dtype='object')"
      ]
     },
     "execution_count": 35,
     "metadata": {},
     "output_type": "execute_result"
    }
   ],
   "source": [
    "na_counts.index"
   ]
  },
  {
   "cell_type": "markdown",
   "metadata": {},
   "source": [
    "#### Plot the bar chart from the NaN tabular data and also print values on each bar\n",
    "- First argument contains x-values(column names) and the second argument contains y-values (counts)\n",
    "- [Read](https://seaborn.pydata.org/generated/seaborn.barplot.html)"
   ]
  },
  {
   "cell_type": "code",
   "execution_count": 36,
   "metadata": {},
   "outputs": [
    {
     "data": {
      "image/png": "[encoded data removed]",
      "text/plain": [
       "<Figure size 864x288 with 1 Axes>"
      ]
     },
     "metadata": {
      "needs_background": "light"
     },
     "output_type": "display_data"
    }
   ],
   "source": [
    "sb.barplot(x=na_counts.index.values, y=na_counts);\n",
    "# getting the current tick locations and labels\n",
    "plt.xticks(rotation=90)\n",
    "# printing value on each bar\n",
    "for i in range(na_counts.shape[0]):\n",
    "    count = na_counts[i]\n",
    "\n",
    "    plt.text(i, count + 300, count, ha='center', va='top')"
   ]
  },
  {
   "cell_type": "markdown",
   "metadata": {},
   "source": [
    "### NOTE\n",
    "- `seaborn.barplot` is a useful function to keep in mind if your data **is summarized** and you still want to build a bar chart\n",
    "- If your data **is not summarized**, use the `countplot` function so that you dont need to do extra summarization work"
   ]
  },
  {
   "cell_type": "markdown",
   "metadata": {},
   "source": [
    "## Pie Charts\n",
    "- A **pie chart** is a common univariate plot type that is used to depict relative frequencies for levels of a categorical variable\n",
    "- Frequencies in a pie chart are depicted as wages drawn on a circle; the larger the angle or area, the more common the categorical value taken\n",
    "- Only use it when the number of categories is less\n",
    "\n",
    "#### Guidlines to use a pie chart\n",
    "1. Make sure that your interest is in relative frequencies. Areas should represent parts of a whole, rather than measurements on a second variable (unless that second variable can logically be summed up into some whole).\n",
    "2. Limit the number of slices plotted. A pie chart works best with two or three slices, though it's also possible to plot with four or five slices as long as the wedge sizes can be distinguished.\n",
    "3. Plot the data systematically. One typical method of plotting a pie chart is to start form the top of a circle, then plot each categorical level clockwise from the most frequent to the least frequent.\n",
    "\n",
    "- If these guidelines cannot be met then you should probably make use of the bar chart instead. A bar chart is a safer choice in general\n",
    "- Bar heights are more precisely interpreted than areas or angles and a bar chart can be displayed more compactly than a pie chart\n",
    "\n",
    "#### Plot a pie chart\n",
    "1. __`matplotlib.pyplot.pie()`__\n",
    "- [Basic syntax](https://matplotlib.org/stable/api/_as_gen/matplotlib.pyplot.pie.html) &nbsp; : &nbsp; `matplotlib.pyplot.pie(x_data, labels, colors, startangle, counterclock, wedgeprops)`\n",
    "- The function requires that the data be in a summarized form.\n",
    "\n",
    "2. __`matplotlib.pyplot.axis()`__\n",
    "- Used to set some axis properties. It optonally accepts the axis limits in the form of `xmin`, `xmax`, `ymin`, `ymax` floats and returns the updated values.\n",
    "- [Syntax](https://matplotlib.org/stable/api/_as_gen/matplotlib.pyplot.axis.html) &nbsp; : &nbsp; `matplotlib.pyplot.axis(*args, emit=True, **kwargs)`\n"
   ]
  },
  {
   "cell_type": "markdown",
   "metadata": {},
   "source": [
    "#### Plot a simple pie chart\n",
    "- Use the pokemon data set\n",
    "- square has been used though there are other options\n",
    "- The `axis` function call the `square` argument makes it so that the scaling of the plot is equal on both the x and y axes. Without this call the pie chart would end up looking oval shaped rather than a circle.\n",
    "- `labels=sorted_counts.index` represents a list of strings serving as labels for each wedge."
   ]
  },
  {
   "cell_type": "code",
   "execution_count": 37,
   "metadata": {},
   "outputs": [
    {
     "data": {
      "image/png": "[encoded data removed]",
      "text/plain": [
       "<Figure size 864x288 with 1 Axes>"
      ]
     },
     "metadata": {},
     "output_type": "display_data"
    }
   ],
   "source": [
    "sorted_counts = pokemon['generation_id'].value_counts()\n",
    "plt.pie(sorted_counts, labels=sorted_counts.index, startangle=90, counterclock=False);\n",
    "plt.axis('Square');"
   ]
  },
  {
   "cell_type": "code",
   "execution_count": 38,
   "metadata": {},
   "outputs": [
    {
     "data": {
      "text/plain": [
       "Int64Index([5, 1, 3, 4, 2, 7, 6], dtype='int64')"
      ]
     },
     "execution_count": 38,
     "metadata": {},
     "output_type": "execute_result"
    }
   ],
   "source": [
    "sorted_counts.index"
   ]
  },
  {
   "cell_type": "code",
   "execution_count": 39,
   "metadata": {},
   "outputs": [
    {
     "data": {
      "image/png": "[encoded data removed]",
      "text/plain": [
       "<Figure size 864x288 with 1 Axes>"
      ]
     },
     "metadata": {},
     "output_type": "display_data"
    }
   ],
   "source": [
    "labels = ['gen5', 'gen1', 'gen3', 'gen4', 'gen2', 'gen7', 'gen6']\n",
    "sorted_counts = pokemon['generation_id'].value_counts()\n",
    "plt.pie(sorted_counts, labels=labels, startangle=90, counterclock=False);\n",
    "plt.axis('Square');"
   ]
  },
  {
   "cell_type": "markdown",
   "metadata": {},
   "source": [
    "### Donut Plot\n",
    "- A sister plo to the pie chart is donut plot. It's just like a pie chart except that there is a hole in the center of the plot\n",
    "- There isn't much difference (the guidelines used should be the same), aesthetics might be the reason why you would choose one over the other. For instance you might see statistics reported in the hole of a donut plot to better make use of available space.\n",
    "- To create a donut plot you can add a `wedgeprops` argument to the `pie` function call. By default the radius of the circle is `1`, setting the wedges width property to less than one removes colouring from the center of the circle."
   ]
  },
  {
   "cell_type": "code",
   "execution_count": 40,
   "metadata": {},
   "outputs": [
    {
     "data": {
      "image/png": "[encoded data removed]",
      "text/plain": [
       "<Figure size 864x288 with 1 Axes>"
      ]
     },
     "metadata": {},
     "output_type": "display_data"
    }
   ],
   "source": [
    "sorted_counts = pokemon['generation_id'].value_counts()\n",
    "plt.pie(sorted_counts, labels=sorted_counts.index, startangle=90, counterclock=False, wedgeprops={'width':0.4});\n",
    "plt.axis('square');"
   ]
  },
  {
   "cell_type": "markdown",
   "metadata": {},
   "source": [
    "### Further Reading\n",
    "1. Eager Eyes: [Understanding Pie Charts](https://eagereyes.org/pie-charts)\n",
    "2. Eager Eyes: [An Illustrated Tour of the Pie Chart Study Results](https://eagereyes.org/blog/2016/an-illustrated-tour-of-the-pie-chart-study-results) - how accurately do people perceive different formulations of the pie chart?\n",
    "3. Datawrapper: [What to Consider when Creating a Pie Chart](https://academy.datawrapper.de/article/127-what-to-consider-when-creating-a-pie-chart)"
   ]
  },
  {
   "cell_type": "markdown",
   "metadata": {},
   "source": [
    "## Histograms\n",
    "- **Histograms** are used to plot the distribution of a numeric variable. It's the quantitative version of the bar plot\n",
    "- However rather than plot one bar for each unique numeric value, values are grouped into continuos bins and one bar for each bin is plotted to depict the number\n",
    "- Either `matplotlib` or `seaborn` can be used to plot histograms.\n",
    "- There is a mild variation in the specifics, such as plotting gaussian-estimation line along with bars in Seabron's distplot(), and the arguments that you can use in either case."
   ]
  },
  {
   "cell_type": "markdown",
   "metadata": {},
   "source": [
    "- If you have a quantitative variable then your univariate plot of choice will probably be the histogram\n",
    "- Similar to a bar chart you have feature values on the x-axis and counts on the y-axis\n",
    "- However due to the numeric nature of the data, bars on a histogram do not indicate counts on single values but instead counts on value ranges\n",
    "- Histograms use bins which include values on their left end and exclude values on their right end\n",
    "- The size of the bins can have a major effect on how you intepret the data, if your bin size is too large then you may end up losing a lot of information about the overall distribution of data\n",
    "- On the contrary a too small bin size introduce noise that can distract from the main trends in your data\n",
    "- When creating a histogram its a good idea to play around with different settings for the bin sizes and boundary points to achieve a good understanding of the plotted variable"
   ]
  },
  {
   "cell_type": "code",
   "execution_count": 41,
   "metadata": {},
   "outputs": [
    {
     "data": {
      "text/html": [
       "<div>\n",
       "<style scoped>\n",
       "    .dataframe tbody tr th:only-of-type {\n",
       "        vertical-align: middle;\n",
       "    }\n",
       "\n",
       "    .dataframe tbody tr th {\n",
       "        vertical-align: top;\n",
       "    }\n",
       "\n",
       "    .dataframe thead th {\n",
       "        text-align: right;\n",
       "    }\n",
       "</style>\n",
       "<table border=\"1\" class=\"dataframe\">\n",
       "  <thead>\n",
       "    <tr style=\"text-align: right;\">\n",
       "      <th></th>\n",
       "      <th>id</th>\n",
       "      <th>species</th>\n",
       "      <th>generation_id</th>\n",
       "      <th>height</th>\n",
       "      <th>weight</th>\n",
       "      <th>base_experience</th>\n",
       "      <th>type_1</th>\n",
       "      <th>type_2</th>\n",
       "      <th>hp</th>\n",
       "      <th>attack</th>\n",
       "      <th>defense</th>\n",
       "      <th>speed</th>\n",
       "      <th>special-attack</th>\n",
       "      <th>special-defense</th>\n",
       "    </tr>\n",
       "  </thead>\n",
       "  <tbody>\n",
       "    <tr>\n",
       "      <th>0</th>\n",
       "      <td>1</td>\n",
       "      <td>bulbasaur</td>\n",
       "      <td>1</td>\n",
       "      <td>0.7</td>\n",
       "      <td>6.9</td>\n",
       "      <td>64</td>\n",
       "      <td>grass</td>\n",
       "      <td>poison</td>\n",
       "      <td>45</td>\n",
       "      <td>49</td>\n",
       "      <td>49</td>\n",
       "      <td>45</td>\n",
       "      <td>65</td>\n",
       "      <td>65</td>\n",
       "    </tr>\n",
       "    <tr>\n",
       "      <th>1</th>\n",
       "      <td>2</td>\n",
       "      <td>ivysaur</td>\n",
       "      <td>1</td>\n",
       "      <td>1.0</td>\n",
       "      <td>13.0</td>\n",
       "      <td>142</td>\n",
       "      <td>grass</td>\n",
       "      <td>poison</td>\n",
       "      <td>60</td>\n",
       "      <td>62</td>\n",
       "      <td>63</td>\n",
       "      <td>60</td>\n",
       "      <td>80</td>\n",
       "      <td>80</td>\n",
       "    </tr>\n",
       "    <tr>\n",
       "      <th>2</th>\n",
       "      <td>3</td>\n",
       "      <td>venusaur</td>\n",
       "      <td>1</td>\n",
       "      <td>2.0</td>\n",
       "      <td>100.0</td>\n",
       "      <td>236</td>\n",
       "      <td>grass</td>\n",
       "      <td>poison</td>\n",
       "      <td>80</td>\n",
       "      <td>82</td>\n",
       "      <td>83</td>\n",
       "      <td>80</td>\n",
       "      <td>100</td>\n",
       "      <td>100</td>\n",
       "    </tr>\n",
       "    <tr>\n",
       "      <th>3</th>\n",
       "      <td>4</td>\n",
       "      <td>charmander</td>\n",
       "      <td>1</td>\n",
       "      <td>0.6</td>\n",
       "      <td>8.5</td>\n",
       "      <td>62</td>\n",
       "      <td>fire</td>\n",
       "      <td>NaN</td>\n",
       "      <td>39</td>\n",
       "      <td>52</td>\n",
       "      <td>43</td>\n",
       "      <td>65</td>\n",
       "      <td>60</td>\n",
       "      <td>50</td>\n",
       "    </tr>\n",
       "    <tr>\n",
       "      <th>4</th>\n",
       "      <td>5</td>\n",
       "      <td>charmeleon</td>\n",
       "      <td>1</td>\n",
       "      <td>1.1</td>\n",
       "      <td>19.0</td>\n",
       "      <td>142</td>\n",
       "      <td>fire</td>\n",
       "      <td>NaN</td>\n",
       "      <td>58</td>\n",
       "      <td>64</td>\n",
       "      <td>58</td>\n",
       "      <td>80</td>\n",
       "      <td>80</td>\n",
       "      <td>65</td>\n",
       "    </tr>\n",
       "  </tbody>\n",
       "</table>\n",
       "</div>"
      ],
      "text/plain": [
       "   id     species  generation_id  height  weight  base_experience type_1  \\\n",
       "0   1   bulbasaur              1     0.7     6.9               64  grass   \n",
       "1   2     ivysaur              1     1.0    13.0              142  grass   \n",
       "2   3    venusaur              1     2.0   100.0              236  grass   \n",
       "3   4  charmander              1     0.6     8.5               62   fire   \n",
       "4   5  charmeleon              1     1.1    19.0              142   fire   \n",
       "\n",
       "   type_2  hp  attack  defense  speed  special-attack  special-defense  \n",
       "0  poison  45      49       49     45              65               65  \n",
       "1  poison  60      62       63     60              80               80  \n",
       "2  poison  80      82       83     80             100              100  \n",
       "3     NaN  39      52       43     65              60               50  \n",
       "4     NaN  58      64       58     80              80               65  "
      ]
     },
     "execution_count": 41,
     "metadata": {},
     "output_type": "execute_result"
    }
   ],
   "source": [
    "pokemon.head(5)"
   ]
  },
  {
   "cell_type": "code",
   "execution_count": 42,
   "metadata": {},
   "outputs": [
    {
     "data": {
      "text/plain": [
       "(array([ 31.,  93., 163., 159., 128., 115.,  81.,  26.,   6.,   5.]),\n",
       " array([  5. ,  20.5,  36. ,  51.5,  67. ,  82.5,  98. , 113.5, 129. ,\n",
       "        144.5, 160. ]),\n",
       " <BarContainer object of 10 artists>)"
      ]
     },
     "execution_count": 42,
     "metadata": {},
     "output_type": "execute_result"
    },
    {
     "data": {
      "image/png": "[encoded data removed]",
      "text/plain": [
       "<Figure size 864x288 with 1 Axes>"
      ]
     },
     "metadata": {
      "needs_background": "light"
     },
     "output_type": "display_data"
    }
   ],
   "source": [
    "# plotting the speed column (the higher the value the sooner they will act in battle)\n",
    "plt.hist(data=pokemon, x='speed')"
   ]
  },
  {
   "cell_type": "markdown",
   "metadata": {},
   "source": [
    "- The distribution of speed values appears uni-modal and slightly skewed to the right but there isn't alot of detail\n",
    "- _The non uniform distribution of data points in different bins canbe seen_\n",
    "- _Overall a generally bimodal distribution is observed (one with two peaks or bumps)_\n",
    "- The direct adjacency of the bars in the histogram, in contrast to the separated bars in a pie chart, emphasizes the fact that the data takes on a continuous range of values\n",
    "- By default matplotlib will split the data into 10 bins which is usually too few, in addition the bin boundaries are not particularly aligned with the tick marks making interpretation trickier\n",
    "- To solve this we use the `bins` parameter of the `hist` function"
   ]
  },
  {
   "cell_type": "code",
   "execution_count": 43,
   "metadata": {},
   "outputs": [
    {
     "data": {
      "text/plain": [
       "(array([  6.,  25.,  21.,  72.,  66.,  97.,  53., 106.,  64.,  64.,  69.,\n",
       "         46.,  52.,  29.,  18.,   8.,   5.,   1.,   4.,   1.]),\n",
       " array([  5.  ,  12.75,  20.5 ,  28.25,  36.  ,  43.75,  51.5 ,  59.25,\n",
       "         67.  ,  74.75,  82.5 ,  90.25,  98.  , 105.75, 113.5 , 121.25,\n",
       "        129.  , 136.75, 144.5 , 152.25, 160.  ]),\n",
       " <BarContainer object of 20 artists>)"
      ]
     },
     "execution_count": 43,
     "metadata": {},
     "output_type": "execute_result"
    },
    {
     "data": {
      "image/png": "[encoded data removed]",
      "text/plain": [
       "<Figure size 864x288 with 1 Axes>"
      ]
     },
     "metadata": {
      "needs_background": "light"
     },
     "output_type": "display_data"
    }
   ],
   "source": [
    "plt.hist(data=pokemon, x='speed', bins=20)"
   ]
  },
  {
   "cell_type": "markdown",
   "metadata": {},
   "source": [
    "- We now have a more detailed look at the data but there's still the problem of awkward bin boundaries\n",
    "- The fact that bin edges are non integer and the data values are integer will meansome beans cover more integer values than others\n",
    "- A better way of making use of `bins` parameter is to specify the bin boundaries explicitly\n",
    "- Make use of numpy's `arange` function to create bins of size `5`, the first arg is the minimum value while the second is the max, the last is the range\n",
    "- Add `+5` to the second arg because the values geneareated by `arange` will not include the maximum value (only things strictly lower than the max)"
   ]
  },
  {
   "cell_type": "code",
   "execution_count": 44,
   "metadata": {},
   "outputs": [
    {
     "data": {
      "text/plain": [
       "(array([ 0.,  3.,  4., 11., 19., 18., 43., 38., 57., 46., 53., 48., 62.,\n",
       "        55., 53., 27., 45., 32., 39., 42., 36., 22., 18., 12.,  8.,  5.,\n",
       "         5.,  0.,  1.,  1.,  3.,  1.]),\n",
       " array([  0,   5,  10,  15,  20,  25,  30,  35,  40,  45,  50,  55,  60,\n",
       "         65,  70,  75,  80,  85,  90,  95, 100, 105, 110, 115, 120, 125,\n",
       "        130, 135, 140, 145, 150, 155, 160]),\n",
       " <BarContainer object of 32 artists>)"
      ]
     },
     "execution_count": 44,
     "metadata": {},
     "output_type": "execute_result"
    },
    {
     "data": {
      "image/png": "[encoded data removed]",
      "text/plain": [
       "<Figure size 864x288 with 1 Axes>"
      ]
     },
     "metadata": {
      "needs_background": "light"
     },
     "output_type": "display_data"
    }
   ],
   "source": [
    "bins = np.arange(0, pokemon['speed'].max() + 5, 5)\n",
    "plt.hist(data=pokemon, x='speed', bins=bins)"
   ]
  },
  {
   "cell_type": "markdown",
   "metadata": {},
   "source": [
    "- This creates a view of the data that applies the data in an approximately uni-modal approach, save for a bit of dip in the 75-85 range\n",
    "- If we tried an extremely small bin size like `1`? &nbsp; on one hand it will be abit too small introducing alot of noise in the plot, on the other hand it does a good job of showing that pokemon's speed statistics are usually divisible by 5\n",
    "- Seaborn also has a function for creating histograms [distplot](https://seaborn.pydata.org/generated/seaborn.distplot.html).\n",
    "- The main arg is the pandas series containing all the data"
   ]
  },
  {
   "cell_type": "code",
   "execution_count": 45,
   "metadata": {},
   "outputs": [
    {
     "name": "stderr",
     "output_type": "stream",
     "text": [
      "/home/mark/anaconda3/envs/data_analysis/lib/python3.9/site-packages/seaborn/distributions.py:2619: FutureWarning: `distplot` is a deprecated function and will be removed in a future version. Please adapt your code to use either `displot` (a figure-level function with similar flexibility) or `histplot` (an axes-level function for histograms).\n",
      "  warnings.warn(msg, FutureWarning)\n"
     ]
    },
    {
     "data": {
      "text/plain": [
       "<AxesSubplot:xlabel='speed', ylabel='Density'>"
      ]
     },
     "execution_count": 45,
     "metadata": {},
     "output_type": "execute_result"
    },
    {
     "data": {
      "image/png": "[encoded data removed]",
      "text/plain": [
       "<Figure size 864x288 with 1 Axes>"
      ]
     },
     "metadata": {
      "needs_background": "light"
     },
     "output_type": "display_data"
    }
   ],
   "source": [
    "sb.distplot(pokemon['speed'])"
   ]
  },
  {
   "cell_type": "markdown",
   "metadata": {},
   "source": [
    "- The default bin plot is larger than in `matplotlib`\n",
    "- A line has been plotted over the bars and the Y axis values are very small. This is because the line is a density curve estimate of the data distribution and the total area underneath the curve is set to be `=1`\n",
    "- You can turn off the density curve by setting the parameter `kde=False` (histogram will be plotted alone with counts on the Y axis)"
   ]
  },
  {
   "cell_type": "code",
   "execution_count": 46,
   "metadata": {},
   "outputs": [
    {
     "name": "stderr",
     "output_type": "stream",
     "text": [
      "/home/mark/anaconda3/envs/data_analysis/lib/python3.9/site-packages/seaborn/distributions.py:2619: FutureWarning: `distplot` is a deprecated function and will be removed in a future version. Please adapt your code to use either `displot` (a figure-level function with similar flexibility) or `histplot` (an axes-level function for histograms).\n",
      "  warnings.warn(msg, FutureWarning)\n"
     ]
    },
    {
     "data": {
      "text/plain": [
       "<AxesSubplot:xlabel='speed'>"
      ]
     },
     "execution_count": 46,
     "metadata": {},
     "output_type": "execute_result"
    },
    {
     "data": {
      "image/png": "[encoded data removed]",
      "text/plain": [
       "<Figure size 864x288 with 1 Axes>"
      ]
     },
     "metadata": {
      "needs_background": "light"
     },
     "output_type": "display_data"
    }
   ],
   "source": [
    "bin_edges = np.arange(0, pokemon['speed'].max()+1, 1)\n",
    "sb.distplot(pokemon['speed'], bins=bin_edges, kde=False,hist_kws={'alpha': 1})"
   ]
  },
  {
   "cell_type": "markdown",
   "metadata": {},
   "source": [
    "- The alpha (transparency) setting must be associated as a dictionary to \"hist_kws\" since there are other underlying plotting functions, like the KDE, that have their own optional keyword parameters."
   ]
  },
  {
   "cell_type": "markdown",
   "metadata": {},
   "source": [
    "### Plot two histograms side by side\n",
    "- Putting two plots side by side through the use of the `subplot` function,  whose arguments specify the number of rows, columns, and index of the active subplot (in that order)."
   ]
  },
  {
   "cell_type": "code",
   "execution_count": 47,
   "metadata": {},
   "outputs": [
    {
     "data": {
      "image/png": "[encoded data removed]",
      "text/plain": [
       "<Figure size 1440x360 with 2 Axes>"
      ]
     },
     "metadata": {
      "needs_background": "light"
     },
     "output_type": "display_data"
    }
   ],
   "source": [
    "# Resize the chart, and have two plots side-by-side\n",
    "# Set a larger figure size for subplots\n",
    "plt.figure(figsize=[20, 5])\n",
    "\n",
    "# histogram on left, example of too-large bin size\n",
    "# 1 row, 2 cols, subplot 1\n",
    "plt.subplot(1, 2, 1)\n",
    "bins = np.arange(0, pokemon['speed'].max()+4, 4)\n",
    "plt.hist(data=pokemon, x='speed', bins=bins);\n",
    "\n",
    "# histogram on right, example of too-small bin size\n",
    "plt.subplot(1, 2, 2)  # 1 row, 2 cols, subplot 2\n",
    "bins = np.arange(0, pokemon['speed'].max()+1/4, 1/4)\n",
    "plt.hist(data=pokemon, x='speed', bins=bins);"
   ]
  },
  {
   "cell_type": "markdown",
   "metadata": {},
   "source": [
    "### Summary of Histograms\n",
    "- If your exploration is only interested in the histogram-depiction of the data, and not the additional functionality offered by distplot, then you might be better off with just using Matplotlib's hist function for simplicity.\n",
    "- On the other hand, if you want a quick start on choosing a representative bin size for histogram plotting, you might take a quick look at the basic distplot first before getting into the customization."
   ]
  },
  {
   "cell_type": "markdown",
   "metadata": {},
   "source": [
    "## Figures, Axes and Subplots\n",
    "- Basic structure of visualizations using `matplotlib` and how subplots work\n",
    "- The base of visualizations in matplotlib is the [Figure](https://matplotlib.org/3.3.4/api/_as_gen/matplotlib.figure.Figure.html) object\n",
    "- Contained in each figure will be one or more [Axes](https://matplotlib.org/stable/api/axes_api.html) objects\n",
    "- In the earliest examples these objects have been created implicitly\n",
    "*\n",
    "    ![Figures & Axes](data/l3-c09b-subplotsa.png)\n",
    "*\n",
    "- One alternative way is to explicitly set up the Figure and Axes"
   ]
  },
  {
   "cell_type": "markdown",
   "metadata": {},
   "source": [
    "### `figure.add(axes)` and `axes.hist()`\n",
    "- `figure()` creates a new figure object. One of the Figure methods is `.add_axes()` which creates a new Axes object in the Figure\n",
    "- The method requires one list as argument specifying the dimensions of the Axes; the first two elements of the list indicate the position of the lower-left hand corner of the axis (in this case one quarter of the way from the lower left corner of the Figure) and the last two elements specifying the Axes width and height respectively"
   ]
  },
  {
   "cell_type": "code",
   "execution_count": 48,
   "metadata": {},
   "outputs": [
    {
     "data": {
      "text/plain": [
       "(array([ 31.,  93., 163., 159., 128., 115.,  81.,  26.,   6.,   5.]),\n",
       " array([  5. ,  20.5,  36. ,  51.5,  67. ,  82.5,  98. , 113.5, 129. ,\n",
       "        144.5, 160. ]),\n",
       " <BarContainer object of 10 artists>)"
      ]
     },
     "execution_count": 48,
     "metadata": {},
     "output_type": "execute_result"
    },
    {
     "data": {
      "image/png": "[encoded data removed]",
      "text/plain": [
       "<Figure size 864x288 with 1 Axes>"
      ]
     },
     "metadata": {
      "needs_background": "light"
     },
     "output_type": "display_data"
    }
   ],
   "source": [
    "# Create a new figure\n",
    "fig = plt.figure()\n",
    "\n",
    "# The argument of add_axes represents the dimensions [left, bottom, width, height] of the new axes.\n",
    "# All quantities are in fractions of figure width and height.\n",
    "ax = fig.add_axes([.125, .125, .775, .755])\n",
    "ax.hist(data=pokemon, x='speed')"
   ]
  },
  {
   "cell_type": "markdown",
   "metadata": {},
   "source": [
    "### Using Axes with seaborn's `countplot`\n",
    "- seaborn functions usually have an `ax` parameter to specify upon which axes a plot will be drawn"
   ]
  },
  {
   "cell_type": "code",
   "execution_count": 49,
   "metadata": {},
   "outputs": [
    {
     "data": {
      "text/plain": [
       "<Axes:xlabel='generation_id', ylabel='count'>"
      ]
     },
     "execution_count": 49,
     "metadata": {},
     "output_type": "execute_result"
    },
    {
     "data": {
      "image/png": "[encoded data removed]",
      "text/plain": [
       "<Figure size 864x288 with 1 Axes>"
      ]
     },
     "metadata": {
      "needs_background": "light"
     },
     "output_type": "display_data"
    }
   ],
   "source": [
    "fig = plt.figure()\n",
    "ax = fig.add_axes([.125, .125, .775, .755])\n",
    "base_color = sb.color_palette()[0]\n",
    "sb.countplot(data=pokemon, x='generation_id', color=base_color, ax=ax)"
   ]
  },
  {
   "cell_type": "markdown",
   "metadata": {},
   "source": [
    "- There was no need to explicitly go through the Figure and Axes creation steps.  In most cases you can just use the matplotlib and seaborn functions as is\n",
    "- Each function targets a figure or axes and they'll automatically target the most recent Figure or Axes worked with"
   ]
  },
  {
   "cell_type": "markdown",
   "metadata": {},
   "source": [
    "### Subplots (Review)\n",
    "- `plt.figure()` creates a new figure with the figsize argument setting the width and height of the overall figure (20 inches by 5inches)\n",
    "- `plt.subplot(1, 2, 1)` creates a new axes in our Figure, its size determined by the `subplot()` function arguments\n",
    "- The first two arguments says to divide the figure into one row and two columns and the third argument says to create a new axes in the first slot\n",
    "-  Slots are numbered from left to right in rows from top to bottom\n",
    "- Note that the indexing starts at `1` (rather than the usual python indexing starting from `0`)\n",
    "- `plt.subplot(1, 2, 2)` creates a new Axes in the second subplot slot, and sets that one as the current Axes. Thus, when the next `plt.hist()` call comes, the histogram gets drawn in the right-side subplot."
   ]
  },
  {
   "cell_type": "code",
   "execution_count": 50,
   "metadata": {},
   "outputs": [
    {
     "data": {
      "image/png": "[encoded data removed]",
      "text/plain": [
       "<Figure size 1440x360 with 2 Axes>"
      ]
     },
     "metadata": {
      "needs_background": "light"
     },
     "output_type": "display_data"
    }
   ],
   "source": [
    "plt.figure(figsize=[20, 5]);\n",
    "\n",
    "plt.subplot(1, 2, 1)\n",
    "bins = np.arange(0, pokemon['speed'].max()+4, 4)\n",
    "plt.hist(data=pokemon, x='speed', bins=bins);\n",
    "\n",
    "plt.subplot(1, 2, 2)\n",
    "bins = np.arange(0, pokemon['speed'].max()+1/4, 1/4)\n",
    "plt.hist(data=pokemon, x='speed', bins=bins);"
   ]
  },
  {
   "cell_type": "markdown",
   "metadata": {},
   "source": [
    "- If you don't assign axes objects as they are created, you can retrieve current Axes using `ax = plt.gca()` or you can get a list of all the axes in a Figure `fig` by using `axes = fig.get_axes()`.\n",
    "- As for creating subplots, you can use `fig.add_subplot()` in the same way as `plt.subplot()`. If you already know you are going to create a bunch of subplots you can use the `plt.subplots()` function."
   ]
  },
  {
   "cell_type": "markdown",
   "metadata": {},
   "source": [
    "### Demonstrate pyplot.sca() and pyplot.text() to generate a grid of subplots"
   ]
  },
  {
   "cell_type": "code",
   "execution_count": 51,
   "metadata": {},
   "outputs": [
    {
     "data": {
      "image/png": "[encoded data removed]",
      "text/plain": [
       "<Figure size 864x288 with 12 Axes>"
      ]
     },
     "metadata": {
      "needs_background": "light"
     },
     "output_type": "display_data"
    }
   ],
   "source": [
    "fig, axes = plt.subplots(3, 4) # grid of 3x4 subplots\n",
    "axes = axes.flatten() # reshape from 3X4 array into 12-element vector\n",
    "for i in range(12):\n",
    "    plt.sca(axes[i]) # set the current axes\n",
    "    plt.text(0.5, 0.5, i + 1) # print conventional subplot index number to middle of axes"
   ]
  },
  {
   "cell_type": "markdown",
   "metadata": {},
   "source": [
    "- The Axes limits are [0, 1] on each axes by default and we increament the iterator count `i` by `1` to get the subplot index, if we were creating the subplots through `subplot()`\n",
    "* [Figure](https://matplotlib.org/3.3.4/api/_as_gen/matplotlib.figure.Figure.html)\n",
    "* [Axes](https://matplotlib.org/stable/api/axes_api.html)"
   ]
  },
  {
   "cell_type": "markdown",
   "metadata": {},
   "source": [
    "## Choosing a Plot for discreet data\n",
    "- If you want to plot a **discreete quantitative variable**, it is possible to select either a histogram or a bar chart to depict the data\n",
    "    * Here **discreete** means non-continuos values. In general a discreete variable can be assigned to any of the limited (countable) set of values from a given set/range i.e the number of football matches in a tournament, number of departments in a university, number of family members\n",
    "    - The **quantitative** term shows that it is the outcome of the measurement of a quantity\n",
    "- The histogram is the most immediate choice since the data is numeric, but there is one particular consideration to make regarding the bin edges\n",
    "- Since data points fall on set values(bar-width) it can help to reduce ambiguity by putting bin edges between the actual values taken by the data"
   ]
  },
  {
   "cell_type": "markdown",
   "metadata": {},
   "source": [
    "### An example describing ambiguity\n",
    "- Assume a bar falls in a range [10, 20] and there is an observation with value 20. This observation will lie on the next bar because the given range does not include the upper limit 20\n",
    "- This can bring potential confusion when readers interprete the plot because they may not know that values on bin edges end up in the bin to their right\n",
    "- Visualizations with bin edges falling on the observation values in the left subplot and bin edges in between the observation values in the right subplot;"
   ]
  },
  {
   "cell_type": "code",
   "execution_count": 52,
   "metadata": {},
   "outputs": [
    {
     "data": {
      "text/html": [
       "<div>\n",
       "<style scoped>\n",
       "    .dataframe tbody tr th:only-of-type {\n",
       "        vertical-align: middle;\n",
       "    }\n",
       "\n",
       "    .dataframe tbody tr th {\n",
       "        vertical-align: top;\n",
       "    }\n",
       "\n",
       "    .dataframe thead th {\n",
       "        text-align: right;\n",
       "    }\n",
       "</style>\n",
       "<table border=\"1\" class=\"dataframe\">\n",
       "  <thead>\n",
       "    <tr style=\"text-align: right;\">\n",
       "      <th></th>\n",
       "      <th>Dice</th>\n",
       "      <th>Trial 1</th>\n",
       "      <th>Trial 2</th>\n",
       "      <th>Sum</th>\n",
       "    </tr>\n",
       "  </thead>\n",
       "  <tbody>\n",
       "    <tr>\n",
       "      <th>0</th>\n",
       "      <td>1</td>\n",
       "      <td>4</td>\n",
       "      <td>1</td>\n",
       "      <td>5</td>\n",
       "    </tr>\n",
       "    <tr>\n",
       "      <th>1</th>\n",
       "      <td>2</td>\n",
       "      <td>4</td>\n",
       "      <td>5</td>\n",
       "      <td>9</td>\n",
       "    </tr>\n",
       "    <tr>\n",
       "      <th>2</th>\n",
       "      <td>3</td>\n",
       "      <td>2</td>\n",
       "      <td>6</td>\n",
       "      <td>8</td>\n",
       "    </tr>\n",
       "    <tr>\n",
       "      <th>3</th>\n",
       "      <td>4</td>\n",
       "      <td>6</td>\n",
       "      <td>3</td>\n",
       "      <td>9</td>\n",
       "    </tr>\n",
       "    <tr>\n",
       "      <th>4</th>\n",
       "      <td>5</td>\n",
       "      <td>3</td>\n",
       "      <td>6</td>\n",
       "      <td>9</td>\n",
       "    </tr>\n",
       "  </tbody>\n",
       "</table>\n",
       "</div>"
      ],
      "text/plain": [
       "   Dice  Trial 1  Trial 2  Sum\n",
       "0     1        4        1    5\n",
       "1     2        4        5    9\n",
       "2     3        2        6    8\n",
       "3     4        6        3    9\n",
       "4     5        3        6    9"
      ]
     },
     "execution_count": 52,
     "metadata": {},
     "output_type": "execute_result"
    }
   ],
   "source": [
    "die_rolls = pd.read_csv('data/die-rolls.csv')\n",
    "\n",
    "# A fair dice has six-faces having numbers [1-6]\n",
    "# There are 100 dices and two trials were conducted\n",
    "# In each trial , all 100 dices were rolled down and the outcome [1-6] was recorded\n",
    "# The `Sum`` column represents the sum of the outcomes in the two trials, for each given dice\n",
    "die_rolls.head(5)"
   ]
  },
  {
   "cell_type": "markdown",
   "metadata": {},
   "source": [
    "### Shifting the edges can remove ambiguity in the case of Discreete Data"
   ]
  },
  {
   "cell_type": "code",
   "execution_count": 53,
   "metadata": {},
   "outputs": [
    {
     "data": {
      "image/png": "[encoded data removed]",
      "text/plain": [
       "<Figure size 1440x360 with 2 Axes>"
      ]
     },
     "metadata": {
      "needs_background": "light"
     },
     "output_type": "display_data"
    }
   ],
   "source": [
    "plt.figure(figsize = [20, 5])\n",
    "\n",
    "# Histogram on the left, bin edges on integers\n",
    "plt.subplot(1, 2, 1);\n",
    "bin_edges = np.arange(2, 12 + 1.1, 1)\n",
    "plt.hist(data=die_rolls, x='Sum', bins=bin_edges);\n",
    "plt.xticks(np.arange(2, 12 + 1, 1));\n",
    "\n",
    "# Histogram on the right, bin edges between integers\n",
    "plt.subplot(1, 2, 2)\n",
    "bin_edges = np.arange(1.5, 12.5 + 1, 1)\n",
    "plt.hist(data=die_rolls, x=\"Sum\", bins=bin_edges);\n",
    "plt.xticks(np.arange(2, 12 + 1, 1));"
   ]
  },
  {
   "cell_type": "markdown",
   "metadata": {},
   "source": [
    "- Same data is plotted on both subplots but the alignment of the bin edges is different.\n",
    "- In a deviation from the examples that have come before, we've added `1.1` to the max value(12) for setting the bin edges rather than just the desired bin width of `1`\n",
    "- Recall that data that is equal to the rightmost bin edge gets lumped in to the last bin\n",
    "- This presents a potential problem in perception when a lot of data points take the maximum value and so is especially relevant when the data takes on discreete values.\n",
    "- The `1.1` adds an additional bin to the end to store the die rolls of value `12` alone, to avoid having the last bar catch both `11` and `12`"
   ]
  },
  {
   "cell_type": "markdown",
   "metadata": {},
   "source": [
    "### Making gaps between individual bars\n",
    "- consider if a bar chart with non-connected bins might serve your purposes better"
   ]
  },
  {
   "cell_type": "code",
   "execution_count": 54,
   "metadata": {},
   "outputs": [
    {
     "data": {
      "image/png": "[encoded data removed]",
      "text/plain": [
       "<Figure size 864x288 with 1 Axes>"
      ]
     },
     "metadata": {
      "needs_background": "light"
     },
     "output_type": "display_data"
    }
   ],
   "source": [
    "bin_edges = np.arange(1.5, 12.5+1, 1)\n",
    "plt.hist(data=die_rolls, x='Sum', bins=bin_edges, rwidth=0.7);\n",
    "plt.xticks(np.arange(2, 12+1, 1));"
   ]
  },
  {
   "cell_type": "markdown",
   "metadata": {},
   "source": [
    "- With `rwidth` set to 0.7 the bars will take up 0.7% of the space allocated by each bin with 30% of the space left empty\n",
    "- By adding gaps between bars you emphasize the fact that the data is discreete in value\n",
    "- On the other hand plotting your quantitative data in this manner might cause it to be interpreted as ordinal-type data which can have an effect on overall type perception\n",
    "- For continuos numeric data you should not make use of the `rwidth` parameter since the gaps simply imply discreetness of value\n",
    "- It might be tempting to use `countplot` to plot the distribution of a discreete numeric variable as bars, be careful about doing this since each unique value will get a bar regardless of the spacing in values between bars.\n",
    "- If you have a large number of unique values over a large enough range, it's better to stick with a standard histogram than risk interpretability issues\n",
    "- While you might justify plotting discrete numeric data using a bar chart, you’ll be less apt to justify the opposite: plotting ordinal data as a histogram. The space between bars in a bar chart helps to remind the reader that values are not contiguous in an ‘interval’-type fashion: only that there is an order in levels. With that space removed as in a histogram, it's harder to remember this important bit of interpretation."
   ]
  },
  {
   "cell_type": "markdown",
   "metadata": {},
   "source": [
    "## Descriptive Statistics, Outliers and axis limits\n",
    "- Visualizations will give you insights into the data that you can't get from descriptive statistics. A plot can show:\n",
    "    1. if the data is symmetric or skewed\n",
    "    2. interesting areas for further investigation or clarification\n",
    "    3. potential areas in the data\n",
    "- In a histogram you can observe whether or not there are outliers in your data\n",
    "- As you create your plots and perform your exploration, make sure you pay attention to what the plots tell you that go beyond just the basic descriptive statistics\n",
    "- Note any aspects of the data like the number of modes and skew and note the presence of outliers in the data for further investigation\n",
    "- You might need to change the limits or scale of what is plotted to take a closer look at the underlying patterns in the data"
   ]
  },
  {
   "cell_type": "markdown",
   "metadata": {},
   "source": [
    "### Plot a histogram from the data having a skewed distribution of values"
   ]
  },
  {
   "cell_type": "code",
   "execution_count": 57,
   "metadata": {},
   "outputs": [
    {
     "data": {
      "image/png": "[encoded data removed]",
      "text/plain": [
       "<Figure size 864x288 with 1 Axes>"
      ]
     },
     "metadata": {
      "needs_background": "light"
     },
     "output_type": "display_data"
    }
   ],
   "source": [
    "# Load the data, and see the height column\n",
    "pokemon = pd.read_csv('data/pokemon.csv')\n",
    "pokemon.head(5)\n",
    "\n",
    "# Get the ticks for bins between [0-15], at an interval of 0.5\n",
    "bins = np.arange(0, pokemon['height'].max()+0.5, 0.5)\n",
    "\n",
    "# Plot the histogram for the height column\n",
    "plt.hist(data=pokemon, x='height', bins=bins);"
   ]
  },
  {
   "cell_type": "markdown",
   "metadata": {},
   "source": [
    "- In order to change a histogram's axis limits, you can add a Matplotlin [xlim](https://matplotlib.org/stable/api/_as_gen/matplotlib.pyplot.xlim.html) call to your code\n",
    "- The function takes a tuple of two numbers specifying the upper and lower bounds of the x-axis range\n",
    "\n",
    "### Plot a histogram with changed axis limits"
   ]
  },
  {
   "cell_type": "code",
   "execution_count": 58,
   "metadata": {},
   "outputs": [
    {
     "data": {
      "text/plain": [
       "(0.0, 6.0)"
      ]
     },
     "execution_count": 58,
     "metadata": {},
     "output_type": "execute_result"
    },
    {
     "data": {
      "image/png": "[encoded data removed]",
      "text/plain": [
       "<Figure size 864x288 with 1 Axes>"
      ]
     },
     "metadata": {
      "needs_background": "light"
     },
     "output_type": "display_data"
    }
   ],
   "source": [
    "# Get the ticks for bins between [0-15], at an interval of 0.5\n",
    "bins = np.arange(0, pokemon['height'].max()+0.2, 0.2)\n",
    "plt.hist(data=pokemon, x='height', bins=bins)\n",
    "\n",
    "# Set the upper and lower bounds of the bins that are displayed in the plot\n",
    "# The argument represent a tuple of the new x-axis limits.\n",
    "plt.xlim((0, 6))"
   ]
  },
  {
   "cell_type": "markdown",
   "metadata": {},
   "source": [
    "- Alternatively, the xlim function can be called with two numeric arguments only, `plt.xlim(0,6)`, to get the same result.\n",
    "- In the generic example above, we might be interested in comparing patterns in other variables between data points that take values less than 6 to those that take values greater than 6\n",
    "- For anything that is concentrated on the bulk of the data in the former group (< 6), the use of axis limits can allow focusing on data points in that range without needing to go through the creation of new DataFrame filtering out the data points in the latter group (> 6)."
   ]
  },
  {
   "cell_type": "markdown",
   "metadata": {},
   "source": [
    "## Scales and Transformations\n",
    "- In certain cases you might want to change not just the axis limits of your plots, but its scaling\n",
    "- The standard assumption is that your data should be interpreted linearly with differences being the most salient points of attention\n",
    "- In other cases you might be interested in differences in terms of ratios or percentages\n",
    "- Certain data distributions will find themselves amenable to scale transformations.\n",
    "- The most common example of this is data that follows an approximately [log-normal](https://en.wikipedia.org/wiki/Log-normal_distribution) distribution.\n",
    "- This is data that, in their natural units, can look highly skewed: lots of points with low values, with a very long tail of data points with large values. However, after applying a logarithmic (the differences on the scaled axis represent multiplicative differences rather than arithmetic differences) transform to the data, the data will follow a normal distribution.\n",
    "- Axis transformations are useful because they allow you to interpret your data with their naturally recorded units"
   ]
  },
  {
   "cell_type": "markdown",
   "metadata": {},
   "source": [
    "### Scale the x-axis to log type"
   ]
  },
  {
   "cell_type": "code",
   "execution_count": 61,
   "metadata": {},
   "outputs": [
    {
     "data": {
      "image/png": "[encoded data removed]",
      "text/plain": [
       "<Figure size 1440x360 with 2 Axes>"
      ]
     },
     "metadata": {
      "needs_background": "light"
     },
     "output_type": "display_data"
    }
   ],
   "source": [
    "plt.figure(figsize=[20, 5])\n",
    "\n",
    "# HISTOGRAM ON LEFT: full data without scaling\n",
    "plt.subplot(1, 2, 1)\n",
    "plt.hist(data = pokemon, x='weight')\n",
    "plt.xlabel('Display a label on the x axis');\n",
    "\n",
    "# HISTOGRAM ON RIGHT\n",
    "plt.subplot(1, 2, 2)\n",
    "# get the ticks for bins between 0 and max weight\n",
    "bins = np.arange(0, pokemon['weight'].max()+40, 40)\n",
    "plt.hist(data=pokemon, x='weight', bins=bins)\n",
    "\n",
    "# The argument in the xscale() represents the axis scale type to apply.\n",
    "# The possible values are: {\"linear\", \"log\", \"symlog\", \"logit\", ...}\n",
    "# Refer - https://matplotlib.org/3.1.1/api/_as_gen/matplotlib.pyplot.xscale.html\n",
    "plt.xscale('log')\n",
    "plt.xlabel('The x-axis limits NOT are changed. They are only scaled to log-type');"
   ]
  },
  {
   "cell_type": "code",
   "execution_count": 62,
   "metadata": {},
   "outputs": [
    {
     "data": {
      "text/plain": [
       "count    807.000000\n",
       "mean      61.771128\n",
       "std      111.519355\n",
       "min        0.100000\n",
       "25%        9.000000\n",
       "50%       27.000000\n",
       "75%       63.000000\n",
       "max      999.900000\n",
       "Name: weight, dtype: float64"
      ]
     },
     "execution_count": 62,
     "metadata": {},
     "output_type": "execute_result"
    }
   ],
   "source": [
    "# Describe the data\n",
    "pokemon['weight'].describe()"
   ]
  },
  {
   "cell_type": "markdown",
   "metadata": {},
   "source": [
    "- Notice two things about the right histogram of example `1` above:\n",
    "    1. Even though the data is on a log scale, the bins are still linearly spaced. This means that they change size from wide on the left to thin on the right, as values increase multiplicative. Matplotlib's `xscale` function includes a few built in transformations (we've used log scale here)\n",
    "    2. The default label (x0axis ticks) are still somewhat tricky to interpret and are sparse as well\n",
    "\n",
    "- To address the bin size issue we just need to change them so that they are evenly spaced powers of 10. Depending on what you are plotting a different base power like `2` might be useful instead.\n",
    "- To address the issue of interpretation of x-axis ticks, the scale transformation is the solution\n",
    "- In a scale transformation the gaps between values are based on the transformed scale but you can interprete data in the variable's natural units"
   ]
  },
  {
   "cell_type": "markdown",
   "metadata": {},
   "source": [
    "### Scale the x-axis to lof type and change the axis limit"
   ]
  },
  {
   "cell_type": "code",
   "execution_count": 63,
   "metadata": {},
   "outputs": [
    {
     "data": {
      "text/plain": [
       "count    2.906874\n",
       "mean     1.790786\n",
       "std      2.047350\n",
       "min     -1.000000\n",
       "25%      0.954243\n",
       "50%      1.431364\n",
       "75%      1.799341\n",
       "max      2.999957\n",
       "Name: weight, dtype: float64"
      ]
     },
     "execution_count": 63,
     "metadata": {},
     "output_type": "execute_result"
    }
   ],
   "source": [
    "# Transform the describe() to a scale of log10\n",
    "# Documentation: [numpy `log10`](https://docs.scipy.org/doc/numpy/reference/generated/numpy.log10.html)\n",
    "np.log10(pokemon['weight'].describe())"
   ]
  },
  {
   "cell_type": "code",
   "execution_count": 64,
   "metadata": {},
   "outputs": [
    {
     "data": {
      "image/png": "[encoded data removed]",
      "text/plain": [
       "<Figure size 864x288 with 1 Axes>"
      ]
     },
     "metadata": {
      "needs_background": "light"
     },
     "output_type": "display_data"
    }
   ],
   "source": [
    "# Axis transformation\n",
    "# Bin size\n",
    "bins = 10 ** np.arange(-1, 3+0.1, 0.1)\n",
    "plt.hist(data=pokemon, x='weight', bins=bins)\n",
    "\n",
    "# The argument in the xscale() represents the axis scale type to apply.\n",
    "# The possible values are: {\"linear\", \"log\", \"symlog\", \"logit\", ...}\n",
    "plt.xscale('log')\n",
    "\n",
    "# Apply x-axis label\n",
    "# Documentatin: [matplotlib `xlabel`](https://matplotlib.org/api/_as_gen/matplotlib.pyplot.xlabel.html))\n",
    "plt.xlabel('x-axis limits are changed, and scaled to log-type');"
   ]
  },
  {
   "cell_type": "markdown",
   "metadata": {},
   "source": [
    "- We've ended up with the same plot but now with a much nicer set of tick marks and labels.\n",
    "- Fot ticks we have used [xticks](https://matplotlib.org/stable/api/_as_gen/matplotlib.pyplot.xticks.html) to specify locations and labels in their natural units.\n",
    "- It is important that the xticks are specified after xscale since that function has its own built-in tick settings."
   ]
  },
  {
   "cell_type": "markdown",
   "metadata": {},
   "source": [
    "### Alternative approach\n",
    "- **Logarithmic transformation** is not the only one possible. When we perform a logarithmic transformation our data values have to all be positive, its impossible to take a log of zero or a positive number.\n",
    "- In addition the transforamtion implies that additive steps on the log scale will result in multiplicative changes in the natural scale, an important implication when it comes to data modelling.\n",
    "- The type of transformation that you choose may be informed by the context of the data.\n",
    "- If you want to use transforamtions that are not available in the `xscale` then you'll have to perform some feature engineering.\n",
    "- Let's say that we want to try plotting the above data on a square-root transformation. (Perhaps the numbers represent areas, and we think it makes sense to model the data on a rough estimation of radius, length, or some other 1-d dimension."
   ]
  },
  {
   "cell_type": "markdown",
   "metadata": {},
   "source": [
    "###  Custom scaling the given data Series, instead of using the built-in log scale"
   ]
  },
  {
   "cell_type": "code",
   "execution_count": 67,
   "metadata": {},
   "outputs": [
    {
     "data": {
      "image/png": "[encoded data removed]",
      "text/plain": [
       "<Figure size 864x288 with 1 Axes>"
      ]
     },
     "metadata": {
      "needs_background": "light"
     },
     "output_type": "display_data"
    }
   ],
   "source": [
    "def sqrt_trans(x, inverse=False):\n",
    "    \"\"\"Transformation helper function\"\"\"\n",
    "    if not inverse:\n",
    "        return np.sqrt(x)\n",
    "    else:\n",
    "        return x**2\n",
    "\n",
    "\n",
    "# Bin resizing to transform the x axis\n",
    "bin_edges = np.arange(0, sqrt_trans(pokemon['weight'].max())+1, 1)\n",
    "\n",
    "# Plot the scaled data\n",
    "plt.hist(pokemon['weight'].apply(sqrt_trans), bins=bin_edges)\n",
    "\n",
    "# Identify the tick-locations\n",
    "tick_locs = np.arange(0, sqrt_trans(pokemon['weight'].max())+10, 10)\n",
    "\n",
    "# Apply x-ticks\n",
    "plt.xticks(tick_locs, sqrt_trans(tick_locs, inverse = True).astype(int));"
   ]
  },
  {
   "cell_type": "markdown",
   "metadata": {},
   "source": [
    "- The data is a pandas `series` so we can use the `apply` method for the function. If it were a Numpy array we would need to apply the function like in other cases\n",
    "- The tick locations could have also been specified with the natural values where we apply the standard transformation function on the first argument of xticks instead"
   ]
  },
  {
   "cell_type": "markdown",
   "metadata": {},
   "source": [
    "- plotting the distribution of Pokémon heights (given in meters).\n",
    "- Experimenting with different axis limits as well as bin widths to see what gives the clearest view of the data."
   ]
  },
  {
   "cell_type": "code",
   "execution_count": 68,
   "metadata": {},
   "outputs": [
    {
     "data": {
      "image/png": "[encoded data removed]",
      "text/plain": [
       "<Figure size 864x288 with 1 Axes>"
      ]
     },
     "metadata": {
      "needs_background": "light"
     },
     "output_type": "display_data"
    }
   ],
   "source": [
    "def scales_solution_1():\n",
    "    # data setup\n",
    "    pokemon = pd.read_csv('./data/pokemon.csv')\n",
    "    bins = np.arange(0, pokemon['height'].max()+0.2, 0.2)\n",
    "    plt.hist(data=pokemon, x='height', bins=bins)\n",
    "    plt.xlim((0, 6))\n",
    "\n",
    "\n",
    "scales_solution_1()"
   ]
  },
  {
   "cell_type": "markdown",
   "metadata": {},
   "source": [
    "__There's a very long tail of Pokemon heights. Here, I've focused on Pokemon of height 6 meters or less, so that I can use a smaller bin size to get a more detailed look at the main data distribution.__"
   ]
  },
  {
   "cell_type": "markdown",
   "metadata": {},
   "source": [
    "plot the distribution of Pokémon weights (given in kilograms). Due to the very large range of values taken, you will probably want to perform an axis transformation as part of your visualization workflow."
   ]
  },
  {
   "cell_type": "code",
   "execution_count": 69,
   "metadata": {},
   "outputs": [
    {
     "data": {
      "image/png": "[encoded data removed]",
      "text/plain": [
       "<Figure size 864x288 with 1 Axes>"
      ]
     },
     "metadata": {
      "needs_background": "light"
     },
     "output_type": "display_data"
    }
   ],
   "source": [
    "def scales_solution_2():\n",
    "    # data setup\n",
    "    pokemon = pd.read_csv('./data/pokemon.csv')\n",
    "    bins = 10 ** np.arange(-1, 3.0+0.1, 0.1)\n",
    "    ticks = [0.1, 0.3, 1, 3, 10, 30, 100, 300, 1000]\n",
    "    labels = ['{}'.format(val) for val in ticks]\n",
    "    plt.hist(data=pokemon, x='weight', bins=bins)\n",
    "    plt.xscale('log')\n",
    "    plt.xticks(ticks, labels)\n",
    "    plt.xlabel('Weight (kg)')\n",
    "\n",
    "\n",
    "scales_solution_2()"
   ]
  },
  {
   "cell_type": "markdown",
   "metadata": {},
   "source": [
    "**Since Pokemon weights are so skewed, I used a log transformation on the x-axis. Bin edges are in increments of 0.1 powers of ten, with custom tick marks to demonstrate the log scaling.**"
   ]
  },
  {
   "cell_type": "markdown",
   "metadata": {},
   "source": [
    "### Kernel Density Information\n",
    "- Earlier in the lesson we sawe the use of [kernel density information](https://en.wikipedia.org/wiki/Kernel_density_estimation) through the use of seaborn's `distplot` function which is deprecated and will be removed in future version. Alternatives;\n",
    "    1. [displot](https://seaborn.pydata.org/generated/seaborn.displot.html#seaborn.displot) - A figure level function with similar flexibility\n",
    "    2. [histplot](https://seaborn.pydata.org/generated/seaborn.histplot.html#seaborn.histplot) - An axes level function for histograms"
   ]
  },
  {
   "cell_type": "code",
   "execution_count": 71,
   "metadata": {},
   "outputs": [
    {
     "data": {
      "image/png": "[encoded data removed]",
      "text/plain": [
       "<Figure size 360x360 with 1 Axes>"
      ]
     },
     "metadata": {
      "needs_background": "light"
     },
     "output_type": "display_data"
    }
   ],
   "source": [
    "# Use this new function only with Seaborn 0.11.0 and above.\n",
    "# The kind argument can take any one value from {“hist”, “kde”, “ecdf”}.\n",
    "sb.displot(pokemon['speed'], kind='hist');\n",
    "# Use the 'kde' kind for kernel density estimation\n",
    "# sb.displot(pokemon['speed'], kind='kde');"
   ]
  },
  {
   "cell_type": "markdown",
   "metadata": {},
   "source": [
    "- Kernel density information is one way of estimating the probability density function of a variable\n",
    "- In a KDE plot you can think of each observation as replaced by a small 'lump' of area. Stacking these lamps all together produces the final density curve.\n",
    "- Seaborn's `distplot` function calls another function, `kdeplot`, to generate the KDE\n",
    "- The demonstration code below also uses a third function called by `distplot` for illustration, `rugplot()`.\n",
    "- In a rugplot, data points are depicted as dashes on a number line."
   ]
  },
  {
   "cell_type": "markdown",
   "metadata": {},
   "source": [
    "### Demonstrating distplot() and rugplot() to plot the KDE"
   ]
  },
  {
   "cell_type": "code",
   "execution_count": 75,
   "metadata": {},
   "outputs": [
    {
     "name": "stderr",
     "output_type": "stream",
     "text": [
      "/home/mark/anaconda3/envs/data_analysis/lib/python3.9/site-packages/seaborn/distributions.py:2619: FutureWarning: `distplot` is a deprecated function and will be removed in a future version. Please adapt your code to use either `displot` (a figure-level function with similar flexibility) or `kdeplot` (an axes-level function for kernel density plots).\n",
      "  warnings.warn(msg, FutureWarning)\n",
      "/home/mark/anaconda3/envs/data_analysis/lib/python3.9/site-packages/seaborn/distributions.py:2103: FutureWarning: The `axis` variable is no longer used and will be removed. Instead, assign variables directly to `x` or `y`.\n",
      "  warnings.warn(msg, FutureWarning)\n",
      "/home/mark/anaconda3/envs/data_analysis/lib/python3.9/site-packages/seaborn/distributions.py:2619: FutureWarning: `distplot` is a deprecated function and will be removed in a future version. Please adapt your code to use either `displot` (a figure-level function with similar flexibility) or `kdeplot` (an axes-level function for kernel density plots).\n",
      "  warnings.warn(msg, FutureWarning)\n",
      "/home/mark/anaconda3/envs/data_analysis/lib/python3.9/site-packages/seaborn/distributions.py:1699: FutureWarning: The `bw` parameter is deprecated in favor of `bw_method` and `bw_adjust`. Using 1 for `bw_method`, but please see the docs for the new parameters and update your code.\n",
      "  warnings.warn(msg, FutureWarning)\n",
      "/home/mark/anaconda3/envs/data_analysis/lib/python3.9/site-packages/seaborn/distributions.py:2103: FutureWarning: The `axis` variable is no longer used and will be removed. Instead, assign variables directly to `x` or `y`.\n",
      "  warnings.warn(msg, FutureWarning)\n",
      "/home/mark/anaconda3/envs/data_analysis/lib/python3.9/site-packages/seaborn/distributions.py:2619: FutureWarning: `distplot` is a deprecated function and will be removed in a future version. Please adapt your code to use either `displot` (a figure-level function with similar flexibility) or `kdeplot` (an axes-level function for kernel density plots).\n",
      "  warnings.warn(msg, FutureWarning)\n",
      "/home/mark/anaconda3/envs/data_analysis/lib/python3.9/site-packages/seaborn/distributions.py:1699: FutureWarning: The `bw` parameter is deprecated in favor of `bw_method` and `bw_adjust`. Using 1.5 for `bw_method`, but please see the docs for the new parameters and update your code.\n",
      "  warnings.warn(msg, FutureWarning)\n",
      "/home/mark/anaconda3/envs/data_analysis/lib/python3.9/site-packages/seaborn/distributions.py:1708: UserWarning: Support for alternate kernels has been removed. Using Gaussian kernel.\n",
      "  warnings.warn(msg, UserWarning)\n",
      "/home/mark/anaconda3/envs/data_analysis/lib/python3.9/site-packages/seaborn/distributions.py:2103: FutureWarning: The `axis` variable is no longer used and will be removed. Instead, assign variables directly to `x` or `y`.\n",
      "  warnings.warn(msg, FutureWarning)\n"
     ]
    },
    {
     "data": {
      "image/png": "[encoded data removed]",
      "text/plain": [
       "<Figure size 864x360 with 3 Axes>"
      ]
     },
     "metadata": {
      "needs_background": "light"
     },
     "output_type": "display_data"
    }
   ],
   "source": [
    "data = [0.0, 3.0, 4.5, 8.0]\n",
    "plt.figure(figsize=[12, 5])\n",
    "\n",
    "# left plot: showing kde lumps with the default settings\n",
    "plt.subplot(1, 3, 1)\n",
    "sb.distplot(data, hist=False, rug=True, rug_kws={'color': 'r'})\n",
    "\n",
    "# central plot: kde with narrow bandwidth to show individual probability lumps\n",
    "plt.subplot(1, 3, 2)\n",
    "sb.distplot(data, hist=False, rug=True, rug_kws={'color': 'r'}, kde_kws={'bw': 1})\n",
    "\n",
    "# right plot: choosing a different, triangular kernel function (lump shape)\n",
    "plt.subplot(1, 3, 3)\n",
    "sb.distplot(data, hist=False, rug=True, rug_kws={'color': 'r'}, kde_kws={'bw': 1.5, 'kernel': 'tri'});"
   ]
  },
  {
   "cell_type": "markdown",
   "metadata": {},
   "source": [
    "- The vertical axis indicates a density of data rather than straightforward proportions\n",
    "- Under a KDE plot, the total area between the 0-line and the curve will be 1.\n",
    "- The probability of an outcome falling between two values is found by computing the area under the curve that falls between those values. Making area judgments like this without computer assistance is difficult and likely to be inaccurate."
   ]
  },
  {
   "cell_type": "markdown",
   "metadata": {},
   "source": [
    "### Waffle Plots\n",
    "- Analternative univariate plot type that you might see for categorical data is the **waffle plot** also known as the square pie chart\n",
    "- It's plotted onto a square divided into a `10 X 10` grid. Each small square represents `1%` of the data and a number of squares are colored by category to indicate total proportions\n",
    "- There is no built in function for waffle plots inmatpltolib or seaborn (you have to build one with available tools)"
   ]
  },
  {
   "cell_type": "markdown",
   "metadata": {},
   "source": [
    "### Lesson 3 overview\n",
    "1. __Univariate visualizations__ - Visualize single variables such as bar charts, histograms and inline charts.\n",
    "2. __Bivariate visualizations__ - plots representing the relationships between two variables measured on the given sample data. These plots help to identify the relationship pattern between the two variables\n",
    "3. __Ordinal data__ - categorical data type where the variables have natural and ordered categories.The distances between the categories are unknown, such as the survey options presented on a five-point scale.\n",
    "\n",
    "- [You can plot univariate visualizations with Pandas as well](https://www.kaggle.com/code/residentmario/univariate-plotting-with-pandas/notebook)"
   ]
  },
  {
   "cell_type": "code",
   "execution_count": null,
   "metadata": {},
   "outputs": [],
   "source": []
  }
 ],
 "metadata": {
  "kernelspec": {
   "display_name": "Python 3.9.12 ('data_analysis')",
   "language": "python",
   "name": "python3"
  },
  "language_info": {
   "codemirror_mode": {
    "name": "ipython",
    "version": 3
   },
   "file_extension": ".py",
   "mimetype": "text/x-python",
   "name": "python",
   "nbconvert_exporter": "python",
   "pygments_lexer": "ipython3",
   "version": "3.9.12"
  },
  "orig_nbformat": 4,
  "vscode": {
   "interpreter": {
    "hash": "8dc482c6d0e28c8f5d20d44b11c27cb87684a7eac92217e9d475a001f9707366"
   }
  }
 },
 "nbformat": 4,
 "nbformat_minor": 2
}
