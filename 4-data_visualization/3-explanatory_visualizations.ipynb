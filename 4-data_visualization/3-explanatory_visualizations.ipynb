{
 "cells": [
  {
   "cell_type": "markdown",
   "metadata": {},
   "source": [
    "# Introduction\n",
    "- There are two main reasons for creating data visualizations; __exploratory analysis__ and __explanatory analysis__\n",
    "- Exploratory analysis is done when you are searching for insights in your data. Visualizations created in this stage dont need to be polished, they only need to convey information for you to answer your research questions\n",
    "- Explanatory analysis is done when you communicate your findings to others. These visualizations need to emphasize the key messages that you want the viewer to understand\n",
    "- Compared to exploratory plots, explanatory plots should be polished so that their purpose is clear and easy to obtain\n",
    "- The goal is to make sure that your reader's interpretation matches what you want to convey\n",
    "\n",
    "##### Objectives\n",
    "1. Steps to tell a story usig=ng data\n",
    "2. Tools and techniques to polish plots\n",
    "3. Presenting findings using a slide deck\n",
    "4. Getting and using feedback"
   ]
  },
  {
   "cell_type": "markdown",
   "metadata": {},
   "source": [
    "# Revisiting the Data Analysis Process\n",
    "- The five steps of the data analysis process are:\n",
    "    1. **Extract** - obtain the data from a spreadsheet, SQL, the web etc\n",
    "    2. **Clean** - Here we could use exploratory visuals\n",
    "    3. **Explore** - exploratory visuals\n",
    "    4. **Analyze** - both exploratory and explanatory visuals\n",
    "    5. **Share** - where explanatory visuals live\n",
    "\n",
    "- In phases with exploratory visualizations the primary audience is the analyst, the plots arent particularly polished, just descriptive enough to gain insights into the data\n",
    "- With **explanatory analyses**  the audience will be broader, the goal is to convey findings to people who don't have the level of hands-on-experience with the data as you\n",
    "- Visualizations should be focused on telling a specific story that you want to convey to that particular audience\n",
    "- Many times these visualizations evolve from visuals created during the exploratory process, just polished up to highlight the specific intended insights\n",
    "- These highlights might change depending on the audience you are presenting to"
   ]
  },
  {
   "cell_type": "markdown",
   "metadata": {},
   "source": [
    "# Tell A Story\n",
    "- Stories have the power of captivating in a way that facts just cannot compete\n",
    "- When you are presenting your findings make sure to tell a story.\n",
    "- When telling a story about data you should start with a compelling question.If you are providing an entire presentation, supplement your question with engaging visuals\n",
    "- Continue to motivate your question with additional examples or deeper questions to help your audience further engage and understand the context of your question\n",
    "- Repetition of the problem is a good thing, it can be simply and clearly explicit\n",
    "- Repetition in videos and audio cues helps your audience move your question to long term memory\n",
    "- Now provide the data that provides an answer to that question. Highlight the answers so that no one can miss it\n",
    "- Conclude with a call to action for your audience. Data by itself does not move people to take action. You must motivate the action\n",
    "- Data can assist in your conclusion but you must rovide the context for the next steps for your audience to take\n",
    "\n",
    "##### Results\n",
    "1. Start with a Question\n",
    "2. Repetition is a good thing\n",
    "3. Highlight the answer\n",
    "4. Call your Audience to Action"
   ]
  },
  {
   "cell_type": "markdown",
   "metadata": {},
   "source": [
    "# Telling A Story Example\n",
    "- Refer to `A two-stories-data.pdf`\n",
    "\n",
    "##### First Visual\n",
    "*\n",
    "\n",
    "##### Second Visual\n",
    "- This visual does not highlight any aspect too much. All the bars and axes names are the same. If we were showing this data in a presentation, we might show this, and then highlight the findings with two large statements. \"No your control is not lost forever - check your hand!\"\n",
    "\n",
    "## student-science-interest.csv\n",
    "- __Question__: Do more students feel science is interesting after attending the science camp?\n",
    "* __Approach__: stacked bar chart that highlights the comparison of the percentage in student's feelings before and after the science camp.\n",
    "\n",
    "### Students Science Interest\n",
    "![](data/screen-shot-2021-05-20-at-11.33.27-am.png)"
   ]
  },
  {
   "cell_type": "markdown",
   "metadata": {},
   "source": [
    "- Although a similar percentage of students who feel science is not great or boring, it's very clear that there is a large increase in the percentage of students who feel science is interesting or exciting.\n",
    "\n",
    "* __Conclusion__: we should have more science camps because they will increase student's interest in science."
   ]
  },
  {
   "cell_type": "code",
   "execution_count": null,
   "metadata": {},
   "outputs": [],
   "source": []
  },
  {
   "cell_type": "markdown",
   "metadata": {},
   "source": [
    "# Polishing Plots\n",
    "- In order to convey your findings to others quickly and efficiently, you'll need to put work into polishing your plots\n",
    "- There are many dimensions to consider when putting together a polished plot:\n",
    "\n",
    "### Choosing an appropriate plot\n",
    "- Choice of plots depends on the number of variables and their types; nominal, ordinal, discreet numeric or continuous\n",
    "- It also depends on the specific relationship that you want to conve i.e whether you choose a violin plot, box plot or adapted bar chart depends on how much data you have abd whether the distributions are significant or important\n",
    "- You'll be more likely to use a violin plot if you have alot of data and the distributions are meaningful and more inclined to use a box plot or a bar chart if you have less data or the distributions are less reliable\n",
    "\n",
    "### Choose appropritate encodings\n",
    "- Your variables should impact not just the type of plot that is chosen but the varaible encodings i.e if you have three numeric variables you shouldn't just assign x-postion, y-position and color encodings randomly\n",
    "- In many cases the two variables that are most important should take the positional encodings: if one represents an outcome or dependent varaible then it should be plotted on the y-axis\n",
    "- In other cases, it makes sense to plot the dependent measure with color, as though you are taking a top-down view of the plane defined by the two independent measures plotted on the axes.\n",
    "\n",
    "### Pay attention to design integrity\n",
    "- When setting plotting parameters remember the design principles\n",
    "- Make sure to minimize chart junk and maximize data to ink ratio, as far as it mantains good intepretability of the data\n",
    "- When deciding whether or not to add non positional encodings, make sure they are meaningful\n",
    "- _For example, using color in a frequency bar chart may not be necessary on its own, but will be useful if those colors are used again later in the same presentation, matched with their original groups. By the same token, avoid using the same color scheme for different variables to minimize the chance of reader confusion._\n",
    "- Ensure your plot avoids lie factors as much as possible ( _If you have a bar chart or histogram, it is best to anchor them to a 0 baseline. If you're employing a scale transformation, signal this clearly in the title, axis labels, and tick marks._)\n",
    "\n",
    "### Label axes and choose appropriate tick marks\n",
    "- For positonal axes make sure to include axis labels\n",
    "- When you add an axis label make sure to include the units of measurement if applicable\n",
    "- As for tick marks, you should include at least three tick marks on each axis. This is especially important for data that has been transformed: you want enough tick marks so that the scale of the data can be communicated there. If your values are very large or very small numbers, consider using abbreviations to relabel the ticks (e.g., use \"250K\" instead of \"250000\")\n",
    "\n",
    "### Provide legends for non positional values\n",
    "- Make sure that you add a legend for variables not depicted on the axes of your plot.\n",
    "- For color encoding, you can add a color bar to the side of the plot. The most important new thing here is that you provide a descriptive label to your legend or color bar, just as you would the axes of your plot.\n",
    "\n",
    "### Title your plot and include descriptive comments\n",
    "- Provide a descriptive title to your plot. If this is a key plot that presents important findings to others, aim to create a title that draws attention to those main points, rather than just state what variables are plotted.\n",
    "- While a visualization might be the core mechanism by which you convey findings, it need not stand alone. Comments in the text below or surrounding the plot can provide valuable context to help the reader understand your message, or reinforce the main points that they should have gotten."
   ]
  },
  {
   "cell_type": "markdown",
   "metadata": {},
   "source": [
    "## Using Matplotlib to Polish Plots\n",
    "- General way that visualizations are structured in `matplotlib` and `seaborn`:\n",
    "    * each visualization is based on a single Figure, which contains one or more Axes, and each Axes houses elements like points, lines, and boxes that depict the plotted data.\n",
    "- Understanding and making use of this structure will open up your ability to polish your visualizations.\n",
    "- Functions;\n",
    "1. [`figure`](https://matplotlib.org/stable/api/_as_gen/matplotlib.pyplot.figure.html) (Figure) - Used to create a new figure. You'll use this first to initialize the figure, most often using the \"figsize\" parameter to set the figure dimensions.\n",
    "2. [`xlabel`](https://matplotlib.org/stable/api/_as_gen/matplotlib.pyplot.xlabel.html) and [`ylabel`](https://matplotlib.org/stable/api/_as_gen/matplotlib.pyplot.ylabel.html) (Axes) - used for setting axes labels\n",
    "3. [`xticks`](https://matplotlib.org/stable/api/_as_gen/matplotlib.pyplot.xticks.html) and [`yticks`](https://matplotlib.org/stable/api/_as_gen/matplotlib.pyplot.yticks.html) (Axes) - used for setting tick marks\n",
    "4. [`legend`](https://matplotlib.org/stable/api/_as_gen/matplotlib.pyplot.legend.html) (Axes) - used to create and customize a legend. One key parameter to use is \"title\", which allows you to label what feature is being depicted in the legend. You might also need to make use of the \"loc\" and \"ncol\" parameters to move and shape the legend if it gets placed in an awkward location by default.\n",
    "5. [`colorbar`](https://matplotlib.org/stable/api/_as_gen/matplotlib.pyplot.colorbar.html) (Axes) - used to add a colorbar to a plot. Use the \"label\" parameter to set the label on a colorbar.\n",
    "6. [`title`](https://matplotlib.org/stable/api/_as_gen/matplotlib.pyplot.title.html) (Axes) - used for setting axis titles\n",
    "7. [`suptitle`](https://matplotlib.org/stable/api/_as_gen/matplotlib.pyplot.suptitle.htmlhttps://matplotlib.org/stable/api/_as_gen/matplotlib.pyplot.grid.html) (Figure) -  used for setting figure titles. The main difference between `suptitle` and `title` is that the former sets a title for the Figure as a whole, and the latter for only a single Axes. This is an important distinction: if you're using faceting or subplotting, you'll want to use suptitle to set a title for the figure as a whole."
   ]
  },
  {
   "cell_type": "markdown",
   "metadata": {},
   "source": [
    "* This example makes use of the fuel economy dataset.\n",
    "* Since a colorbar is being added to the plot, figsize is used to make the figure a little bit wider than normal. Title, axes, and colorbar are all labeled.\n",
    "*  Note how the units of each feature being plotted are given in parentheses in each label"
   ]
  },
  {
   "cell_type": "code",
   "execution_count": 7,
   "metadata": {},
   "outputs": [],
   "source": [
    "import pandas as pd\n",
    "import numpy as np\n",
    "import matplotlib.pyplot as plt\n",
    "import seaborn as sb\n",
    "\n",
    "%matplotlib inline"
   ]
  },
  {
   "cell_type": "code",
   "execution_count": 3,
   "metadata": {},
   "outputs": [
    {
     "data": {
      "text/plain": [
       "<matplotlib.colorbar.Colorbar at 0x7f3d3350ff10>"
      ]
     },
     "execution_count": 3,
     "metadata": {},
     "output_type": "execute_result"
    },
    {
     "data": {
      "image/png": "[encoded data removed]",
      "text/plain": [
       "<Figure size 504x288 with 2 Axes>"
      ]
     },
     "metadata": {
      "needs_background": "light"
     },
     "output_type": "display_data"
    }
   ],
   "source": [
    "# loading in the data, sampling to reduce points plotted\n",
    "fuel_econ = pd.read_csv('./data/fuel-econ.csv')\n",
    "\n",
    "np.random.seed(2018)\n",
    "sample = np.random.choice(fuel_econ.shape[0], 200, replace=False)\n",
    "fuel_econ_subset = fuel_econ.loc[sample]\n",
    "\n",
    "# plotting the data\n",
    "plt.figure(figsize=[7, 4])\n",
    "plt.scatter(data=fuel_econ_subset, x='displ', y='comb', c='co2',cmap='viridis_r')\n",
    "plt.title('Fuel Efficiency and CO2 Output by Engine Size')\n",
    "plt.xlabel('Displacement (l)')\n",
    "plt.ylabel('Combined Fuel Eff. (mpg)')\n",
    "plt.colorbar(label='CO2 (g/mi)')"
   ]
  },
  {
   "cell_type": "markdown",
   "metadata": {},
   "source": [
    "## Quiz\n",
    "##### Task\n",
    "- Perform polishing and cleaning steps for the following multivariate plot, where the relationship between height and weight are depicted for the Fairy and Dragon Pokémon types. You'll need to do more than just add meaningful labels and titles to the plot. Pay attention to the interpretability of tick marks and the ability to associate each point to a type of Pokemon.\n",
    "- For reference, height is in terms of meters and weight is in terms of kilograms. One other thing you might try is to change the colors mapped to each type to match those given by the game series. Fairy is depicted with a light pink (hex code #ee99ac) while Dragon is associated with a medium purple (hex code #7038f8). (Type colors taken from [Pokémon Wiki Bulbapedia](https://bulbapedia.bulbagarden.net/wiki/Category:Type_color_templates).)"
   ]
  },
  {
   "cell_type": "code",
   "execution_count": 4,
   "metadata": {},
   "outputs": [
    {
     "data": {
      "text/html": [
       "<div>\n",
       "<style scoped>\n",
       "    .dataframe tbody tr th:only-of-type {\n",
       "        vertical-align: middle;\n",
       "    }\n",
       "\n",
       "    .dataframe tbody tr th {\n",
       "        vertical-align: top;\n",
       "    }\n",
       "\n",
       "    .dataframe thead th {\n",
       "        text-align: right;\n",
       "    }\n",
       "</style>\n",
       "<table border=\"1\" class=\"dataframe\">\n",
       "  <thead>\n",
       "    <tr style=\"text-align: right;\">\n",
       "      <th></th>\n",
       "      <th>id</th>\n",
       "      <th>species</th>\n",
       "      <th>generation_id</th>\n",
       "      <th>height</th>\n",
       "      <th>weight</th>\n",
       "      <th>base_experience</th>\n",
       "      <th>type_1</th>\n",
       "      <th>type_2</th>\n",
       "      <th>hp</th>\n",
       "      <th>attack</th>\n",
       "      <th>defense</th>\n",
       "      <th>speed</th>\n",
       "      <th>special-attack</th>\n",
       "      <th>special-defense</th>\n",
       "    </tr>\n",
       "  </thead>\n",
       "  <tbody>\n",
       "    <tr>\n",
       "      <th>0</th>\n",
       "      <td>1</td>\n",
       "      <td>bulbasaur</td>\n",
       "      <td>1</td>\n",
       "      <td>0.7</td>\n",
       "      <td>6.9</td>\n",
       "      <td>64</td>\n",
       "      <td>grass</td>\n",
       "      <td>poison</td>\n",
       "      <td>45</td>\n",
       "      <td>49</td>\n",
       "      <td>49</td>\n",
       "      <td>45</td>\n",
       "      <td>65</td>\n",
       "      <td>65</td>\n",
       "    </tr>\n",
       "    <tr>\n",
       "      <th>1</th>\n",
       "      <td>2</td>\n",
       "      <td>ivysaur</td>\n",
       "      <td>1</td>\n",
       "      <td>1.0</td>\n",
       "      <td>13.0</td>\n",
       "      <td>142</td>\n",
       "      <td>grass</td>\n",
       "      <td>poison</td>\n",
       "      <td>60</td>\n",
       "      <td>62</td>\n",
       "      <td>63</td>\n",
       "      <td>60</td>\n",
       "      <td>80</td>\n",
       "      <td>80</td>\n",
       "    </tr>\n",
       "    <tr>\n",
       "      <th>2</th>\n",
       "      <td>3</td>\n",
       "      <td>venusaur</td>\n",
       "      <td>1</td>\n",
       "      <td>2.0</td>\n",
       "      <td>100.0</td>\n",
       "      <td>236</td>\n",
       "      <td>grass</td>\n",
       "      <td>poison</td>\n",
       "      <td>80</td>\n",
       "      <td>82</td>\n",
       "      <td>83</td>\n",
       "      <td>80</td>\n",
       "      <td>100</td>\n",
       "      <td>100</td>\n",
       "    </tr>\n",
       "    <tr>\n",
       "      <th>3</th>\n",
       "      <td>4</td>\n",
       "      <td>charmander</td>\n",
       "      <td>1</td>\n",
       "      <td>0.6</td>\n",
       "      <td>8.5</td>\n",
       "      <td>62</td>\n",
       "      <td>fire</td>\n",
       "      <td>NaN</td>\n",
       "      <td>39</td>\n",
       "      <td>52</td>\n",
       "      <td>43</td>\n",
       "      <td>65</td>\n",
       "      <td>60</td>\n",
       "      <td>50</td>\n",
       "    </tr>\n",
       "    <tr>\n",
       "      <th>4</th>\n",
       "      <td>5</td>\n",
       "      <td>charmeleon</td>\n",
       "      <td>1</td>\n",
       "      <td>1.1</td>\n",
       "      <td>19.0</td>\n",
       "      <td>142</td>\n",
       "      <td>fire</td>\n",
       "      <td>NaN</td>\n",
       "      <td>58</td>\n",
       "      <td>64</td>\n",
       "      <td>58</td>\n",
       "      <td>80</td>\n",
       "      <td>80</td>\n",
       "      <td>65</td>\n",
       "    </tr>\n",
       "  </tbody>\n",
       "</table>\n",
       "</div>"
      ],
      "text/plain": [
       "   id     species  generation_id  height  weight  base_experience type_1  \\\n",
       "0   1   bulbasaur              1     0.7     6.9               64  grass   \n",
       "1   2     ivysaur              1     1.0    13.0              142  grass   \n",
       "2   3    venusaur              1     2.0   100.0              236  grass   \n",
       "3   4  charmander              1     0.6     8.5               62   fire   \n",
       "4   5  charmeleon              1     1.1    19.0              142   fire   \n",
       "\n",
       "   type_2  hp  attack  defense  speed  special-attack  special-defense  \n",
       "0  poison  45      49       49     45              65               65  \n",
       "1  poison  60      62       63     60              80               80  \n",
       "2  poison  80      82       83     80             100              100  \n",
       "3     NaN  39      52       43     65              60               50  \n",
       "4     NaN  58      64       58     80              80               65  "
      ]
     },
     "execution_count": 4,
     "metadata": {},
     "output_type": "execute_result"
    }
   ],
   "source": [
    "pokemon = pd.read_csv('./data/pokemon.csv')\n",
    "pokemon.head()"
   ]
  },
  {
   "cell_type": "code",
   "execution_count": 5,
   "metadata": {},
   "outputs": [],
   "source": [
    "# data processing: isolate only fairy and dragon type Pokemon\n",
    "type_cols = ['type_1', 'type_2']\n",
    "non_type_cols = pokemon.columns.difference(type_cols)\n",
    "pkmn_types = pokemon.melt(id_vars=non_type_cols, value_vars=type_cols,var_name='type_level', value_name='type').dropna()\n",
    "\n",
    "pokemon_sub = pkmn_types.loc[pkmn_types['type'].isin(['fairy', 'dragon'])]"
   ]
  },
  {
   "cell_type": "code",
   "execution_count": 8,
   "metadata": {},
   "outputs": [
    {
     "name": "stderr",
     "output_type": "stream",
     "text": [
      "/home/mark/anaconda3/envs/data_analysis/lib/python3.9/site-packages/seaborn/axisgrid.py:337: UserWarning: The `size` parameter has been renamed to `height`; please update your code.\n",
      "  warnings.warn(msg, UserWarning)\n"
     ]
    },
    {
     "data": {
      "text/plain": [
       "<seaborn.axisgrid.FacetGrid at 0x7f3d30afa790>"
      ]
     },
     "execution_count": 8,
     "metadata": {},
     "output_type": "execute_result"
    },
    {
     "data": {
      "image/png": "[encoded data removed]",
      "text/plain": [
       "<Figure size 360x360 with 1 Axes>"
      ]
     },
     "metadata": {
      "needs_background": "light"
     },
     "output_type": "display_data"
    }
   ],
   "source": [
    "# MODIFY THIS CODE\n",
    "g = sb.FacetGrid(data=pokemon_sub, hue='type', size=5)\n",
    "g.map(plt.scatter, 'weight', 'height')\n",
    "g.set(xscale='log')"
   ]
  },
  {
   "cell_type": "markdown",
   "metadata": {},
   "source": [
    "### Polishing the plot"
   ]
  },
  {
   "cell_type": "code",
   "execution_count": 9,
   "metadata": {},
   "outputs": [
    {
     "name": "stderr",
     "output_type": "stream",
     "text": [
      "/home/mark/anaconda3/envs/data_analysis/lib/python3.9/site-packages/seaborn/axisgrid.py:337: UserWarning: The `size` parameter has been renamed to `height`; please update your code.\n",
      "  warnings.warn(msg, UserWarning)\n"
     ]
    },
    {
     "data": {
      "image/png": "[encoded data removed]",
      "text/plain": [
       "<Figure size 360x360 with 1 Axes>"
      ]
     },
     "metadata": {
      "needs_background": "light"
     },
     "output_type": "display_data"
    }
   ],
   "source": [
    "def polishing_solution_1():\n",
    "    # data setup\n",
    "    pokemon = pd.read_csv('./data/pokemon.csv')\n",
    "    type_cols = ['type_1', 'type_2']\n",
    "    non_type_cols = pokemon.columns.difference(type_cols)\n",
    "    pkmn_types = pokemon.melt(id_vars=non_type_cols, value_vars=type_cols, var_name='type_level', value_name='type').dropna()\n",
    "    pokemon_sub = pkmn_types.loc[pkmn_types['type'].isin(['fairy', 'dragon'])]\n",
    "    # set up a dictionary to map types to colors\n",
    "    type_colors = {'fairy': '#ee99ac', 'dragon': '#7038f8'}\n",
    "    # plotting\n",
    "    g = sb.FacetGrid(data=pokemon_sub, hue='type', size=5, palette=type_colors)\n",
    "    g.map(plt.scatter, 'weight', 'height')\n",
    "    g.set(xscale='log')  # need to set scaling before customizing ticks\n",
    "    x_ticks = [0.1, 0.3, 1, 3, 10, 30, 100, 300, 1000]\n",
    "    g.set(xticks=x_ticks, xticklabels=x_ticks)\n",
    "    # add labels and titles\n",
    "    g.set_xlabels('Weight (kg)')\n",
    "    g.set_ylabels('Height (m)')\n",
    "    plt.title('Heights and Weights for Fairy- and Dragon-type Pokemon')\n",
    "    plt.legend(['Fairy', 'Dragon'], title='Pokemon Type')\n",
    "\n",
    "polishing_solution_1()"
   ]
  },
  {
   "cell_type": "markdown",
   "metadata": {},
   "source": [
    "- created labels for the individual axes, including units of measurement.\n",
    "- added a descriptive title for the plot.\n",
    "- On the x-axis: changed the default tick marks to be plain numbers, using a 1-3-10 scheme. \n",
    "- added a legend to the plot to associate each point to a Pokemon type.\n",
    "- To set up the custom colors, I added a 'palette' argument to the FacetGrid call, pointing to a dictionary associating each type to a color. The legend was added using matplotlib, so that the Pokemon types could be capitalized."
   ]
  },
  {
   "cell_type": "markdown",
   "metadata": {},
   "source": [
    "# Creating a Slide Deck with Jupyter\n",
    "- They are many ways in which you can use explanatory visualizations to convey findings to others\n",
    "- You might save the plots on your own and embed them in a report or blog post\n",
    "- Visualizations also have a major place in presentations, as part of a slide deck\n",
    "- Jupyter notebooks include a tool [nbconvert](https://nbconvert.readthedocs.io/en/latest/) that can export notebooks in an HTML slides format\n",
    "- If you're planning on creating a slide deck presentation through a Jupyter notebook, it's a good idea to create a new notebook that is separate from your original, exploratory, work. This way, your explanatory work will be focused, and there will be fewer elements to categorize. To start, you need to categorize the type of slide element that each cell will correspond with. From the menu bar, select **View > Cell Toolbar > Slideshow**. You'll see a drop down appear in the upper right hand corner of each cell, from which you can assign slide element types.\n",
    "\n",
    "* [Supporting Materials](https://classroom.udacity.com/nanodegrees/nd002-alg-t2/parts/cd0016/modules/7e1817ca-5505-4583-b772-2e50d49a14a0/lessons/ls2238/concepts/246bf088-8b48-4f4e-988e-df8868efde4a)"
   ]
  },
  {
   "cell_type": "markdown",
   "metadata": {},
   "source": [
    "# Getting and using Feedback\n",
    "- When putting together a report or presentation to communicate results to others it never hurts to get outside eyes on your work to make sure that your findings are conveyed clearly\n",
    "- Asking colleagues, friends, or family to provide feedback can be a good step to making sure that the story that you wish to tell hits its mark.\n",
    "- When you present your work to the reader, let them go through the work for themselves first. Then, follow up with them to check whether or not their conclusions match what you were hoping to convey.\n",
    "- The following questions might be good starters; be sure to follow up or come up with your own questions:\n",
    "    1. What did you notice about each visuaization?\n",
    "    2. What questions do you have about the data?\n",
    "    3. What relationships do you notice?\n",
    "    4. What do you think is the main takeaway from the report or presentation?\n",
    "    5. Is there anything that you don't understand from the plots?\n",
    "- Use the feedback that you get from your reader to iterate on and improve on your designs.\n",
    "- The alternative perspective that they have may reveal things that you didn't consider or points that require further clarification."
   ]
  },
  {
   "cell_type": "code",
   "execution_count": null,
   "metadata": {},
   "outputs": [],
   "source": []
  }
 ],
 "metadata": {
  "kernelspec": {
   "display_name": "Python 3.9.12 ('data_analysis')",
   "language": "python",
   "name": "python3"
  },
  "language_info": {
   "codemirror_mode": {
    "name": "ipython",
    "version": 3
   },
   "file_extension": ".py",
   "mimetype": "text/x-python",
   "name": "python",
   "nbconvert_exporter": "python",
   "pygments_lexer": "ipython3",
   "version": "3.9.12"
  },
  "orig_nbformat": 4,
  "vscode": {
   "interpreter": {
    "hash": "8dc482c6d0e28c8f5d20d44b11c27cb87684a7eac92217e9d475a001f9707366"
   }
  }
 },
 "nbformat": 4,
 "nbformat_minor": 2
}
