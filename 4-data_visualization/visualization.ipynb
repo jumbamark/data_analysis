{
 "cells": [
  {
   "cell_type": "markdown",
   "metadata": {},
   "source": [
    "# Concept 01:\n",
    "# Introduction to Data Visualization\n",
    "- Two main topoics will be covered:\n",
    "    1. __Exploratory Data Visualization__ - used to understand the structure of your data faster than statistics would be able to load. This visualization is used once you are ready to start investigating your gathered data\n",
    "    \n",
    "    2. __Explanatory Data Visualization__ - created at the end of your analysis, used to convey your findings to others or to tell a story."
   ]
  },
  {
   "cell_type": "markdown",
   "metadata": {},
   "source": [
    "### Prerequisite\n",
    "1. You can use Anaconda to manage packages and environments for use with python\n",
    "2. You can use Jupyter notebook to combine explanatory text, math equations, code and visualizations in one sharable document\n",
    "3. Basic python skills: use Numoy and Pandas to wrangle, explore analyze and visualize data\n",
    "4. Basic statics and probability concepts such as linear regression, the normal distribution"
   ]
  },
  {
   "cell_type": "markdown",
   "metadata": {},
   "source": [
    "## Summary Statistics vs Visualizations\n",
    "- Summary statistics like  mean and standard and standard deviation can be great for attempting to quickly understand aspects of a dataset but they can also be too misleading if you make too many assumptions about how the data distribution looks\n",
    "\n",
    "### Motivation\n",
    "- the four data sets of X, Y pairs in `data/anscombes-quartet.xlsx` all share the same mean, variance, correlation, standard deviation and line of best fit\n"
   ]
  },
  {
   "cell_type": "code",
   "execution_count": 2,
   "metadata": {},
   "outputs": [],
   "source": [
    "import pandas as pd\n",
    "import matplotlib.pyplot as plt"
   ]
  },
  {
   "cell_type": "code",
   "execution_count": 3,
   "metadata": {},
   "outputs": [],
   "source": [
    "df = pd.read_excel(\"data/anscombes-quartet.xlsx\")"
   ]
  },
  {
   "cell_type": "code",
   "execution_count": 4,
   "metadata": {},
   "outputs": [
    {
     "data": {
      "text/html": [
       "<div>\n",
       "<style scoped>\n",
       "    .dataframe tbody tr th:only-of-type {\n",
       "        vertical-align: middle;\n",
       "    }\n",
       "\n",
       "    .dataframe tbody tr th {\n",
       "        vertical-align: top;\n",
       "    }\n",
       "\n",
       "    .dataframe thead th {\n",
       "        text-align: right;\n",
       "    }\n",
       "</style>\n",
       "<table border=\"1\" class=\"dataframe\">\n",
       "  <thead>\n",
       "    <tr style=\"text-align: right;\">\n",
       "      <th></th>\n",
       "      <th>X</th>\n",
       "      <th>Y</th>\n",
       "      <th>X.1</th>\n",
       "      <th>Y.1</th>\n",
       "      <th>X.2</th>\n",
       "      <th>Y.2</th>\n",
       "      <th>X.3</th>\n",
       "      <th>Y.3</th>\n",
       "    </tr>\n",
       "  </thead>\n",
       "  <tbody>\n",
       "    <tr>\n",
       "      <th>0</th>\n",
       "      <td>10</td>\n",
       "      <td>8.04</td>\n",
       "      <td>10</td>\n",
       "      <td>9.14</td>\n",
       "      <td>10</td>\n",
       "      <td>7.46</td>\n",
       "      <td>8</td>\n",
       "      <td>6.58</td>\n",
       "    </tr>\n",
       "    <tr>\n",
       "      <th>1</th>\n",
       "      <td>8</td>\n",
       "      <td>6.95</td>\n",
       "      <td>8</td>\n",
       "      <td>8.14</td>\n",
       "      <td>8</td>\n",
       "      <td>6.77</td>\n",
       "      <td>8</td>\n",
       "      <td>5.76</td>\n",
       "    </tr>\n",
       "    <tr>\n",
       "      <th>2</th>\n",
       "      <td>13</td>\n",
       "      <td>7.58</td>\n",
       "      <td>13</td>\n",
       "      <td>8.74</td>\n",
       "      <td>13</td>\n",
       "      <td>12.74</td>\n",
       "      <td>8</td>\n",
       "      <td>7.71</td>\n",
       "    </tr>\n",
       "    <tr>\n",
       "      <th>3</th>\n",
       "      <td>9</td>\n",
       "      <td>8.81</td>\n",
       "      <td>9</td>\n",
       "      <td>8.77</td>\n",
       "      <td>9</td>\n",
       "      <td>7.11</td>\n",
       "      <td>8</td>\n",
       "      <td>8.84</td>\n",
       "    </tr>\n",
       "    <tr>\n",
       "      <th>4</th>\n",
       "      <td>11</td>\n",
       "      <td>8.33</td>\n",
       "      <td>11</td>\n",
       "      <td>9.26</td>\n",
       "      <td>11</td>\n",
       "      <td>7.81</td>\n",
       "      <td>8</td>\n",
       "      <td>8.47</td>\n",
       "    </tr>\n",
       "    <tr>\n",
       "      <th>5</th>\n",
       "      <td>14</td>\n",
       "      <td>9.96</td>\n",
       "      <td>14</td>\n",
       "      <td>8.10</td>\n",
       "      <td>14</td>\n",
       "      <td>8.84</td>\n",
       "      <td>8</td>\n",
       "      <td>7.04</td>\n",
       "    </tr>\n",
       "    <tr>\n",
       "      <th>6</th>\n",
       "      <td>6</td>\n",
       "      <td>7.24</td>\n",
       "      <td>6</td>\n",
       "      <td>6.13</td>\n",
       "      <td>6</td>\n",
       "      <td>6.08</td>\n",
       "      <td>8</td>\n",
       "      <td>5.25</td>\n",
       "    </tr>\n",
       "    <tr>\n",
       "      <th>7</th>\n",
       "      <td>4</td>\n",
       "      <td>4.26</td>\n",
       "      <td>4</td>\n",
       "      <td>3.10</td>\n",
       "      <td>4</td>\n",
       "      <td>5.39</td>\n",
       "      <td>19</td>\n",
       "      <td>12.50</td>\n",
       "    </tr>\n",
       "    <tr>\n",
       "      <th>8</th>\n",
       "      <td>12</td>\n",
       "      <td>10.84</td>\n",
       "      <td>12</td>\n",
       "      <td>9.13</td>\n",
       "      <td>12</td>\n",
       "      <td>8.15</td>\n",
       "      <td>8</td>\n",
       "      <td>5.56</td>\n",
       "    </tr>\n",
       "    <tr>\n",
       "      <th>9</th>\n",
       "      <td>7</td>\n",
       "      <td>4.82</td>\n",
       "      <td>7</td>\n",
       "      <td>7.26</td>\n",
       "      <td>7</td>\n",
       "      <td>6.42</td>\n",
       "      <td>8</td>\n",
       "      <td>7.91</td>\n",
       "    </tr>\n",
       "    <tr>\n",
       "      <th>10</th>\n",
       "      <td>5</td>\n",
       "      <td>5.68</td>\n",
       "      <td>5</td>\n",
       "      <td>4.74</td>\n",
       "      <td>5</td>\n",
       "      <td>5.73</td>\n",
       "      <td>8</td>\n",
       "      <td>6.89</td>\n",
       "    </tr>\n",
       "  </tbody>\n",
       "</table>\n",
       "</div>"
      ],
      "text/plain": [
       "     X      Y  X.1   Y.1  X.2    Y.2  X.3    Y.3\n",
       "0   10   8.04   10  9.14   10   7.46    8   6.58\n",
       "1    8   6.95    8  8.14    8   6.77    8   5.76\n",
       "2   13   7.58   13  8.74   13  12.74    8   7.71\n",
       "3    9   8.81    9  8.77    9   7.11    8   8.84\n",
       "4   11   8.33   11  9.26   11   7.81    8   8.47\n",
       "5   14   9.96   14  8.10   14   8.84    8   7.04\n",
       "6    6   7.24    6  6.13    6   6.08    8   5.25\n",
       "7    4   4.26    4  3.10    4   5.39   19  12.50\n",
       "8   12  10.84   12  9.13   12   8.15    8   5.56\n",
       "9    7   4.82    7  7.26    7   6.42    8   7.91\n",
       "10   5   5.68    5  4.74    5   5.73    8   6.89"
      ]
     },
     "execution_count": 4,
     "metadata": {},
     "output_type": "execute_result"
    }
   ],
   "source": [
    "df"
   ]
  },
  {
   "cell_type": "code",
   "execution_count": 5,
   "metadata": {},
   "outputs": [
    {
     "data": {
      "text/plain": [
       "<matplotlib.collections.PathCollection at 0x7fe570d99fd0>"
      ]
     },
     "execution_count": 5,
     "metadata": {},
     "output_type": "execute_result"
    },
    {
     "data": {
      "image/png": "[encoded data removed]",
      "text/plain": [
       "<Figure size 432x288 with 1 Axes>"
      ]
     },
     "metadata": {
      "needs_background": "light"
     },
     "output_type": "display_data"
    }
   ],
   "source": [
    "list1 = df['X']\n",
    "list2 = df['Y']\n",
    "\n",
    "# scatter plot\n",
    "plt.scatter(list1, list2)"
   ]
  },
  {
   "cell_type": "code",
   "execution_count": 7,
   "metadata": {},
   "outputs": [
    {
     "data": {
      "text/plain": [
       "<matplotlib.collections.PathCollection at 0x7fe56dba2f40>"
      ]
     },
     "execution_count": 7,
     "metadata": {},
     "output_type": "execute_result"
    },
    {
     "data": {
      "image/png": "[encoded data removed]",
      "text/plain": [
       "<Figure size 432x288 with 1 Axes>"
      ]
     },
     "metadata": {
      "needs_background": "light"
     },
     "output_type": "display_data"
    }
   ],
   "source": [
    "list3 = df['X.2']\n",
    "list4 = df['Y.2']\n",
    "\n",
    "# plot\n",
    "plt.scatter(list3, list4)"
   ]
  },
  {
   "cell_type": "code",
   "execution_count": 13,
   "metadata": {},
   "outputs": [
    {
     "data": {
      "text/plain": [
       "<matplotlib.collections.PathCollection at 0x7fe56d9f49a0>"
      ]
     },
     "execution_count": 13,
     "metadata": {},
     "output_type": "execute_result"
    },
    {
     "data": {
      "image/png": "[encoded data removed]",
      "text/plain": [
       "<Figure size 432x288 with 1 Axes>"
      ]
     },
     "metadata": {
      "needs_background": "light"
     },
     "output_type": "display_data"
    }
   ],
   "source": [
    "list5 = df['X.1']\n",
    "list6 = df['Y.1']\n",
    "\n",
    "# plot\n",
    "plt.scatter(list5, list6)"
   ]
  },
  {
   "cell_type": "code",
   "execution_count": 11,
   "metadata": {},
   "outputs": [
    {
     "data": {
      "text/plain": [
       "<matplotlib.collections.PathCollection at 0x7fe56da67b20>"
      ]
     },
     "execution_count": 11,
     "metadata": {},
     "output_type": "execute_result"
    },
    {
     "data": {
      "image/png": "[encoded data removed]",
      "text/plain": [
       "<Figure size 432x288 with 1 Axes>"
      ]
     },
     "metadata": {
      "needs_background": "light"
     },
     "output_type": "display_data"
    }
   ],
   "source": [
    "list7 = df['X.3']\n",
    "list8 = df['Y.3']\n",
    "\n",
    "# plot\n",
    "plt.scatter(list7, list8)"
   ]
  },
  {
   "cell_type": "markdown",
   "metadata": {},
   "source": [
    "## Exploratory vs Explanatory Analyses\n",
    "- Visualizations can be used for two main purposes when analyzing data;\n",
    "    - __1. Exploratory analysis__\n",
    "        - Done behind the scenes. It's the type of analysis where you're searching for relationships in the data or hidden insights.\n",
    "        - Once you've collected the data, you can start asking questions about it. The way you analyze data to try and answer this questions is known as exploratory.\n",
    "        - Visualizations built for this purpose do not need to perfect.\n",
    "\n",
    "    \n",
    "    - __2. Explanatory analysis__\n",
    "        - Done after you find an insight.\n",
    "        - Visualizations need to be sorrounded by a story that point the reader to an insight that answers the question\n",
    "        - Many times these explanatory visuals were found during the exploratory process (Do not include unneeded information)\n",
    "\n",
    "- Extract -> Clean -> Explore -> Analyze -> Share\n",
    "- The visuals used for cleaning, exploring and analyzing your data are part of the explaratory data analysis. They don't need to be super pretty or clear in their message. They are for the analyst to determine what's going on in the data.\n",
    "\n",
    "- When you find an insight to share the visuals used for sharing this insight are part of the explanatory visuals. They tell the story of the finding and what it means"
   ]
  },
  {
   "cell_type": "markdown",
   "metadata": {},
   "source": [
    "## Visualization in Python.\n",
    "- Visualization libraries - ``matplotlib`` and ``seaborn``\n",
    "- Plotting functions built into the `pandas` library - general data analysis package not explicitly just for data visualization\n",
    "- Often when choosing a tool to work with there is a trade off between flexibility and productivity. Onone end there are tools with a high amount of flexibility - `matplotlib`. It's versatility allows it to be used for nearly any kind of visualization you care to create. This versatility can come with alot of verbosity.\n",
    "- There are common plots like `bar charts` that require a large amount of code to be written\n",
    "- If you are looking to be productive and generate many plots with little code libraries like `seaborn` and `pandas` come in handy. They contain alot of convenient functions to quickly generate plots of your data.\n",
    "- However the plot types generated are not exhaustive, so on their own they are not as flexible as matplotlib\n",
    "- Together, the strengths of these libraries are complementary."
   ]
  },
  {
   "cell_type": "markdown",
   "metadata": {},
   "source": [
    "# Course Structure\n",
    "- __Lesson 2: Design of Visualizations.__\n",
    "    - Data types and ways of encoding data\n",
    "    - properties of visualizations that can impact both the clarity of messaging as well as their accuracy\n",
    "- __Lesson 3-5: Exploration of Data__\n",
    "    - core visualizations in exploratory analysis\n",
    "    - Exploration starts with **univariate visualizations** to identify trends in distributions and outliers in single variables\n",
    "    - **Bivariate visualizations** follow to show relationships between variables in the data\n",
    "    - Finally **multivaraite visualization** techniques are presented to identify complex relationships between three or more variables at the same time\n",
    "- __Lesson 6: Explanatory Visualizations__\n",
    "    - considerations that should be made when moving from exploratory to explanatory analysis.\n",
    "    - considering what findings to focus on and how to use visualization techniques to highlight your main story when polishing visualizations to present to others\n",
    "    - tips on presentation of results and how to iterate on your presentations\n",
    "- __Lesson 7: Visualization Case study__"
   ]
  },
  {
   "cell_type": "markdown",
   "metadata": {},
   "source": [
    "# 2. Design of Visualizations\n",
    "- How are visualizations designed and what makes a visualization good or bad?\n",
    "- Explanatory visualizations utilize specific design principles in order to clearly and accurately convey findings\n",
    "- Design principles can also be useful in the exploratory phase of the data anlysis process.\n",
    "- Related topics:\n",
    "    1. What makes a bad visual\n",
    "    2. Levels of measurement and types of data\n",
    "    3. Continuos vs Discreet data\n",
    "    4. Identifying data types\n",
    "    5. What experts say about visual encodings\n",
    "    6. Chart Junk\n",
    "    7. Data to ink ratio\n",
    "    8. Design integrity\n",
    "    9. Using color and designing for color blindness\n",
    "    8. Shape, size and other tools"
   ]
  },
  {
   "cell_type": "markdown",
   "metadata": {},
   "source": [
    "### What makes a bad visual?\n",
    "- Bad data visualizations can be summed up as visuals that do not convey your message well.\n",
    "- If a visualizations is misleading or hides and distracts your message, you need to consider changes to your visualization\n",
    "- Visualizations become more useful as the amount of information we need to convey increases. At the same time adding extra elements to the visuals that do not convey the message in your data should be avoided."
   ]
  },
  {
   "cell_type": "markdown",
   "metadata": {},
   "source": [
    "### Levels of Measurement and Types of Data\n",
    "- You need to understand the types of data you have in order to choose an appropriate plot type or method of analysis\n",
    "- One common method divides the data into four levels of measurement:\n",
    "    - __Qualitative__ or categorical types (non-numeric types)\n",
    "        1. _Nominal data_ - pure labels without inherent order (no label is intrinsically greater or less than the other)\n",
    "        2. _Ordinal data_ - labels with an intrinsic order or ranking (comparison operations can be made between values but the magnitude of differences are not well defined)\n",
    "        \n",
    "    - __Quantitative__ or numeric types\n",
    "        * _Interval data_ - numeric values where absolute differences are meaningful (addition and subtraction operations can be made)\n",
    "        4. _Ratio data_ - numeric values where relative differences are meaningful (division and multiplication operations can be made)\n",
    "    \n",
    "- All quantitative-type variables also come in one of two varieties:\n",
    "   - **Discreet** quantitative varaibles can only take on a specific set values at some maximum level of precision\n",
    "   - **Continuous** quantitative variables can (hypothetically) take on values to any level of precision\n",
    "\n",
    "#### Discreet vs continuous\n",
    "- If there are few levels and values can't be subdivided into further units then it is discreet,otherwise it is continuous\n",
    "- If you have a scale that can only take natural numbers between 1 and 5 that's discreet\n",
    "- A quantity that can be measured to two digits i.e `2.72` is best characterized as continuous since we might hypothetically be able to measure to even more digits e.g `2.178`\n",
    "- A tricky case like test scores measured between `0` and `100` can only be divided down to single integers, making it initially seem discreete but since there are so many values, such a feature is usually considered s continuous\n",
    "- When exploring your data the most important thing to consider first is whether your data is qualitative or quantitative\n",
    "\n",
    "#### Likert Scale\n",
    "- One form of data you might encounter is response data to a __Likert scale__ like the ones below:\n",
    "\n",
    "    ![likert](data/likertscale.png)\n",
    "    - _This likert scale which happens to be graphical has five points allowing for neutrality_\n",
    "\n",
    "    ![Likert](data/6-point-likert-scale-even-survey.png)\n",
    "    -  _This likert scale has six points, not allowing for neutrality_ \n",
    "\n",
    "- What level of measurement should you consider for this kind of data?\n",
    "- Technically, responses on this kind of data should be considered _ordinal_ in nature. There is a clear order in response values, but it may not be the case that the differences between consecutive levels are consistent in size\n",
    "- The criteria to move between Strongly Disagree and Disagree might be different from the criteria between Agree and Strongly Agree\n",
    "- However, Likert data is often treated as _interval_ to simplify analyses (if you have such data you want to make sure that you use exploratory data visualizations to make a good judgement on how your data should be treated later on in the analysis process)"
   ]
  },
  {
   "cell_type": "markdown",
   "metadata": {},
   "source": [
    "### Recap\n",
    "#### Data Types\n",
    "1. Quantitative:\n",
    "    - Continuous - Height, Age, Income\n",
    "    - Discreet - Pages in a book, Trees in Yard, Dogs at a coffee shop\n",
    "\n",
    "2. Categorical:\n",
    "    - Ordinal - Letter Grade, Survey Rating\n",
    "    - Nominal - Gender, Marital Status, Breakfast items.\n",
    "\n",
    "#### Quantitative vs Categorical\n",
    "- __Height__, __Age__, the __Number of pages in a book__ and __Annual income__ all take on values that we can add, subtract and perform other operations with to gain useful insights. They are therefore `quantitative`\n",
    "- **Gender**, **Letter Grade**, **Breakfast Type**, **Marital Status** and **Zip Code** can be thought of as labels for a group of items or individuals. These are therefore `categorical`\n",
    "\n",
    "#### Continuous vs Discrete\n",
    "- Continuous data types are those that can take on decimal values, where discrete data types are those that are countable.\n",
    "- if we have continous or discreet data, we should see if we can split our data into smaller and smaller units\n",
    "- Consider time - we could measure an event in years, months, days, hours, minutes or even seconds, and even at seconds we know there are smaller units we could measure time in. Therefore we know this data type is continuous.\n",
    "- __Height__, __Age__ and __income__ are all examples of `continuous data`\n",
    "- Alternatively, the __number of pages in a book__, __dogs I count outside a coffee shop__ or __trees in a yard__ are `discreet` data. We wouldn't want to split our dogs in half.\n",
    "\n",
    "#### Ordinal vs Nominal\n",
    "- __Gender__, __Marital Status__, __Zip Code__ and your __Breakfast items__ are `nominal variables` where there is no order ranking associated with this type of data\n",
    "- Whether you ate cereal, toast, eggs or only coffee for breakfast there is no rank ordering associated with your breakfast\n",
    "- Alternatively the __Letter Grade__ or __Survey Ratings__ have a rank ordering associated with it as `ordinal data`\n",
    "- If you receive an A, this is higher than an A-. Ordinal variables frequently occur on rating scales from very poor to very good"
   ]
  },
  {
   "cell_type": "markdown",
   "metadata": {},
   "source": [
    "### Visual Encodings\n",
    "- Visual encodings are mapping from data to display elements.\n",
    "- Display elements include positions on the `x` or `y` axis, the size of points of bars, the shape of points, texture, angle, length and many more\n",
    "- How to take our data and best display it to our audience using these elements?\n",
    "- Two of the most effective methods of showing quantitative data are positions along an axis and length\n",
    "- Color should be reserved for drawing the eye of your audence to a key finding and not for differing the bars of a bar chart with no message."
   ]
  },
  {
   "cell_type": "markdown",
   "metadata": {},
   "source": [
    "### Chart Junk\n",
    "- Refers to all visual elements in charts and graphs that are not necessary to comprehend the information represented on the graph or that distract the viewer from this information.\n",
    "- Markings and visual elements canbe called chart junk if they are not a part of the minimum set of visuals necessary to communicate clearly\n",
    "- Examples of chart junk;\n",
    "    1. Heavy grid lines\n",
    "    2. Unnecessary text\n",
    "    3. Pictures sorrounding the visual\n",
    "    4. Shading or 3D elements\n",
    "    5. Ornameted chart axes"
   ]
  },
  {
   "cell_type": "markdown",
   "metadata": {},
   "source": [
    "### Data Ink Ratio\n",
    "- We've seen how we can better improve our visualizations by removing extraneous elements. We can conceptualize this relationship using the __data-to-ink ratio__\n",
    "- It is the ratio of the amount of ink used to describe the data to the total amount of ink in the visual.\n",
    "- The higher the data to ink ratio, the better, this means a large amount of ink in the visual is being used to actually describe the data while low data ink ratio suggests that you are using ink that is added for other purposes rather than describing the data"
   ]
  },
  {
   "cell_type": "markdown",
   "metadata": {},
   "source": [
    "### Design Integrity\n",
    "- It is key that when you build plots you maintain integrity for the underlying data\n",
    "- One of the main ways for looking at data integrity is the __lie factor__\n",
    "- Lie factor depicts a degree to which a visualization distorts or misintepretes the data values being plotted.\n",
    "- It's calculated in the following way;\n",
    "\n",
    "$$\n",
    "lie factor = \\frac{\\Delta visual/visual_{start}}{\\Delta data/data_{start}}\n",
    "$$\n",
    "\n",
    "- The delta symbol stands for difference or change.\n",
    "- Lie factor is therefore the relative change shown in the graohic divided by the actual relative change in the data\n",
    "- Ideally the lie factor should be `1`: any other value means there is a mismatch in the ratio of depicted change to actual change.\n",
    "- [How to Spot Visualization Lies](https://flowingdata.com/2017/02/09/how-to-spot-visualization-lies/)"
   ]
  },
  {
   "cell_type": "markdown",
   "metadata": {},
   "source": [
    "### Using Color\n",
    "- Color is an important tool in designing visualizations. It allows you to encode another variable or split your data into groups\n",
    "- There are alot of issues to consider when choosing which colors to use and how to apply them\n",
    "- Color tips:\n",
    "    1. Get it right in black and white\n",
    "        - before you begin adding color to your data visualization you should determine if you need color in the first place.\n",
    "        - Many times black, white and shades of grey will be enough to effectively convey your information\n",
    "    2. Less intense colors\n",
    "        - if you are going to use color consider using less intense colors such as natural colors or pastels.\n",
    "        - You can also add some gray value to bright colors to make them less vibrant.\n",
    "        - Colors with higher gray values have a softer feel and the eye can concentrate on them for longer periods of time\n",
    "        - Rainbow colors, primary colors and other bright bold colors create noisy visualizations that strain the eye\n",
    "    3. Make color selections that facilitate communication\n",
    "\n",
    "- Color can be a tricky component of visualization but can also encode data, lead the eye and help viewers see the most important information of a graphic "
   ]
  },
  {
   "cell_type": "markdown",
   "metadata": {},
   "source": [
    "### Designing for Color Blindness\n",
    "- Humans perceive color through signals produced by cells in the retina called cones. Light comes into the eye, hits the cones and the cones set off electrical signals to the brain\n",
    "- There are three types of connes **S**, **M** and **L** (short, medium and long). They are sensitive to different frequencies or colors of light\n",
    "- _Short cones_ prefer **blue**, _medium_ prefer **green** and _long_ cones prefer **red**\n",
    "- However around `10%` of men and `1%` of women have mutations that affect this cones and produce what is known as **colorblindness**\n",
    "- The most common form is the red green color blindness typically caused by the medium cone shifting sensitivity towards red light. People with this condition can't distinguish between red and green\n",
    "- There's actually a pretty large fraction of people that are colorblind so you should design your visualizations to include them\n",
    "- Try to stay away from red green palletes and use blue orange instead. "
   ]
  },
  {
   "cell_type": "markdown",
   "metadata": {},
   "source": [
    "### Shape, Size and Other tools\n",
    "- Sometimes you'll need additional encodings to distinguish data in a visual. For these cases you might wanna use different encodings such as shape or size\n",
    "- In a scatter plot we might change the sahpe or size of the markers\n",
    "- Data can also be encoded using different shapes but we dont encode quantitative data with shapes as we probably run out of the number of shapes to encode our values\n",
    "- You would instead need to change your data to a categorical ordinal variable and encoding quantitative data with color can be confusing\n",
    "- In general color and shape are best used for categorical variables while the size of the marker can assist in adding additional quantitative data.\n",
    "- Rather than adding additional encodings, try to break up your visual into parts where each part of your message can be conveyed\n",
    "- **Color, shape, size, and other tools of data visualization** - These are tools, but to dig most holes, you only need a shovel. Think of these additional tools as a [skid loader](https://en.wikipedia.org/wiki/Skid-steer_loader). You might need to use it, but it isn't good for digging every hole. Most data visualizations used for explanatory purposes should not use all (or any) of these tools."
   ]
  },
  {
   "cell_type": "markdown",
   "metadata": {},
   "source": [
    "### Summary\n",
    "#### Design Topics\n",
    "1. Levels of measurement\n",
    "2. Visual encodings\n",
    "3. Design integrity"
   ]
  },
  {
   "cell_type": "code",
   "execution_count": null,
   "metadata": {},
   "outputs": [],
   "source": []
  }
 ],
 "metadata": {
  "kernelspec": {
   "display_name": "Python 3.9.12 ('data_analysis')",
   "language": "python",
   "name": "python3"
  },
  "language_info": {
   "codemirror_mode": {
    "name": "ipython",
    "version": 3
   },
   "file_extension": ".py",
   "mimetype": "text/x-python",
   "name": "python",
   "nbconvert_exporter": "python",
   "pygments_lexer": "ipython3",
   "version": "3.9.12"
  },
  "orig_nbformat": 4,
  "vscode": {
   "interpreter": {
    "hash": "8dc482c6d0e28c8f5d20d44b11c27cb87684a7eac92217e9d475a001f9707366"
   }
  }
 },
 "nbformat": 4,
 "nbformat_minor": 2
}
